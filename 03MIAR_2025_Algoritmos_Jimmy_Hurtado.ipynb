{
  "nbformat": 4,
  "nbformat_minor": 0,
  "metadata": {
    "colab": {
      "provenance": [],
      "include_colab_link": true
    },
    "kernelspec": {
      "name": "python3",
      "display_name": "Python 3"
    }
  },
  "cells": [
    {
      "cell_type": "markdown",
      "metadata": {
        "id": "view-in-github",
        "colab_type": "text"
      },
      "source": [
        "<a href=\"https://colab.research.google.com/github/jimmyhbravo95/proyecto_03MIAR_ALGO_2025_JH/blob/main/03MIAR_2025_Algoritmos_Jimmy_Hurtado.ipynb\" target=\"_parent\"><img src=\"https://colab.research.google.com/assets/colab-badge.svg\" alt=\"Open In Colab\"/></a>"
      ]
    },
    {
      "cell_type": "markdown",
      "metadata": {
        "id": "hVbXYX-RfPWh"
      },
      "source": [
        "# Algoritmos de optimización - 2025 - proyecto final<br>\n",
        "Nombre y Apellidos: Jimmy Manuel Hurtado Bravo  <br>\n",
        "Url: https://github.com/jimmyhbravo95/proyecto_03MIAR_ALGO_2025_JH.git<br>\n",
        "Problemas:\n",
        "> 1. Sesiones de doblaje <br>\n",
        "> 2. Organizar los horarios de partidos de La Liga<br>\n",
        "> 3. Combinar cifras y operaciones\n",
        "\n",
        "Descripción del problema escogido: **Organizar sesiones de doblaje(I)**\n",
        "\n",
        "Se precisa coordinar el doblaje de una película. Los actores del doblaje deben coincidir en las tomas en las que sus personajes aparecen juntos en las diferentes tomas. Los actores de doblaje cobran todos la misma cantidad por cada día que deben desplazarse hasta el estudio de grabación independientemente del número de tomas que se graben. No es posible grabar más de 6 tomas por día. El objetivo es planificar las sesiones por día de manera que el gasto por los\n",
        "servicios de los actores de doblaje sea el menor posible. Los datos son: <br>\n",
        "\n",
        " Número de actores: 10 <br>\n",
        "Número de tomas :   30 <br>\n",
        "Actores/Tomas : https://bit.ly/36D8IuK <br>\n",
        "\n",
        " 1 indica que el actor participa en la toma <br>\n",
        " 0 en caso contrario <br>\n",
        "\n",
        "(*) La respuesta es obligatoria <br>\n",
        "\n",
        "\n",
        "\n",
        "\n",
        "\n",
        "                                        "
      ]
    },
    {
      "cell_type": "markdown",
      "source": [
        "- hallar el minimo. <br>\n",
        "alinear tomas con agentes en comun. <br>\n",
        "--------------------------------------------------------\n"
      ],
      "metadata": {
        "id": "uUWZxORYxOOF"
      }
    },
    {
      "cell_type": "markdown",
      "metadata": {
        "id": "3_-exlrTgLd-"
      },
      "source": [
        "(*)¿Cuantas posibilidades hay sin tener en cuenta las restricciones?<br>\n",
        "\n",
        "\n",
        "\n",
        "¿Cuantas posibilidades hay teniendo en cuenta todas las restricciones.\n",
        "\n",
        "\n"
      ]
    },
    {
      "cell_type": "markdown",
      "metadata": {
        "id": "WfCUqJyKhPcw"
      },
      "source": [
        "**respuesta ¿Cuantas posibilidades hay sin tener en cuenta las restricciones? ** <br>\n",
        "\n",
        "Para hallar la combinatoria sin restricciones en este caso  seria el factorial del numero total de tomas, por lo que para este caso seria n! = 30! = 265 252 859 812 191 058 636 308 480 000 000\n",
        "\n",
        "\n",
        "**respuesta ¿Cuantas posibilidades hay teniendo en cuenta todas las restricciones. ** <br>\n",
        "Tomando en cuenta que serian 6 tomas por dia como maximo, al ser 30 tomas en total. serian 6 tomas por dia y en el peor de los casos serian los 10 actores que vengan esos 5 dias.\n",
        "la combinatoria estaria regida por la siguiente formula:\n",
        "- n! / (r! * (n-r)! )<br>\n",
        "siendo n el numero de tomas y r las tomas que se pueden realizar por dia (la restriccion)<br>\n",
        "\n",
        "quedaria de la siguiente forma:\n",
        "- 30! / (6! * (30-6)!)\n",
        "- 265 252 859 812 191 058 636 308 480 000 000 / (720 * (24)!)\n",
        "- 265 252 859 812 191 058 636 308 480 000 000 / (720 * 6 204 484 017 332 394 393 600 000)\n",
        "- 265 252 859 812 191 058 636 308 480 000 000 / (4 467 228 492 479 323 963 392 000 000)<br>\n",
        "la cantidad total de combinaciones posibles con la restriccion de 6 tomas por dia es de:\n",
        "= 59 370 000\n",
        "\n",
        "\n"
      ]
    },
    {
      "cell_type": "markdown",
      "metadata": {
        "id": "dzynfVJahHoY"
      },
      "source": [
        "Modelo para el espacio de soluciones<br>\n",
        "(*) ¿Cual es la estructura de datos que mejor se adapta al problema? Argumentalo.(Es posible que hayas elegido una al principio y veas la necesidad de cambiar, argumentalo)\n"
      ]
    },
    {
      "cell_type": "markdown",
      "metadata": {
        "id": "xFIJrOwKi2Ti"
      },
      "source": [
        "Respuesta"
      ]
    },
    {
      "cell_type": "code",
      "metadata": {
        "id": "38c-7-ejhJmA",
        "colab": {
          "base_uri": "https://localhost:8080/"
        },
        "outputId": "50c57832-ac05-4181-ad1e-ce4490ef8f73"
      },
      "source": [
        "#que estructura de datos se adapta mejor.\n",
        "\n",
        "#Creo que se adapta mejor las listas, hacer una lista de listas como la siguiente\n",
        "#Por el momento es la primera estructura de datos escogida y se tomo esta debido a que permite por su forma matricial tener el cuadro de doble entrada de actores y tomas.\n",
        "# las filas representan las tomas y las columnas los actores.\n",
        "#  T O M A\n",
        "# A\n",
        "# C\n",
        "# T\n",
        "# O\n",
        "# R\n",
        "\n",
        "dataset_completo = [\n",
        "[1,1,1,1,1,0,0,0,0,0],\n",
        "[0,0,1,1,1,0,0,0,0,0],\n",
        "[0,1,0,0,1,0,1,0,0,0],\n",
        "[1,1,0,0,0,0,1,1,0,0],\n",
        "[0,1,0,1,0,0,0,1,0,0],\n",
        "[1,1,0,1,1,0,0,0,0,0],\n",
        "[1,1,0,1,1,0,0,0,0,0],\n",
        "[1,1,0,0,0,1,0,0,0,0],\n",
        "[1,1,0,1,0,0,0,0,0,0],\n",
        "[1,1,0,0,0,1,0,0,1,0],\n",
        "[1,1,1,0,1,0,0,1,0,0],\n",
        "[1,1,1,1,0,1,0,0,0,0],\n",
        "[1,0,0,1,1,0,0,0,0,0],\n",
        "[1,0,1,0,0,1,0,0,0,0],\n",
        "[1,1,0,0,0,0,1,0,0,0],\n",
        "[0,0,0,1,0,0,0,0,0,1],\n",
        "[1,0,1,0,0,0,0,0,0,0],\n",
        "[0,0,1,0,0,1,0,0,0,0],\n",
        "[1,0,1,0,0,0,0,0,0,0],\n",
        "[1,0,1,1,1,0,0,0,0,0],\n",
        "[0,0,0,0,0,1,0,1,0,0],\n",
        "[1,1,1,1,0,0,0,0,0,0],\n",
        "[1,0,1,0,0,0,0,0,0,0],\n",
        "[0,0,1,0,0,1,0,0,0,0],\n",
        "[1,1,0,1,0,0,0,0,0,1],\n",
        "[1,0,1,0,1,0,0,0,1,0],\n",
        "[0,0,0,1,1,0,0,0,0,0],\n",
        "[1,0,0,1,0,0,0,0,0,0],\n",
        "[1,0,0,0,1,1,0,0,0,0],\n",
        "[1,0,0,1,0,0,0,0,0,0]]\n",
        "\n",
        "#Achicamos la base para poder ejecutar por fueza bruta.\n",
        "dataset = [\n",
        "[1,1,1,1,1,0,0,0,0,0],\n",
        "[0,0,1,1,1,0,0,0,0,0],\n",
        "[0,1,0,0,1,0,1,0,0,0],\n",
        "[1,1,0,0,0,0,1,1,0,0],\n",
        "[0,1,0,1,0,0,0,1,0,0],\n",
        "[1,1,0,1,1,0,0,0,0,0],\n",
        "[1,1,0,1,1,0,0,0,0,0],\n",
        "[1,1,0,0,0,1,0,0,0,0],\n",
        "[1,1,0,1,0,0,0,0,0,0],\n",
        "[1,1,0,0,0,1,0,0,1,0],\n",
        "[1,1,1,0,1,0,0,1,0,0],\n",
        "[1,1,1,1,0,1,0,0,0,0]]\n",
        "#[1,0,0,1,1,0,0,0,0,0],\n",
        "#[1,0,1,0,0,1,0,0,0,0],\n",
        "#[1,1,0,0,0,0,1,0,0,0],\n",
        "#[0,0,0,1,0,0,0,0,0,1]]\n",
        "#[1,0,1,0,0,0,0,0,0,0],\n",
        "#[0,0,1,0,0,1,0,0,0,0]]\n",
        "\n",
        "print(dataset)"
      ],
      "execution_count": 17,
      "outputs": [
        {
          "output_type": "stream",
          "name": "stdout",
          "text": [
            "[[1, 1, 1, 1, 1, 0, 0, 0, 0, 0], [0, 0, 1, 1, 1, 0, 0, 0, 0, 0], [0, 1, 0, 0, 1, 0, 1, 0, 0, 0], [1, 1, 0, 0, 0, 0, 1, 1, 0, 0], [0, 1, 0, 1, 0, 0, 0, 1, 0, 0], [1, 1, 0, 1, 1, 0, 0, 0, 0, 0], [1, 1, 0, 1, 1, 0, 0, 0, 0, 0], [1, 1, 0, 0, 0, 1, 0, 0, 0, 0], [1, 1, 0, 1, 0, 0, 0, 0, 0, 0], [1, 1, 0, 0, 0, 1, 0, 0, 1, 0], [1, 1, 1, 0, 1, 0, 0, 1, 0, 0], [1, 1, 1, 1, 0, 1, 0, 0, 0, 0]]\n"
          ]
        }
      ]
    },
    {
      "cell_type": "markdown",
      "metadata": {
        "id": "7Z9U2W7bi-XS"
      },
      "source": [
        "Según el modelo para el espacio de soluciones<br>\n",
        "(*)¿Cual es la función objetivo?\n",
        "\n",
        "(*)¿Es un problema de maximización o minimización?"
      ]
    },
    {
      "cell_type": "markdown",
      "metadata": {
        "id": "hBalWLM7j1_d"
      },
      "source": [
        "Respuesta"
      ]
    },
    {
      "cell_type": "code",
      "metadata": {
        "id": "pDA-rg3Gj5Lz"
      },
      "source": [
        "# define la funcion objetivo\n",
        "  # Como los actores cobran lo mismo sin importar el numero de tomas que graben, sino que cobran por dia, lo que se tratara de hallar será la mejor seleccion de tomas segun las estrucciones (6 por dia)\n",
        "  # para que tenga la menor cantidad de actores para reducir los costes totales a menos de 50 sueldos en total ya que ese es el peor de los casos.\n",
        "  # Variables:\n",
        "  # a = cantidad de actores\n",
        "  # t = cantidad de tomas\n",
        "  # d = dias\n",
        "\n",
        "  # cada toma no debe demorar mas de un dia.\n",
        "    # t <= 1\n",
        "  # maximo de tomas x dia es 6\n",
        "    # ∑(t)*d <= 6\n",
        "\n",
        "  #Funcion Objetivo:\n",
        "  # F(o) = Minimizar ∑(del coste diario por actores que participan en cada dia segun las tomas agrupadas)\n",
        "  # F(o) <= 50 sueldos\n",
        "\n",
        "\n",
        "# maxizacion o minimizacion.\n",
        "  # para este caso como lo indica la funcion objetivo, se requiere hallar la combinatoria mas eficiente de tomas para minimizar los costes de actores, por lo que se trata de un problema de minimizacion."
      ],
      "execution_count": 4,
      "outputs": []
    },
    {
      "cell_type": "markdown",
      "metadata": {
        "id": "rlnTYgY1j6I2"
      },
      "source": [
        "Diseña un algoritmo para resolver el problema por fuerza bruta"
      ]
    },
    {
      "cell_type": "markdown",
      "metadata": {
        "id": "70rDgxYXkC8r"
      },
      "source": [
        "Respuesta"
      ]
    },
    {
      "cell_type": "code",
      "metadata": {
        "id": "CJb5sQ0qkENy",
        "colab": {
          "base_uri": "https://localhost:8080/"
        },
        "outputId": "6fd9439b-003c-4e1c-8760-681ccea2ed0e"
      },
      "source": [
        "#por fuerza bruta.\n",
        "#debido a que por fuerza bruta el poder de computo se ve limitado se ajusta el dataset a solo 12 tomas con la misma restriccion de 6 tomas por dia.\n",
        "def por_fuerza_bruta(data,agrupacion):\n",
        "  \"\"\"\n",
        "  funcion que recibe el data set y la cantidad de tomas por dia que estan permitidas.\n",
        "  data es una lista\n",
        "  t integer\n",
        "  \"\"\"\n",
        "  #parte 1\n",
        "  solucion = [] #esta lista almacenará en sublistas las mejores opciones de tomas por dia.\n",
        "  tomas_actor = [] # tomasxactor.\n",
        "  actorxtoma = [0,0,0,0,0,0,0,0,0,0] # cant idad de veces que sale un actor por toma.\n",
        "\n",
        "  #parte 2\n",
        "  for i in range(len(data)):\n",
        "    tomas_actor.append([])\n",
        "    for j in range(len(data[i])):\n",
        "      if(data[i][j]) == 1:\n",
        "        tomas_actor[i].append((j))\n",
        "  #parte 3\n",
        "  for i in range(len(tomas_actor)):\n",
        "    for j in range(10):\n",
        "      if j in tomas_actor[i]:\n",
        "        actorxtoma[j] = actorxtoma[j] + 1\n",
        "\n",
        "  tomas_nactor = [len(toma_actores) for toma_actores in tomas_actor] # cantidad de actores por Toma\n",
        "\n",
        "  print(tomas_actor)\n",
        "  print(len(tomas_actor))\n",
        "  print(actorxtoma)\n",
        "  print(len(actorxtoma))\n",
        "  print(tomas_nactor)\n",
        "  print(len(tomas_nactor))\n",
        "\n",
        "  \"\"\"\n",
        "  combinatoria_tomas = [[] for _ in range(len(tomas_actor))] # esta lista almacenrá las posibles combinaciones para las tomas, dias y actores involucrados.\n",
        "  print(f'len de combinatoria {combinatoria_tomas}')\n",
        "\n",
        "  for i in range(len(tomas_actor)):\n",
        "    print(f'Toma{i}')\n",
        "    #en cada uno de estos saltos hay que evaluar todas las opciones de combinatoria posibles segun la agrupacion.\n",
        "    j = 0\n",
        "    while j < len(tomas_actor) or j + agrupacion -1 < len(tomas_actor):\n",
        "      print(f'j es {j}')\n",
        "      print(f'agroup es {agrupacion}')\n",
        "      print(f'len es {len(tomas_actor) - agrupacion}')\n",
        "      print(f'{j+1} y {agrupacion + j }')\n",
        "      if j <= len(tomas_actor) - agrupacion:\n",
        "        print(tomas_actor[j+1 : agrupacion + j ])\n",
        "        #combinatoria_tomas[i] = tomas_actor[i]\n",
        "        combinatoria_tomas[i].append([tomas_actor[i]] + tomas_actor[j+1+i : agrupacion + j+i ])\n",
        "        #print(combinatoria_tomas[i])\n",
        "      if j > len(tomas_actor) - agrupacion:\n",
        "        print(tomas_actor[ len(tomas_actor) - agrupacion + 1 : len(tomas_actor) ])\n",
        "        combinatoria_tomas[i].append([tomas_actor[i]] + tomas_actor[ len(tomas_actor) - agrupacion + 1 : len(tomas_actor) ])\n",
        "        #print(combinatoria_tomas[i])\n",
        "        #combinatoria_tomas[i].append(tomas_actor[i])\n",
        "        #combinatoria_tomas[i].append(tomas_actor[ len(tomas_actor) - agrupacion + 1 : len(tomas_actor) ])\n",
        "        #combinatoria_tomas[i] = solucion[i].append(tomas_actor[i] + tomas_actor[ len(tomas_actor) - agrupacion + 1 : len(tomas_actor) ])\n",
        "\n",
        "      j = j+1\n",
        "    print(combinatoria_tomas)\n",
        "    Este metodo solo abarcaba cierta parte de la combinatoria. se intentara de otra manera\n",
        "    \"\"\"\n",
        "  #parte 4\n",
        "  combinatoria_tomas = []\n",
        "  n_tomas = len(tomas_actor)\n",
        "  for i in range(n_tomas):\n",
        "    for j in range(i + 1 ,n_tomas):\n",
        "      for k in range(j + 1 ,n_tomas):\n",
        "        for l in range(k + 1 ,n_tomas):\n",
        "          for m in range(l + 1 ,n_tomas):\n",
        "            for n in range(m + 1 ,n_tomas):\n",
        "              combinacion = [tomas_actor[i], tomas_actor[j], tomas_actor[k],tomas_actor[l],tomas_actor[m],tomas_actor[n],[i,j,k,l,m,n]] # esto trae las combinaciones y el ultimo elemento es el indice de la toma.\n",
        "              combinatoria_tomas.append(combinacion)\n",
        "\n",
        "  print(len(combinatoria_tomas))\n",
        "  print(combinatoria_tomas)\n",
        "\n",
        "  posibles_dias = []\n",
        "  n_combinaciones_tomas = len(combinatoria_tomas)\n",
        "\n",
        "  #parte 5\n",
        "  for dia1 in range(n_combinaciones_tomas):\n",
        "    t_d1 = set(combinatoria_tomas[dia1][6]) # Convertimos a set para fácil comparación de elementos\n",
        "    for dia2 in range(dia1 + 1, n_combinaciones_tomas):\n",
        "        t_d2 = set(combinatoria_tomas[dia2][6])\n",
        "        if not t_d1.isdisjoint(t_d2): # isdisjoint() retorna True si no hay elementos en común\n",
        "            continue\n",
        "        tomas_1y2 = t_d1.union(t_d2)\n",
        "        combinacion_tomas = [combinatoria_tomas[dia1] , combinatoria_tomas[dia2]]\n",
        "        posibles_dias.append(combinacion_tomas)\n",
        "        #por temas de tiempo, se acoto el dataset de 18 tomas a 12 tomas para poder ejecutar por fuerza bruta, igual con la misma restriccion de 6 tomas por dia.(al intentar con 18 tomas demoro mas de 2 horas y media y no culmino.)\n",
        "        \"\"\"\n",
        "        for dia3 in range(dia2 + 1, n_combinaciones_tomas):\n",
        "          t_d3 = set(combinatoria_tomas[dia3][6])\n",
        "          if not tomas_1y2.isdisjoint(t_d3):\n",
        "            continue # Si hay elementos en común, esta combinación no es válida\n",
        "          tomas_total = tomas_1y2.union(t_d3)\n",
        "          print(tomas_total)\n",
        "          combinacion_tomas = (combinatoria_tomas[dia1] , combinatoria_tomas[dia2] , combinatoria_tomas[dia3])\n",
        "          posibles_dias.append(combinacion_tomas)\n",
        "        \"\"\"\n",
        "\n",
        "  #print(posibles_dias)\n",
        "  print(f'cantidad de posibles dias {len(posibles_dias)}')\n",
        "\n",
        "  #ya se encontro la cantidad de combinaciones de tomas totales segun las restricciones.\n",
        "  #se encontraron la cantidad de dias posibles de las tomas que no se repiten entre si.\n",
        "\n",
        "  #Ahora hay que encontrar de los dias posibles la mejor opcion mas eficiente en costo:\n",
        "  n_posibles_dias = len(posibles_dias)\n",
        "  solucion = []\n",
        "\n",
        "\n",
        "  #parte 6\n",
        "  for opcion_evaluada in range(n_posibles_dias):\n",
        "    cantidad_total_salarios_opcion = 0\n",
        "    for dia_evaluado in range(len(posibles_dias[opcion_evaluada])):\n",
        "      actores_dia_evaluado = set()\n",
        "      for toma_evaluada in range(len(posibles_dias[opcion_evaluada][dia_evaluado])-1): # se le resta 1 por que no tomamos el ultimo elemento, ese es solamente para que no encuentremos tomas repetidas.\n",
        "        for actor in posibles_dias[opcion_evaluada][dia_evaluado][toma_evaluada]:\n",
        "          actores_dia_evaluado.add(actor)\n",
        "      posibles_dias[opcion_evaluada][dia_evaluado].append(actores_dia_evaluado)\n",
        "      cantidad_total_salarios_opcion = cantidad_total_salarios_opcion + len(actores_dia_evaluado)\n",
        "    posibles_dias[opcion_evaluada].append(cantidad_total_salarios_opcion)\n",
        "  #print(posibles_dias)\n",
        "\n",
        "  #Ahora que ya se tiene la cantidad de actores que necesita cada dia y el total por opcion se puede realizar la busqueda del minimo segun esa cuenta.\n",
        "  n_optimo = 20\n",
        "  solucion = []\n",
        "  #parte 7\n",
        "  for opcion_evaluada in range(n_posibles_dias):\n",
        "    if posibles_dias[opcion_evaluada][2] < n_optimo:\n",
        "      n_optimo = posibles_dias[opcion_evaluada][2]\n",
        "      solucion = posibles_dias[opcion_evaluada]\n",
        "\n",
        "  print(solucion)\n",
        "  print(n_optimo)\n",
        "\n",
        "\n",
        "\n",
        "\n",
        "\n",
        "por_fuerza_bruta(dataset,6)\n",
        "\n"
      ],
      "execution_count": 5,
      "outputs": [
        {
          "output_type": "stream",
          "name": "stdout",
          "text": [
            "[[0, 1, 2, 3, 4], [2, 3, 4], [1, 4, 6], [0, 1, 6, 7], [1, 3, 7], [0, 1, 3, 4], [0, 1, 3, 4], [0, 1, 5], [0, 1, 3], [0, 1, 5, 8], [0, 1, 2, 4, 7], [0, 1, 2, 3, 5]]\n",
            "12\n",
            "[9, 11, 4, 7, 6, 3, 2, 3, 1, 0]\n",
            "10\n",
            "[5, 3, 3, 4, 3, 4, 4, 3, 3, 4, 5, 5]\n",
            "12\n",
            "924\n",
            "[[[0, 1, 2, 3, 4], [2, 3, 4], [1, 4, 6], [0, 1, 6, 7], [1, 3, 7], [0, 1, 3, 4], [0, 1, 2, 3, 4, 5]], [[0, 1, 2, 3, 4], [2, 3, 4], [1, 4, 6], [0, 1, 6, 7], [1, 3, 7], [0, 1, 3, 4], [0, 1, 2, 3, 4, 6]], [[0, 1, 2, 3, 4], [2, 3, 4], [1, 4, 6], [0, 1, 6, 7], [1, 3, 7], [0, 1, 5], [0, 1, 2, 3, 4, 7]], [[0, 1, 2, 3, 4], [2, 3, 4], [1, 4, 6], [0, 1, 6, 7], [1, 3, 7], [0, 1, 3], [0, 1, 2, 3, 4, 8]], [[0, 1, 2, 3, 4], [2, 3, 4], [1, 4, 6], [0, 1, 6, 7], [1, 3, 7], [0, 1, 5, 8], [0, 1, 2, 3, 4, 9]], [[0, 1, 2, 3, 4], [2, 3, 4], [1, 4, 6], [0, 1, 6, 7], [1, 3, 7], [0, 1, 2, 4, 7], [0, 1, 2, 3, 4, 10]], [[0, 1, 2, 3, 4], [2, 3, 4], [1, 4, 6], [0, 1, 6, 7], [1, 3, 7], [0, 1, 2, 3, 5], [0, 1, 2, 3, 4, 11]], [[0, 1, 2, 3, 4], [2, 3, 4], [1, 4, 6], [0, 1, 6, 7], [0, 1, 3, 4], [0, 1, 3, 4], [0, 1, 2, 3, 5, 6]], [[0, 1, 2, 3, 4], [2, 3, 4], [1, 4, 6], [0, 1, 6, 7], [0, 1, 3, 4], [0, 1, 5], [0, 1, 2, 3, 5, 7]], [[0, 1, 2, 3, 4], [2, 3, 4], [1, 4, 6], [0, 1, 6, 7], [0, 1, 3, 4], [0, 1, 3], [0, 1, 2, 3, 5, 8]], [[0, 1, 2, 3, 4], [2, 3, 4], [1, 4, 6], [0, 1, 6, 7], [0, 1, 3, 4], [0, 1, 5, 8], [0, 1, 2, 3, 5, 9]], [[0, 1, 2, 3, 4], [2, 3, 4], [1, 4, 6], [0, 1, 6, 7], [0, 1, 3, 4], [0, 1, 2, 4, 7], [0, 1, 2, 3, 5, 10]], [[0, 1, 2, 3, 4], [2, 3, 4], [1, 4, 6], [0, 1, 6, 7], [0, 1, 3, 4], [0, 1, 2, 3, 5], [0, 1, 2, 3, 5, 11]], [[0, 1, 2, 3, 4], [2, 3, 4], [1, 4, 6], [0, 1, 6, 7], [0, 1, 3, 4], [0, 1, 5], [0, 1, 2, 3, 6, 7]], [[0, 1, 2, 3, 4], [2, 3, 4], [1, 4, 6], [0, 1, 6, 7], [0, 1, 3, 4], [0, 1, 3], [0, 1, 2, 3, 6, 8]], [[0, 1, 2, 3, 4], [2, 3, 4], [1, 4, 6], [0, 1, 6, 7], [0, 1, 3, 4], [0, 1, 5, 8], [0, 1, 2, 3, 6, 9]], [[0, 1, 2, 3, 4], [2, 3, 4], [1, 4, 6], [0, 1, 6, 7], [0, 1, 3, 4], [0, 1, 2, 4, 7], [0, 1, 2, 3, 6, 10]], [[0, 1, 2, 3, 4], [2, 3, 4], [1, 4, 6], [0, 1, 6, 7], [0, 1, 3, 4], [0, 1, 2, 3, 5], [0, 1, 2, 3, 6, 11]], [[0, 1, 2, 3, 4], [2, 3, 4], [1, 4, 6], [0, 1, 6, 7], [0, 1, 5], [0, 1, 3], [0, 1, 2, 3, 7, 8]], [[0, 1, 2, 3, 4], [2, 3, 4], [1, 4, 6], [0, 1, 6, 7], [0, 1, 5], [0, 1, 5, 8], [0, 1, 2, 3, 7, 9]], [[0, 1, 2, 3, 4], [2, 3, 4], [1, 4, 6], [0, 1, 6, 7], [0, 1, 5], [0, 1, 2, 4, 7], [0, 1, 2, 3, 7, 10]], [[0, 1, 2, 3, 4], [2, 3, 4], [1, 4, 6], [0, 1, 6, 7], [0, 1, 5], [0, 1, 2, 3, 5], [0, 1, 2, 3, 7, 11]], [[0, 1, 2, 3, 4], [2, 3, 4], [1, 4, 6], [0, 1, 6, 7], [0, 1, 3], [0, 1, 5, 8], [0, 1, 2, 3, 8, 9]], [[0, 1, 2, 3, 4], [2, 3, 4], [1, 4, 6], [0, 1, 6, 7], [0, 1, 3], [0, 1, 2, 4, 7], [0, 1, 2, 3, 8, 10]], [[0, 1, 2, 3, 4], [2, 3, 4], [1, 4, 6], [0, 1, 6, 7], [0, 1, 3], [0, 1, 2, 3, 5], [0, 1, 2, 3, 8, 11]], [[0, 1, 2, 3, 4], [2, 3, 4], [1, 4, 6], [0, 1, 6, 7], [0, 1, 5, 8], [0, 1, 2, 4, 7], [0, 1, 2, 3, 9, 10]], [[0, 1, 2, 3, 4], [2, 3, 4], [1, 4, 6], [0, 1, 6, 7], [0, 1, 5, 8], [0, 1, 2, 3, 5], [0, 1, 2, 3, 9, 11]], [[0, 1, 2, 3, 4], [2, 3, 4], [1, 4, 6], [0, 1, 6, 7], [0, 1, 2, 4, 7], [0, 1, 2, 3, 5], [0, 1, 2, 3, 10, 11]], [[0, 1, 2, 3, 4], [2, 3, 4], [1, 4, 6], [1, 3, 7], [0, 1, 3, 4], [0, 1, 3, 4], [0, 1, 2, 4, 5, 6]], [[0, 1, 2, 3, 4], [2, 3, 4], [1, 4, 6], [1, 3, 7], [0, 1, 3, 4], [0, 1, 5], [0, 1, 2, 4, 5, 7]], [[0, 1, 2, 3, 4], [2, 3, 4], [1, 4, 6], [1, 3, 7], [0, 1, 3, 4], [0, 1, 3], [0, 1, 2, 4, 5, 8]], [[0, 1, 2, 3, 4], [2, 3, 4], [1, 4, 6], [1, 3, 7], [0, 1, 3, 4], [0, 1, 5, 8], [0, 1, 2, 4, 5, 9]], [[0, 1, 2, 3, 4], [2, 3, 4], [1, 4, 6], [1, 3, 7], [0, 1, 3, 4], [0, 1, 2, 4, 7], [0, 1, 2, 4, 5, 10]], [[0, 1, 2, 3, 4], [2, 3, 4], [1, 4, 6], [1, 3, 7], [0, 1, 3, 4], [0, 1, 2, 3, 5], [0, 1, 2, 4, 5, 11]], [[0, 1, 2, 3, 4], [2, 3, 4], [1, 4, 6], [1, 3, 7], [0, 1, 3, 4], [0, 1, 5], [0, 1, 2, 4, 6, 7]], [[0, 1, 2, 3, 4], [2, 3, 4], [1, 4, 6], [1, 3, 7], [0, 1, 3, 4], [0, 1, 3], [0, 1, 2, 4, 6, 8]], [[0, 1, 2, 3, 4], [2, 3, 4], [1, 4, 6], [1, 3, 7], [0, 1, 3, 4], [0, 1, 5, 8], [0, 1, 2, 4, 6, 9]], [[0, 1, 2, 3, 4], [2, 3, 4], [1, 4, 6], [1, 3, 7], [0, 1, 3, 4], [0, 1, 2, 4, 7], [0, 1, 2, 4, 6, 10]], [[0, 1, 2, 3, 4], [2, 3, 4], [1, 4, 6], [1, 3, 7], [0, 1, 3, 4], [0, 1, 2, 3, 5], [0, 1, 2, 4, 6, 11]], [[0, 1, 2, 3, 4], [2, 3, 4], [1, 4, 6], [1, 3, 7], [0, 1, 5], [0, 1, 3], [0, 1, 2, 4, 7, 8]], [[0, 1, 2, 3, 4], [2, 3, 4], [1, 4, 6], [1, 3, 7], [0, 1, 5], [0, 1, 5, 8], [0, 1, 2, 4, 7, 9]], [[0, 1, 2, 3, 4], [2, 3, 4], [1, 4, 6], [1, 3, 7], [0, 1, 5], [0, 1, 2, 4, 7], [0, 1, 2, 4, 7, 10]], [[0, 1, 2, 3, 4], [2, 3, 4], [1, 4, 6], [1, 3, 7], [0, 1, 5], [0, 1, 2, 3, 5], [0, 1, 2, 4, 7, 11]], [[0, 1, 2, 3, 4], [2, 3, 4], [1, 4, 6], [1, 3, 7], [0, 1, 3], [0, 1, 5, 8], [0, 1, 2, 4, 8, 9]], [[0, 1, 2, 3, 4], [2, 3, 4], [1, 4, 6], [1, 3, 7], [0, 1, 3], [0, 1, 2, 4, 7], [0, 1, 2, 4, 8, 10]], [[0, 1, 2, 3, 4], [2, 3, 4], [1, 4, 6], [1, 3, 7], [0, 1, 3], [0, 1, 2, 3, 5], [0, 1, 2, 4, 8, 11]], [[0, 1, 2, 3, 4], [2, 3, 4], [1, 4, 6], [1, 3, 7], [0, 1, 5, 8], [0, 1, 2, 4, 7], [0, 1, 2, 4, 9, 10]], [[0, 1, 2, 3, 4], [2, 3, 4], [1, 4, 6], [1, 3, 7], [0, 1, 5, 8], [0, 1, 2, 3, 5], [0, 1, 2, 4, 9, 11]], [[0, 1, 2, 3, 4], [2, 3, 4], [1, 4, 6], [1, 3, 7], [0, 1, 2, 4, 7], [0, 1, 2, 3, 5], [0, 1, 2, 4, 10, 11]], [[0, 1, 2, 3, 4], [2, 3, 4], [1, 4, 6], [0, 1, 3, 4], [0, 1, 3, 4], [0, 1, 5], [0, 1, 2, 5, 6, 7]], [[0, 1, 2, 3, 4], [2, 3, 4], [1, 4, 6], [0, 1, 3, 4], [0, 1, 3, 4], [0, 1, 3], [0, 1, 2, 5, 6, 8]], [[0, 1, 2, 3, 4], [2, 3, 4], [1, 4, 6], [0, 1, 3, 4], [0, 1, 3, 4], [0, 1, 5, 8], [0, 1, 2, 5, 6, 9]], [[0, 1, 2, 3, 4], [2, 3, 4], [1, 4, 6], [0, 1, 3, 4], [0, 1, 3, 4], [0, 1, 2, 4, 7], [0, 1, 2, 5, 6, 10]], [[0, 1, 2, 3, 4], [2, 3, 4], [1, 4, 6], [0, 1, 3, 4], [0, 1, 3, 4], [0, 1, 2, 3, 5], [0, 1, 2, 5, 6, 11]], [[0, 1, 2, 3, 4], [2, 3, 4], [1, 4, 6], [0, 1, 3, 4], [0, 1, 5], [0, 1, 3], [0, 1, 2, 5, 7, 8]], [[0, 1, 2, 3, 4], [2, 3, 4], [1, 4, 6], [0, 1, 3, 4], [0, 1, 5], [0, 1, 5, 8], [0, 1, 2, 5, 7, 9]], [[0, 1, 2, 3, 4], [2, 3, 4], [1, 4, 6], [0, 1, 3, 4], [0, 1, 5], [0, 1, 2, 4, 7], [0, 1, 2, 5, 7, 10]], [[0, 1, 2, 3, 4], [2, 3, 4], [1, 4, 6], [0, 1, 3, 4], [0, 1, 5], [0, 1, 2, 3, 5], [0, 1, 2, 5, 7, 11]], [[0, 1, 2, 3, 4], [2, 3, 4], [1, 4, 6], [0, 1, 3, 4], [0, 1, 3], [0, 1, 5, 8], [0, 1, 2, 5, 8, 9]], [[0, 1, 2, 3, 4], [2, 3, 4], [1, 4, 6], [0, 1, 3, 4], [0, 1, 3], [0, 1, 2, 4, 7], [0, 1, 2, 5, 8, 10]], [[0, 1, 2, 3, 4], [2, 3, 4], [1, 4, 6], [0, 1, 3, 4], [0, 1, 3], [0, 1, 2, 3, 5], [0, 1, 2, 5, 8, 11]], [[0, 1, 2, 3, 4], [2, 3, 4], [1, 4, 6], [0, 1, 3, 4], [0, 1, 5, 8], [0, 1, 2, 4, 7], [0, 1, 2, 5, 9, 10]], [[0, 1, 2, 3, 4], [2, 3, 4], [1, 4, 6], [0, 1, 3, 4], [0, 1, 5, 8], [0, 1, 2, 3, 5], [0, 1, 2, 5, 9, 11]], [[0, 1, 2, 3, 4], [2, 3, 4], [1, 4, 6], [0, 1, 3, 4], [0, 1, 2, 4, 7], [0, 1, 2, 3, 5], [0, 1, 2, 5, 10, 11]], [[0, 1, 2, 3, 4], [2, 3, 4], [1, 4, 6], [0, 1, 3, 4], [0, 1, 5], [0, 1, 3], [0, 1, 2, 6, 7, 8]], [[0, 1, 2, 3, 4], [2, 3, 4], [1, 4, 6], [0, 1, 3, 4], [0, 1, 5], [0, 1, 5, 8], [0, 1, 2, 6, 7, 9]], [[0, 1, 2, 3, 4], [2, 3, 4], [1, 4, 6], [0, 1, 3, 4], [0, 1, 5], [0, 1, 2, 4, 7], [0, 1, 2, 6, 7, 10]], [[0, 1, 2, 3, 4], [2, 3, 4], [1, 4, 6], [0, 1, 3, 4], [0, 1, 5], [0, 1, 2, 3, 5], [0, 1, 2, 6, 7, 11]], [[0, 1, 2, 3, 4], [2, 3, 4], [1, 4, 6], [0, 1, 3, 4], [0, 1, 3], [0, 1, 5, 8], [0, 1, 2, 6, 8, 9]], [[0, 1, 2, 3, 4], [2, 3, 4], [1, 4, 6], [0, 1, 3, 4], [0, 1, 3], [0, 1, 2, 4, 7], [0, 1, 2, 6, 8, 10]], [[0, 1, 2, 3, 4], [2, 3, 4], [1, 4, 6], [0, 1, 3, 4], [0, 1, 3], [0, 1, 2, 3, 5], [0, 1, 2, 6, 8, 11]], [[0, 1, 2, 3, 4], [2, 3, 4], [1, 4, 6], [0, 1, 3, 4], [0, 1, 5, 8], [0, 1, 2, 4, 7], [0, 1, 2, 6, 9, 10]], [[0, 1, 2, 3, 4], [2, 3, 4], [1, 4, 6], [0, 1, 3, 4], [0, 1, 5, 8], [0, 1, 2, 3, 5], [0, 1, 2, 6, 9, 11]], [[0, 1, 2, 3, 4], [2, 3, 4], [1, 4, 6], [0, 1, 3, 4], [0, 1, 2, 4, 7], [0, 1, 2, 3, 5], [0, 1, 2, 6, 10, 11]], [[0, 1, 2, 3, 4], [2, 3, 4], [1, 4, 6], [0, 1, 5], [0, 1, 3], [0, 1, 5, 8], [0, 1, 2, 7, 8, 9]], [[0, 1, 2, 3, 4], [2, 3, 4], [1, 4, 6], [0, 1, 5], [0, 1, 3], [0, 1, 2, 4, 7], [0, 1, 2, 7, 8, 10]], [[0, 1, 2, 3, 4], [2, 3, 4], [1, 4, 6], [0, 1, 5], [0, 1, 3], [0, 1, 2, 3, 5], [0, 1, 2, 7, 8, 11]], [[0, 1, 2, 3, 4], [2, 3, 4], [1, 4, 6], [0, 1, 5], [0, 1, 5, 8], [0, 1, 2, 4, 7], [0, 1, 2, 7, 9, 10]], [[0, 1, 2, 3, 4], [2, 3, 4], [1, 4, 6], [0, 1, 5], [0, 1, 5, 8], [0, 1, 2, 3, 5], [0, 1, 2, 7, 9, 11]], [[0, 1, 2, 3, 4], [2, 3, 4], [1, 4, 6], [0, 1, 5], [0, 1, 2, 4, 7], [0, 1, 2, 3, 5], [0, 1, 2, 7, 10, 11]], [[0, 1, 2, 3, 4], [2, 3, 4], [1, 4, 6], [0, 1, 3], [0, 1, 5, 8], [0, 1, 2, 4, 7], [0, 1, 2, 8, 9, 10]], [[0, 1, 2, 3, 4], [2, 3, 4], [1, 4, 6], [0, 1, 3], [0, 1, 5, 8], [0, 1, 2, 3, 5], [0, 1, 2, 8, 9, 11]], [[0, 1, 2, 3, 4], [2, 3, 4], [1, 4, 6], [0, 1, 3], [0, 1, 2, 4, 7], [0, 1, 2, 3, 5], [0, 1, 2, 8, 10, 11]], [[0, 1, 2, 3, 4], [2, 3, 4], [1, 4, 6], [0, 1, 5, 8], [0, 1, 2, 4, 7], [0, 1, 2, 3, 5], [0, 1, 2, 9, 10, 11]], [[0, 1, 2, 3, 4], [2, 3, 4], [0, 1, 6, 7], [1, 3, 7], [0, 1, 3, 4], [0, 1, 3, 4], [0, 1, 3, 4, 5, 6]], [[0, 1, 2, 3, 4], [2, 3, 4], [0, 1, 6, 7], [1, 3, 7], [0, 1, 3, 4], [0, 1, 5], [0, 1, 3, 4, 5, 7]], [[0, 1, 2, 3, 4], [2, 3, 4], [0, 1, 6, 7], [1, 3, 7], [0, 1, 3, 4], [0, 1, 3], [0, 1, 3, 4, 5, 8]], [[0, 1, 2, 3, 4], [2, 3, 4], [0, 1, 6, 7], [1, 3, 7], [0, 1, 3, 4], [0, 1, 5, 8], [0, 1, 3, 4, 5, 9]], [[0, 1, 2, 3, 4], [2, 3, 4], [0, 1, 6, 7], [1, 3, 7], [0, 1, 3, 4], [0, 1, 2, 4, 7], [0, 1, 3, 4, 5, 10]], [[0, 1, 2, 3, 4], [2, 3, 4], [0, 1, 6, 7], [1, 3, 7], [0, 1, 3, 4], [0, 1, 2, 3, 5], [0, 1, 3, 4, 5, 11]], [[0, 1, 2, 3, 4], [2, 3, 4], [0, 1, 6, 7], [1, 3, 7], [0, 1, 3, 4], [0, 1, 5], [0, 1, 3, 4, 6, 7]], [[0, 1, 2, 3, 4], [2, 3, 4], [0, 1, 6, 7], [1, 3, 7], [0, 1, 3, 4], [0, 1, 3], [0, 1, 3, 4, 6, 8]], [[0, 1, 2, 3, 4], [2, 3, 4], [0, 1, 6, 7], [1, 3, 7], [0, 1, 3, 4], [0, 1, 5, 8], [0, 1, 3, 4, 6, 9]], [[0, 1, 2, 3, 4], [2, 3, 4], [0, 1, 6, 7], [1, 3, 7], [0, 1, 3, 4], [0, 1, 2, 4, 7], [0, 1, 3, 4, 6, 10]], [[0, 1, 2, 3, 4], [2, 3, 4], [0, 1, 6, 7], [1, 3, 7], [0, 1, 3, 4], [0, 1, 2, 3, 5], [0, 1, 3, 4, 6, 11]], [[0, 1, 2, 3, 4], [2, 3, 4], [0, 1, 6, 7], [1, 3, 7], [0, 1, 5], [0, 1, 3], [0, 1, 3, 4, 7, 8]], [[0, 1, 2, 3, 4], [2, 3, 4], [0, 1, 6, 7], [1, 3, 7], [0, 1, 5], [0, 1, 5, 8], [0, 1, 3, 4, 7, 9]], [[0, 1, 2, 3, 4], [2, 3, 4], [0, 1, 6, 7], [1, 3, 7], [0, 1, 5], [0, 1, 2, 4, 7], [0, 1, 3, 4, 7, 10]], [[0, 1, 2, 3, 4], [2, 3, 4], [0, 1, 6, 7], [1, 3, 7], [0, 1, 5], [0, 1, 2, 3, 5], [0, 1, 3, 4, 7, 11]], [[0, 1, 2, 3, 4], [2, 3, 4], [0, 1, 6, 7], [1, 3, 7], [0, 1, 3], [0, 1, 5, 8], [0, 1, 3, 4, 8, 9]], [[0, 1, 2, 3, 4], [2, 3, 4], [0, 1, 6, 7], [1, 3, 7], [0, 1, 3], [0, 1, 2, 4, 7], [0, 1, 3, 4, 8, 10]], [[0, 1, 2, 3, 4], [2, 3, 4], [0, 1, 6, 7], [1, 3, 7], [0, 1, 3], [0, 1, 2, 3, 5], [0, 1, 3, 4, 8, 11]], [[0, 1, 2, 3, 4], [2, 3, 4], [0, 1, 6, 7], [1, 3, 7], [0, 1, 5, 8], [0, 1, 2, 4, 7], [0, 1, 3, 4, 9, 10]], [[0, 1, 2, 3, 4], [2, 3, 4], [0, 1, 6, 7], [1, 3, 7], [0, 1, 5, 8], [0, 1, 2, 3, 5], [0, 1, 3, 4, 9, 11]], [[0, 1, 2, 3, 4], [2, 3, 4], [0, 1, 6, 7], [1, 3, 7], [0, 1, 2, 4, 7], [0, 1, 2, 3, 5], [0, 1, 3, 4, 10, 11]], [[0, 1, 2, 3, 4], [2, 3, 4], [0, 1, 6, 7], [0, 1, 3, 4], [0, 1, 3, 4], [0, 1, 5], [0, 1, 3, 5, 6, 7]], [[0, 1, 2, 3, 4], [2, 3, 4], [0, 1, 6, 7], [0, 1, 3, 4], [0, 1, 3, 4], [0, 1, 3], [0, 1, 3, 5, 6, 8]], [[0, 1, 2, 3, 4], [2, 3, 4], [0, 1, 6, 7], [0, 1, 3, 4], [0, 1, 3, 4], [0, 1, 5, 8], [0, 1, 3, 5, 6, 9]], [[0, 1, 2, 3, 4], [2, 3, 4], [0, 1, 6, 7], [0, 1, 3, 4], [0, 1, 3, 4], [0, 1, 2, 4, 7], [0, 1, 3, 5, 6, 10]], [[0, 1, 2, 3, 4], [2, 3, 4], [0, 1, 6, 7], [0, 1, 3, 4], [0, 1, 3, 4], [0, 1, 2, 3, 5], [0, 1, 3, 5, 6, 11]], [[0, 1, 2, 3, 4], [2, 3, 4], [0, 1, 6, 7], [0, 1, 3, 4], [0, 1, 5], [0, 1, 3], [0, 1, 3, 5, 7, 8]], [[0, 1, 2, 3, 4], [2, 3, 4], [0, 1, 6, 7], [0, 1, 3, 4], [0, 1, 5], [0, 1, 5, 8], [0, 1, 3, 5, 7, 9]], [[0, 1, 2, 3, 4], [2, 3, 4], [0, 1, 6, 7], [0, 1, 3, 4], [0, 1, 5], [0, 1, 2, 4, 7], [0, 1, 3, 5, 7, 10]], [[0, 1, 2, 3, 4], [2, 3, 4], [0, 1, 6, 7], [0, 1, 3, 4], [0, 1, 5], [0, 1, 2, 3, 5], [0, 1, 3, 5, 7, 11]], [[0, 1, 2, 3, 4], [2, 3, 4], [0, 1, 6, 7], [0, 1, 3, 4], [0, 1, 3], [0, 1, 5, 8], [0, 1, 3, 5, 8, 9]], [[0, 1, 2, 3, 4], [2, 3, 4], [0, 1, 6, 7], [0, 1, 3, 4], [0, 1, 3], [0, 1, 2, 4, 7], [0, 1, 3, 5, 8, 10]], [[0, 1, 2, 3, 4], [2, 3, 4], [0, 1, 6, 7], [0, 1, 3, 4], [0, 1, 3], [0, 1, 2, 3, 5], [0, 1, 3, 5, 8, 11]], [[0, 1, 2, 3, 4], [2, 3, 4], [0, 1, 6, 7], [0, 1, 3, 4], [0, 1, 5, 8], [0, 1, 2, 4, 7], [0, 1, 3, 5, 9, 10]], [[0, 1, 2, 3, 4], [2, 3, 4], [0, 1, 6, 7], [0, 1, 3, 4], [0, 1, 5, 8], [0, 1, 2, 3, 5], [0, 1, 3, 5, 9, 11]], [[0, 1, 2, 3, 4], [2, 3, 4], [0, 1, 6, 7], [0, 1, 3, 4], [0, 1, 2, 4, 7], [0, 1, 2, 3, 5], [0, 1, 3, 5, 10, 11]], [[0, 1, 2, 3, 4], [2, 3, 4], [0, 1, 6, 7], [0, 1, 3, 4], [0, 1, 5], [0, 1, 3], [0, 1, 3, 6, 7, 8]], [[0, 1, 2, 3, 4], [2, 3, 4], [0, 1, 6, 7], [0, 1, 3, 4], [0, 1, 5], [0, 1, 5, 8], [0, 1, 3, 6, 7, 9]], [[0, 1, 2, 3, 4], [2, 3, 4], [0, 1, 6, 7], [0, 1, 3, 4], [0, 1, 5], [0, 1, 2, 4, 7], [0, 1, 3, 6, 7, 10]], [[0, 1, 2, 3, 4], [2, 3, 4], [0, 1, 6, 7], [0, 1, 3, 4], [0, 1, 5], [0, 1, 2, 3, 5], [0, 1, 3, 6, 7, 11]], [[0, 1, 2, 3, 4], [2, 3, 4], [0, 1, 6, 7], [0, 1, 3, 4], [0, 1, 3], [0, 1, 5, 8], [0, 1, 3, 6, 8, 9]], [[0, 1, 2, 3, 4], [2, 3, 4], [0, 1, 6, 7], [0, 1, 3, 4], [0, 1, 3], [0, 1, 2, 4, 7], [0, 1, 3, 6, 8, 10]], [[0, 1, 2, 3, 4], [2, 3, 4], [0, 1, 6, 7], [0, 1, 3, 4], [0, 1, 3], [0, 1, 2, 3, 5], [0, 1, 3, 6, 8, 11]], [[0, 1, 2, 3, 4], [2, 3, 4], [0, 1, 6, 7], [0, 1, 3, 4], [0, 1, 5, 8], [0, 1, 2, 4, 7], [0, 1, 3, 6, 9, 10]], [[0, 1, 2, 3, 4], [2, 3, 4], [0, 1, 6, 7], [0, 1, 3, 4], [0, 1, 5, 8], [0, 1, 2, 3, 5], [0, 1, 3, 6, 9, 11]], [[0, 1, 2, 3, 4], [2, 3, 4], [0, 1, 6, 7], [0, 1, 3, 4], [0, 1, 2, 4, 7], [0, 1, 2, 3, 5], [0, 1, 3, 6, 10, 11]], [[0, 1, 2, 3, 4], [2, 3, 4], [0, 1, 6, 7], [0, 1, 5], [0, 1, 3], [0, 1, 5, 8], [0, 1, 3, 7, 8, 9]], [[0, 1, 2, 3, 4], [2, 3, 4], [0, 1, 6, 7], [0, 1, 5], [0, 1, 3], [0, 1, 2, 4, 7], [0, 1, 3, 7, 8, 10]], [[0, 1, 2, 3, 4], [2, 3, 4], [0, 1, 6, 7], [0, 1, 5], [0, 1, 3], [0, 1, 2, 3, 5], [0, 1, 3, 7, 8, 11]], [[0, 1, 2, 3, 4], [2, 3, 4], [0, 1, 6, 7], [0, 1, 5], [0, 1, 5, 8], [0, 1, 2, 4, 7], [0, 1, 3, 7, 9, 10]], [[0, 1, 2, 3, 4], [2, 3, 4], [0, 1, 6, 7], [0, 1, 5], [0, 1, 5, 8], [0, 1, 2, 3, 5], [0, 1, 3, 7, 9, 11]], [[0, 1, 2, 3, 4], [2, 3, 4], [0, 1, 6, 7], [0, 1, 5], [0, 1, 2, 4, 7], [0, 1, 2, 3, 5], [0, 1, 3, 7, 10, 11]], [[0, 1, 2, 3, 4], [2, 3, 4], [0, 1, 6, 7], [0, 1, 3], [0, 1, 5, 8], [0, 1, 2, 4, 7], [0, 1, 3, 8, 9, 10]], [[0, 1, 2, 3, 4], [2, 3, 4], [0, 1, 6, 7], [0, 1, 3], [0, 1, 5, 8], [0, 1, 2, 3, 5], [0, 1, 3, 8, 9, 11]], [[0, 1, 2, 3, 4], [2, 3, 4], [0, 1, 6, 7], [0, 1, 3], [0, 1, 2, 4, 7], [0, 1, 2, 3, 5], [0, 1, 3, 8, 10, 11]], [[0, 1, 2, 3, 4], [2, 3, 4], [0, 1, 6, 7], [0, 1, 5, 8], [0, 1, 2, 4, 7], [0, 1, 2, 3, 5], [0, 1, 3, 9, 10, 11]], [[0, 1, 2, 3, 4], [2, 3, 4], [1, 3, 7], [0, 1, 3, 4], [0, 1, 3, 4], [0, 1, 5], [0, 1, 4, 5, 6, 7]], [[0, 1, 2, 3, 4], [2, 3, 4], [1, 3, 7], [0, 1, 3, 4], [0, 1, 3, 4], [0, 1, 3], [0, 1, 4, 5, 6, 8]], [[0, 1, 2, 3, 4], [2, 3, 4], [1, 3, 7], [0, 1, 3, 4], [0, 1, 3, 4], [0, 1, 5, 8], [0, 1, 4, 5, 6, 9]], [[0, 1, 2, 3, 4], [2, 3, 4], [1, 3, 7], [0, 1, 3, 4], [0, 1, 3, 4], [0, 1, 2, 4, 7], [0, 1, 4, 5, 6, 10]], [[0, 1, 2, 3, 4], [2, 3, 4], [1, 3, 7], [0, 1, 3, 4], [0, 1, 3, 4], [0, 1, 2, 3, 5], [0, 1, 4, 5, 6, 11]], [[0, 1, 2, 3, 4], [2, 3, 4], [1, 3, 7], [0, 1, 3, 4], [0, 1, 5], [0, 1, 3], [0, 1, 4, 5, 7, 8]], [[0, 1, 2, 3, 4], [2, 3, 4], [1, 3, 7], [0, 1, 3, 4], [0, 1, 5], [0, 1, 5, 8], [0, 1, 4, 5, 7, 9]], [[0, 1, 2, 3, 4], [2, 3, 4], [1, 3, 7], [0, 1, 3, 4], [0, 1, 5], [0, 1, 2, 4, 7], [0, 1, 4, 5, 7, 10]], [[0, 1, 2, 3, 4], [2, 3, 4], [1, 3, 7], [0, 1, 3, 4], [0, 1, 5], [0, 1, 2, 3, 5], [0, 1, 4, 5, 7, 11]], [[0, 1, 2, 3, 4], [2, 3, 4], [1, 3, 7], [0, 1, 3, 4], [0, 1, 3], [0, 1, 5, 8], [0, 1, 4, 5, 8, 9]], [[0, 1, 2, 3, 4], [2, 3, 4], [1, 3, 7], [0, 1, 3, 4], [0, 1, 3], [0, 1, 2, 4, 7], [0, 1, 4, 5, 8, 10]], [[0, 1, 2, 3, 4], [2, 3, 4], [1, 3, 7], [0, 1, 3, 4], [0, 1, 3], [0, 1, 2, 3, 5], [0, 1, 4, 5, 8, 11]], [[0, 1, 2, 3, 4], [2, 3, 4], [1, 3, 7], [0, 1, 3, 4], [0, 1, 5, 8], [0, 1, 2, 4, 7], [0, 1, 4, 5, 9, 10]], [[0, 1, 2, 3, 4], [2, 3, 4], [1, 3, 7], [0, 1, 3, 4], [0, 1, 5, 8], [0, 1, 2, 3, 5], [0, 1, 4, 5, 9, 11]], [[0, 1, 2, 3, 4], [2, 3, 4], [1, 3, 7], [0, 1, 3, 4], [0, 1, 2, 4, 7], [0, 1, 2, 3, 5], [0, 1, 4, 5, 10, 11]], [[0, 1, 2, 3, 4], [2, 3, 4], [1, 3, 7], [0, 1, 3, 4], [0, 1, 5], [0, 1, 3], [0, 1, 4, 6, 7, 8]], [[0, 1, 2, 3, 4], [2, 3, 4], [1, 3, 7], [0, 1, 3, 4], [0, 1, 5], [0, 1, 5, 8], [0, 1, 4, 6, 7, 9]], [[0, 1, 2, 3, 4], [2, 3, 4], [1, 3, 7], [0, 1, 3, 4], [0, 1, 5], [0, 1, 2, 4, 7], [0, 1, 4, 6, 7, 10]], [[0, 1, 2, 3, 4], [2, 3, 4], [1, 3, 7], [0, 1, 3, 4], [0, 1, 5], [0, 1, 2, 3, 5], [0, 1, 4, 6, 7, 11]], [[0, 1, 2, 3, 4], [2, 3, 4], [1, 3, 7], [0, 1, 3, 4], [0, 1, 3], [0, 1, 5, 8], [0, 1, 4, 6, 8, 9]], [[0, 1, 2, 3, 4], [2, 3, 4], [1, 3, 7], [0, 1, 3, 4], [0, 1, 3], [0, 1, 2, 4, 7], [0, 1, 4, 6, 8, 10]], [[0, 1, 2, 3, 4], [2, 3, 4], [1, 3, 7], [0, 1, 3, 4], [0, 1, 3], [0, 1, 2, 3, 5], [0, 1, 4, 6, 8, 11]], [[0, 1, 2, 3, 4], [2, 3, 4], [1, 3, 7], [0, 1, 3, 4], [0, 1, 5, 8], [0, 1, 2, 4, 7], [0, 1, 4, 6, 9, 10]], [[0, 1, 2, 3, 4], [2, 3, 4], [1, 3, 7], [0, 1, 3, 4], [0, 1, 5, 8], [0, 1, 2, 3, 5], [0, 1, 4, 6, 9, 11]], [[0, 1, 2, 3, 4], [2, 3, 4], [1, 3, 7], [0, 1, 3, 4], [0, 1, 2, 4, 7], [0, 1, 2, 3, 5], [0, 1, 4, 6, 10, 11]], [[0, 1, 2, 3, 4], [2, 3, 4], [1, 3, 7], [0, 1, 5], [0, 1, 3], [0, 1, 5, 8], [0, 1, 4, 7, 8, 9]], [[0, 1, 2, 3, 4], [2, 3, 4], [1, 3, 7], [0, 1, 5], [0, 1, 3], [0, 1, 2, 4, 7], [0, 1, 4, 7, 8, 10]], [[0, 1, 2, 3, 4], [2, 3, 4], [1, 3, 7], [0, 1, 5], [0, 1, 3], [0, 1, 2, 3, 5], [0, 1, 4, 7, 8, 11]], [[0, 1, 2, 3, 4], [2, 3, 4], [1, 3, 7], [0, 1, 5], [0, 1, 5, 8], [0, 1, 2, 4, 7], [0, 1, 4, 7, 9, 10]], [[0, 1, 2, 3, 4], [2, 3, 4], [1, 3, 7], [0, 1, 5], [0, 1, 5, 8], [0, 1, 2, 3, 5], [0, 1, 4, 7, 9, 11]], [[0, 1, 2, 3, 4], [2, 3, 4], [1, 3, 7], [0, 1, 5], [0, 1, 2, 4, 7], [0, 1, 2, 3, 5], [0, 1, 4, 7, 10, 11]], [[0, 1, 2, 3, 4], [2, 3, 4], [1, 3, 7], [0, 1, 3], [0, 1, 5, 8], [0, 1, 2, 4, 7], [0, 1, 4, 8, 9, 10]], [[0, 1, 2, 3, 4], [2, 3, 4], [1, 3, 7], [0, 1, 3], [0, 1, 5, 8], [0, 1, 2, 3, 5], [0, 1, 4, 8, 9, 11]], [[0, 1, 2, 3, 4], [2, 3, 4], [1, 3, 7], [0, 1, 3], [0, 1, 2, 4, 7], [0, 1, 2, 3, 5], [0, 1, 4, 8, 10, 11]], [[0, 1, 2, 3, 4], [2, 3, 4], [1, 3, 7], [0, 1, 5, 8], [0, 1, 2, 4, 7], [0, 1, 2, 3, 5], [0, 1, 4, 9, 10, 11]], [[0, 1, 2, 3, 4], [2, 3, 4], [0, 1, 3, 4], [0, 1, 3, 4], [0, 1, 5], [0, 1, 3], [0, 1, 5, 6, 7, 8]], [[0, 1, 2, 3, 4], [2, 3, 4], [0, 1, 3, 4], [0, 1, 3, 4], [0, 1, 5], [0, 1, 5, 8], [0, 1, 5, 6, 7, 9]], [[0, 1, 2, 3, 4], [2, 3, 4], [0, 1, 3, 4], [0, 1, 3, 4], [0, 1, 5], [0, 1, 2, 4, 7], [0, 1, 5, 6, 7, 10]], [[0, 1, 2, 3, 4], [2, 3, 4], [0, 1, 3, 4], [0, 1, 3, 4], [0, 1, 5], [0, 1, 2, 3, 5], [0, 1, 5, 6, 7, 11]], [[0, 1, 2, 3, 4], [2, 3, 4], [0, 1, 3, 4], [0, 1, 3, 4], [0, 1, 3], [0, 1, 5, 8], [0, 1, 5, 6, 8, 9]], [[0, 1, 2, 3, 4], [2, 3, 4], [0, 1, 3, 4], [0, 1, 3, 4], [0, 1, 3], [0, 1, 2, 4, 7], [0, 1, 5, 6, 8, 10]], [[0, 1, 2, 3, 4], [2, 3, 4], [0, 1, 3, 4], [0, 1, 3, 4], [0, 1, 3], [0, 1, 2, 3, 5], [0, 1, 5, 6, 8, 11]], [[0, 1, 2, 3, 4], [2, 3, 4], [0, 1, 3, 4], [0, 1, 3, 4], [0, 1, 5, 8], [0, 1, 2, 4, 7], [0, 1, 5, 6, 9, 10]], [[0, 1, 2, 3, 4], [2, 3, 4], [0, 1, 3, 4], [0, 1, 3, 4], [0, 1, 5, 8], [0, 1, 2, 3, 5], [0, 1, 5, 6, 9, 11]], [[0, 1, 2, 3, 4], [2, 3, 4], [0, 1, 3, 4], [0, 1, 3, 4], [0, 1, 2, 4, 7], [0, 1, 2, 3, 5], [0, 1, 5, 6, 10, 11]], [[0, 1, 2, 3, 4], [2, 3, 4], [0, 1, 3, 4], [0, 1, 5], [0, 1, 3], [0, 1, 5, 8], [0, 1, 5, 7, 8, 9]], [[0, 1, 2, 3, 4], [2, 3, 4], [0, 1, 3, 4], [0, 1, 5], [0, 1, 3], [0, 1, 2, 4, 7], [0, 1, 5, 7, 8, 10]], [[0, 1, 2, 3, 4], [2, 3, 4], [0, 1, 3, 4], [0, 1, 5], [0, 1, 3], [0, 1, 2, 3, 5], [0, 1, 5, 7, 8, 11]], [[0, 1, 2, 3, 4], [2, 3, 4], [0, 1, 3, 4], [0, 1, 5], [0, 1, 5, 8], [0, 1, 2, 4, 7], [0, 1, 5, 7, 9, 10]], [[0, 1, 2, 3, 4], [2, 3, 4], [0, 1, 3, 4], [0, 1, 5], [0, 1, 5, 8], [0, 1, 2, 3, 5], [0, 1, 5, 7, 9, 11]], [[0, 1, 2, 3, 4], [2, 3, 4], [0, 1, 3, 4], [0, 1, 5], [0, 1, 2, 4, 7], [0, 1, 2, 3, 5], [0, 1, 5, 7, 10, 11]], [[0, 1, 2, 3, 4], [2, 3, 4], [0, 1, 3, 4], [0, 1, 3], [0, 1, 5, 8], [0, 1, 2, 4, 7], [0, 1, 5, 8, 9, 10]], [[0, 1, 2, 3, 4], [2, 3, 4], [0, 1, 3, 4], [0, 1, 3], [0, 1, 5, 8], [0, 1, 2, 3, 5], [0, 1, 5, 8, 9, 11]], [[0, 1, 2, 3, 4], [2, 3, 4], [0, 1, 3, 4], [0, 1, 3], [0, 1, 2, 4, 7], [0, 1, 2, 3, 5], [0, 1, 5, 8, 10, 11]], [[0, 1, 2, 3, 4], [2, 3, 4], [0, 1, 3, 4], [0, 1, 5, 8], [0, 1, 2, 4, 7], [0, 1, 2, 3, 5], [0, 1, 5, 9, 10, 11]], [[0, 1, 2, 3, 4], [2, 3, 4], [0, 1, 3, 4], [0, 1, 5], [0, 1, 3], [0, 1, 5, 8], [0, 1, 6, 7, 8, 9]], [[0, 1, 2, 3, 4], [2, 3, 4], [0, 1, 3, 4], [0, 1, 5], [0, 1, 3], [0, 1, 2, 4, 7], [0, 1, 6, 7, 8, 10]], [[0, 1, 2, 3, 4], [2, 3, 4], [0, 1, 3, 4], [0, 1, 5], [0, 1, 3], [0, 1, 2, 3, 5], [0, 1, 6, 7, 8, 11]], [[0, 1, 2, 3, 4], [2, 3, 4], [0, 1, 3, 4], [0, 1, 5], [0, 1, 5, 8], [0, 1, 2, 4, 7], [0, 1, 6, 7, 9, 10]], [[0, 1, 2, 3, 4], [2, 3, 4], [0, 1, 3, 4], [0, 1, 5], [0, 1, 5, 8], [0, 1, 2, 3, 5], [0, 1, 6, 7, 9, 11]], [[0, 1, 2, 3, 4], [2, 3, 4], [0, 1, 3, 4], [0, 1, 5], [0, 1, 2, 4, 7], [0, 1, 2, 3, 5], [0, 1, 6, 7, 10, 11]], [[0, 1, 2, 3, 4], [2, 3, 4], [0, 1, 3, 4], [0, 1, 3], [0, 1, 5, 8], [0, 1, 2, 4, 7], [0, 1, 6, 8, 9, 10]], [[0, 1, 2, 3, 4], [2, 3, 4], [0, 1, 3, 4], [0, 1, 3], [0, 1, 5, 8], [0, 1, 2, 3, 5], [0, 1, 6, 8, 9, 11]], [[0, 1, 2, 3, 4], [2, 3, 4], [0, 1, 3, 4], [0, 1, 3], [0, 1, 2, 4, 7], [0, 1, 2, 3, 5], [0, 1, 6, 8, 10, 11]], [[0, 1, 2, 3, 4], [2, 3, 4], [0, 1, 3, 4], [0, 1, 5, 8], [0, 1, 2, 4, 7], [0, 1, 2, 3, 5], [0, 1, 6, 9, 10, 11]], [[0, 1, 2, 3, 4], [2, 3, 4], [0, 1, 5], [0, 1, 3], [0, 1, 5, 8], [0, 1, 2, 4, 7], [0, 1, 7, 8, 9, 10]], [[0, 1, 2, 3, 4], [2, 3, 4], [0, 1, 5], [0, 1, 3], [0, 1, 5, 8], [0, 1, 2, 3, 5], [0, 1, 7, 8, 9, 11]], [[0, 1, 2, 3, 4], [2, 3, 4], [0, 1, 5], [0, 1, 3], [0, 1, 2, 4, 7], [0, 1, 2, 3, 5], [0, 1, 7, 8, 10, 11]], [[0, 1, 2, 3, 4], [2, 3, 4], [0, 1, 5], [0, 1, 5, 8], [0, 1, 2, 4, 7], [0, 1, 2, 3, 5], [0, 1, 7, 9, 10, 11]], [[0, 1, 2, 3, 4], [2, 3, 4], [0, 1, 3], [0, 1, 5, 8], [0, 1, 2, 4, 7], [0, 1, 2, 3, 5], [0, 1, 8, 9, 10, 11]], [[0, 1, 2, 3, 4], [1, 4, 6], [0, 1, 6, 7], [1, 3, 7], [0, 1, 3, 4], [0, 1, 3, 4], [0, 2, 3, 4, 5, 6]], [[0, 1, 2, 3, 4], [1, 4, 6], [0, 1, 6, 7], [1, 3, 7], [0, 1, 3, 4], [0, 1, 5], [0, 2, 3, 4, 5, 7]], [[0, 1, 2, 3, 4], [1, 4, 6], [0, 1, 6, 7], [1, 3, 7], [0, 1, 3, 4], [0, 1, 3], [0, 2, 3, 4, 5, 8]], [[0, 1, 2, 3, 4], [1, 4, 6], [0, 1, 6, 7], [1, 3, 7], [0, 1, 3, 4], [0, 1, 5, 8], [0, 2, 3, 4, 5, 9]], [[0, 1, 2, 3, 4], [1, 4, 6], [0, 1, 6, 7], [1, 3, 7], [0, 1, 3, 4], [0, 1, 2, 4, 7], [0, 2, 3, 4, 5, 10]], [[0, 1, 2, 3, 4], [1, 4, 6], [0, 1, 6, 7], [1, 3, 7], [0, 1, 3, 4], [0, 1, 2, 3, 5], [0, 2, 3, 4, 5, 11]], [[0, 1, 2, 3, 4], [1, 4, 6], [0, 1, 6, 7], [1, 3, 7], [0, 1, 3, 4], [0, 1, 5], [0, 2, 3, 4, 6, 7]], [[0, 1, 2, 3, 4], [1, 4, 6], [0, 1, 6, 7], [1, 3, 7], [0, 1, 3, 4], [0, 1, 3], [0, 2, 3, 4, 6, 8]], [[0, 1, 2, 3, 4], [1, 4, 6], [0, 1, 6, 7], [1, 3, 7], [0, 1, 3, 4], [0, 1, 5, 8], [0, 2, 3, 4, 6, 9]], [[0, 1, 2, 3, 4], [1, 4, 6], [0, 1, 6, 7], [1, 3, 7], [0, 1, 3, 4], [0, 1, 2, 4, 7], [0, 2, 3, 4, 6, 10]], [[0, 1, 2, 3, 4], [1, 4, 6], [0, 1, 6, 7], [1, 3, 7], [0, 1, 3, 4], [0, 1, 2, 3, 5], [0, 2, 3, 4, 6, 11]], [[0, 1, 2, 3, 4], [1, 4, 6], [0, 1, 6, 7], [1, 3, 7], [0, 1, 5], [0, 1, 3], [0, 2, 3, 4, 7, 8]], [[0, 1, 2, 3, 4], [1, 4, 6], [0, 1, 6, 7], [1, 3, 7], [0, 1, 5], [0, 1, 5, 8], [0, 2, 3, 4, 7, 9]], [[0, 1, 2, 3, 4], [1, 4, 6], [0, 1, 6, 7], [1, 3, 7], [0, 1, 5], [0, 1, 2, 4, 7], [0, 2, 3, 4, 7, 10]], [[0, 1, 2, 3, 4], [1, 4, 6], [0, 1, 6, 7], [1, 3, 7], [0, 1, 5], [0, 1, 2, 3, 5], [0, 2, 3, 4, 7, 11]], [[0, 1, 2, 3, 4], [1, 4, 6], [0, 1, 6, 7], [1, 3, 7], [0, 1, 3], [0, 1, 5, 8], [0, 2, 3, 4, 8, 9]], [[0, 1, 2, 3, 4], [1, 4, 6], [0, 1, 6, 7], [1, 3, 7], [0, 1, 3], [0, 1, 2, 4, 7], [0, 2, 3, 4, 8, 10]], [[0, 1, 2, 3, 4], [1, 4, 6], [0, 1, 6, 7], [1, 3, 7], [0, 1, 3], [0, 1, 2, 3, 5], [0, 2, 3, 4, 8, 11]], [[0, 1, 2, 3, 4], [1, 4, 6], [0, 1, 6, 7], [1, 3, 7], [0, 1, 5, 8], [0, 1, 2, 4, 7], [0, 2, 3, 4, 9, 10]], [[0, 1, 2, 3, 4], [1, 4, 6], [0, 1, 6, 7], [1, 3, 7], [0, 1, 5, 8], [0, 1, 2, 3, 5], [0, 2, 3, 4, 9, 11]], [[0, 1, 2, 3, 4], [1, 4, 6], [0, 1, 6, 7], [1, 3, 7], [0, 1, 2, 4, 7], [0, 1, 2, 3, 5], [0, 2, 3, 4, 10, 11]], [[0, 1, 2, 3, 4], [1, 4, 6], [0, 1, 6, 7], [0, 1, 3, 4], [0, 1, 3, 4], [0, 1, 5], [0, 2, 3, 5, 6, 7]], [[0, 1, 2, 3, 4], [1, 4, 6], [0, 1, 6, 7], [0, 1, 3, 4], [0, 1, 3, 4], [0, 1, 3], [0, 2, 3, 5, 6, 8]], [[0, 1, 2, 3, 4], [1, 4, 6], [0, 1, 6, 7], [0, 1, 3, 4], [0, 1, 3, 4], [0, 1, 5, 8], [0, 2, 3, 5, 6, 9]], [[0, 1, 2, 3, 4], [1, 4, 6], [0, 1, 6, 7], [0, 1, 3, 4], [0, 1, 3, 4], [0, 1, 2, 4, 7], [0, 2, 3, 5, 6, 10]], [[0, 1, 2, 3, 4], [1, 4, 6], [0, 1, 6, 7], [0, 1, 3, 4], [0, 1, 3, 4], [0, 1, 2, 3, 5], [0, 2, 3, 5, 6, 11]], [[0, 1, 2, 3, 4], [1, 4, 6], [0, 1, 6, 7], [0, 1, 3, 4], [0, 1, 5], [0, 1, 3], [0, 2, 3, 5, 7, 8]], [[0, 1, 2, 3, 4], [1, 4, 6], [0, 1, 6, 7], [0, 1, 3, 4], [0, 1, 5], [0, 1, 5, 8], [0, 2, 3, 5, 7, 9]], [[0, 1, 2, 3, 4], [1, 4, 6], [0, 1, 6, 7], [0, 1, 3, 4], [0, 1, 5], [0, 1, 2, 4, 7], [0, 2, 3, 5, 7, 10]], [[0, 1, 2, 3, 4], [1, 4, 6], [0, 1, 6, 7], [0, 1, 3, 4], [0, 1, 5], [0, 1, 2, 3, 5], [0, 2, 3, 5, 7, 11]], [[0, 1, 2, 3, 4], [1, 4, 6], [0, 1, 6, 7], [0, 1, 3, 4], [0, 1, 3], [0, 1, 5, 8], [0, 2, 3, 5, 8, 9]], [[0, 1, 2, 3, 4], [1, 4, 6], [0, 1, 6, 7], [0, 1, 3, 4], [0, 1, 3], [0, 1, 2, 4, 7], [0, 2, 3, 5, 8, 10]], [[0, 1, 2, 3, 4], [1, 4, 6], [0, 1, 6, 7], [0, 1, 3, 4], [0, 1, 3], [0, 1, 2, 3, 5], [0, 2, 3, 5, 8, 11]], [[0, 1, 2, 3, 4], [1, 4, 6], [0, 1, 6, 7], [0, 1, 3, 4], [0, 1, 5, 8], [0, 1, 2, 4, 7], [0, 2, 3, 5, 9, 10]], [[0, 1, 2, 3, 4], [1, 4, 6], [0, 1, 6, 7], [0, 1, 3, 4], [0, 1, 5, 8], [0, 1, 2, 3, 5], [0, 2, 3, 5, 9, 11]], [[0, 1, 2, 3, 4], [1, 4, 6], [0, 1, 6, 7], [0, 1, 3, 4], [0, 1, 2, 4, 7], [0, 1, 2, 3, 5], [0, 2, 3, 5, 10, 11]], [[0, 1, 2, 3, 4], [1, 4, 6], [0, 1, 6, 7], [0, 1, 3, 4], [0, 1, 5], [0, 1, 3], [0, 2, 3, 6, 7, 8]], [[0, 1, 2, 3, 4], [1, 4, 6], [0, 1, 6, 7], [0, 1, 3, 4], [0, 1, 5], [0, 1, 5, 8], [0, 2, 3, 6, 7, 9]], [[0, 1, 2, 3, 4], [1, 4, 6], [0, 1, 6, 7], [0, 1, 3, 4], [0, 1, 5], [0, 1, 2, 4, 7], [0, 2, 3, 6, 7, 10]], [[0, 1, 2, 3, 4], [1, 4, 6], [0, 1, 6, 7], [0, 1, 3, 4], [0, 1, 5], [0, 1, 2, 3, 5], [0, 2, 3, 6, 7, 11]], [[0, 1, 2, 3, 4], [1, 4, 6], [0, 1, 6, 7], [0, 1, 3, 4], [0, 1, 3], [0, 1, 5, 8], [0, 2, 3, 6, 8, 9]], [[0, 1, 2, 3, 4], [1, 4, 6], [0, 1, 6, 7], [0, 1, 3, 4], [0, 1, 3], [0, 1, 2, 4, 7], [0, 2, 3, 6, 8, 10]], [[0, 1, 2, 3, 4], [1, 4, 6], [0, 1, 6, 7], [0, 1, 3, 4], [0, 1, 3], [0, 1, 2, 3, 5], [0, 2, 3, 6, 8, 11]], [[0, 1, 2, 3, 4], [1, 4, 6], [0, 1, 6, 7], [0, 1, 3, 4], [0, 1, 5, 8], [0, 1, 2, 4, 7], [0, 2, 3, 6, 9, 10]], [[0, 1, 2, 3, 4], [1, 4, 6], [0, 1, 6, 7], [0, 1, 3, 4], [0, 1, 5, 8], [0, 1, 2, 3, 5], [0, 2, 3, 6, 9, 11]], [[0, 1, 2, 3, 4], [1, 4, 6], [0, 1, 6, 7], [0, 1, 3, 4], [0, 1, 2, 4, 7], [0, 1, 2, 3, 5], [0, 2, 3, 6, 10, 11]], [[0, 1, 2, 3, 4], [1, 4, 6], [0, 1, 6, 7], [0, 1, 5], [0, 1, 3], [0, 1, 5, 8], [0, 2, 3, 7, 8, 9]], [[0, 1, 2, 3, 4], [1, 4, 6], [0, 1, 6, 7], [0, 1, 5], [0, 1, 3], [0, 1, 2, 4, 7], [0, 2, 3, 7, 8, 10]], [[0, 1, 2, 3, 4], [1, 4, 6], [0, 1, 6, 7], [0, 1, 5], [0, 1, 3], [0, 1, 2, 3, 5], [0, 2, 3, 7, 8, 11]], [[0, 1, 2, 3, 4], [1, 4, 6], [0, 1, 6, 7], [0, 1, 5], [0, 1, 5, 8], [0, 1, 2, 4, 7], [0, 2, 3, 7, 9, 10]], [[0, 1, 2, 3, 4], [1, 4, 6], [0, 1, 6, 7], [0, 1, 5], [0, 1, 5, 8], [0, 1, 2, 3, 5], [0, 2, 3, 7, 9, 11]], [[0, 1, 2, 3, 4], [1, 4, 6], [0, 1, 6, 7], [0, 1, 5], [0, 1, 2, 4, 7], [0, 1, 2, 3, 5], [0, 2, 3, 7, 10, 11]], [[0, 1, 2, 3, 4], [1, 4, 6], [0, 1, 6, 7], [0, 1, 3], [0, 1, 5, 8], [0, 1, 2, 4, 7], [0, 2, 3, 8, 9, 10]], [[0, 1, 2, 3, 4], [1, 4, 6], [0, 1, 6, 7], [0, 1, 3], [0, 1, 5, 8], [0, 1, 2, 3, 5], [0, 2, 3, 8, 9, 11]], [[0, 1, 2, 3, 4], [1, 4, 6], [0, 1, 6, 7], [0, 1, 3], [0, 1, 2, 4, 7], [0, 1, 2, 3, 5], [0, 2, 3, 8, 10, 11]], [[0, 1, 2, 3, 4], [1, 4, 6], [0, 1, 6, 7], [0, 1, 5, 8], [0, 1, 2, 4, 7], [0, 1, 2, 3, 5], [0, 2, 3, 9, 10, 11]], [[0, 1, 2, 3, 4], [1, 4, 6], [1, 3, 7], [0, 1, 3, 4], [0, 1, 3, 4], [0, 1, 5], [0, 2, 4, 5, 6, 7]], [[0, 1, 2, 3, 4], [1, 4, 6], [1, 3, 7], [0, 1, 3, 4], [0, 1, 3, 4], [0, 1, 3], [0, 2, 4, 5, 6, 8]], [[0, 1, 2, 3, 4], [1, 4, 6], [1, 3, 7], [0, 1, 3, 4], [0, 1, 3, 4], [0, 1, 5, 8], [0, 2, 4, 5, 6, 9]], [[0, 1, 2, 3, 4], [1, 4, 6], [1, 3, 7], [0, 1, 3, 4], [0, 1, 3, 4], [0, 1, 2, 4, 7], [0, 2, 4, 5, 6, 10]], [[0, 1, 2, 3, 4], [1, 4, 6], [1, 3, 7], [0, 1, 3, 4], [0, 1, 3, 4], [0, 1, 2, 3, 5], [0, 2, 4, 5, 6, 11]], [[0, 1, 2, 3, 4], [1, 4, 6], [1, 3, 7], [0, 1, 3, 4], [0, 1, 5], [0, 1, 3], [0, 2, 4, 5, 7, 8]], [[0, 1, 2, 3, 4], [1, 4, 6], [1, 3, 7], [0, 1, 3, 4], [0, 1, 5], [0, 1, 5, 8], [0, 2, 4, 5, 7, 9]], [[0, 1, 2, 3, 4], [1, 4, 6], [1, 3, 7], [0, 1, 3, 4], [0, 1, 5], [0, 1, 2, 4, 7], [0, 2, 4, 5, 7, 10]], [[0, 1, 2, 3, 4], [1, 4, 6], [1, 3, 7], [0, 1, 3, 4], [0, 1, 5], [0, 1, 2, 3, 5], [0, 2, 4, 5, 7, 11]], [[0, 1, 2, 3, 4], [1, 4, 6], [1, 3, 7], [0, 1, 3, 4], [0, 1, 3], [0, 1, 5, 8], [0, 2, 4, 5, 8, 9]], [[0, 1, 2, 3, 4], [1, 4, 6], [1, 3, 7], [0, 1, 3, 4], [0, 1, 3], [0, 1, 2, 4, 7], [0, 2, 4, 5, 8, 10]], [[0, 1, 2, 3, 4], [1, 4, 6], [1, 3, 7], [0, 1, 3, 4], [0, 1, 3], [0, 1, 2, 3, 5], [0, 2, 4, 5, 8, 11]], [[0, 1, 2, 3, 4], [1, 4, 6], [1, 3, 7], [0, 1, 3, 4], [0, 1, 5, 8], [0, 1, 2, 4, 7], [0, 2, 4, 5, 9, 10]], [[0, 1, 2, 3, 4], [1, 4, 6], [1, 3, 7], [0, 1, 3, 4], [0, 1, 5, 8], [0, 1, 2, 3, 5], [0, 2, 4, 5, 9, 11]], [[0, 1, 2, 3, 4], [1, 4, 6], [1, 3, 7], [0, 1, 3, 4], [0, 1, 2, 4, 7], [0, 1, 2, 3, 5], [0, 2, 4, 5, 10, 11]], [[0, 1, 2, 3, 4], [1, 4, 6], [1, 3, 7], [0, 1, 3, 4], [0, 1, 5], [0, 1, 3], [0, 2, 4, 6, 7, 8]], [[0, 1, 2, 3, 4], [1, 4, 6], [1, 3, 7], [0, 1, 3, 4], [0, 1, 5], [0, 1, 5, 8], [0, 2, 4, 6, 7, 9]], [[0, 1, 2, 3, 4], [1, 4, 6], [1, 3, 7], [0, 1, 3, 4], [0, 1, 5], [0, 1, 2, 4, 7], [0, 2, 4, 6, 7, 10]], [[0, 1, 2, 3, 4], [1, 4, 6], [1, 3, 7], [0, 1, 3, 4], [0, 1, 5], [0, 1, 2, 3, 5], [0, 2, 4, 6, 7, 11]], [[0, 1, 2, 3, 4], [1, 4, 6], [1, 3, 7], [0, 1, 3, 4], [0, 1, 3], [0, 1, 5, 8], [0, 2, 4, 6, 8, 9]], [[0, 1, 2, 3, 4], [1, 4, 6], [1, 3, 7], [0, 1, 3, 4], [0, 1, 3], [0, 1, 2, 4, 7], [0, 2, 4, 6, 8, 10]], [[0, 1, 2, 3, 4], [1, 4, 6], [1, 3, 7], [0, 1, 3, 4], [0, 1, 3], [0, 1, 2, 3, 5], [0, 2, 4, 6, 8, 11]], [[0, 1, 2, 3, 4], [1, 4, 6], [1, 3, 7], [0, 1, 3, 4], [0, 1, 5, 8], [0, 1, 2, 4, 7], [0, 2, 4, 6, 9, 10]], [[0, 1, 2, 3, 4], [1, 4, 6], [1, 3, 7], [0, 1, 3, 4], [0, 1, 5, 8], [0, 1, 2, 3, 5], [0, 2, 4, 6, 9, 11]], [[0, 1, 2, 3, 4], [1, 4, 6], [1, 3, 7], [0, 1, 3, 4], [0, 1, 2, 4, 7], [0, 1, 2, 3, 5], [0, 2, 4, 6, 10, 11]], [[0, 1, 2, 3, 4], [1, 4, 6], [1, 3, 7], [0, 1, 5], [0, 1, 3], [0, 1, 5, 8], [0, 2, 4, 7, 8, 9]], [[0, 1, 2, 3, 4], [1, 4, 6], [1, 3, 7], [0, 1, 5], [0, 1, 3], [0, 1, 2, 4, 7], [0, 2, 4, 7, 8, 10]], [[0, 1, 2, 3, 4], [1, 4, 6], [1, 3, 7], [0, 1, 5], [0, 1, 3], [0, 1, 2, 3, 5], [0, 2, 4, 7, 8, 11]], [[0, 1, 2, 3, 4], [1, 4, 6], [1, 3, 7], [0, 1, 5], [0, 1, 5, 8], [0, 1, 2, 4, 7], [0, 2, 4, 7, 9, 10]], [[0, 1, 2, 3, 4], [1, 4, 6], [1, 3, 7], [0, 1, 5], [0, 1, 5, 8], [0, 1, 2, 3, 5], [0, 2, 4, 7, 9, 11]], [[0, 1, 2, 3, 4], [1, 4, 6], [1, 3, 7], [0, 1, 5], [0, 1, 2, 4, 7], [0, 1, 2, 3, 5], [0, 2, 4, 7, 10, 11]], [[0, 1, 2, 3, 4], [1, 4, 6], [1, 3, 7], [0, 1, 3], [0, 1, 5, 8], [0, 1, 2, 4, 7], [0, 2, 4, 8, 9, 10]], [[0, 1, 2, 3, 4], [1, 4, 6], [1, 3, 7], [0, 1, 3], [0, 1, 5, 8], [0, 1, 2, 3, 5], [0, 2, 4, 8, 9, 11]], [[0, 1, 2, 3, 4], [1, 4, 6], [1, 3, 7], [0, 1, 3], [0, 1, 2, 4, 7], [0, 1, 2, 3, 5], [0, 2, 4, 8, 10, 11]], [[0, 1, 2, 3, 4], [1, 4, 6], [1, 3, 7], [0, 1, 5, 8], [0, 1, 2, 4, 7], [0, 1, 2, 3, 5], [0, 2, 4, 9, 10, 11]], [[0, 1, 2, 3, 4], [1, 4, 6], [0, 1, 3, 4], [0, 1, 3, 4], [0, 1, 5], [0, 1, 3], [0, 2, 5, 6, 7, 8]], [[0, 1, 2, 3, 4], [1, 4, 6], [0, 1, 3, 4], [0, 1, 3, 4], [0, 1, 5], [0, 1, 5, 8], [0, 2, 5, 6, 7, 9]], [[0, 1, 2, 3, 4], [1, 4, 6], [0, 1, 3, 4], [0, 1, 3, 4], [0, 1, 5], [0, 1, 2, 4, 7], [0, 2, 5, 6, 7, 10]], [[0, 1, 2, 3, 4], [1, 4, 6], [0, 1, 3, 4], [0, 1, 3, 4], [0, 1, 5], [0, 1, 2, 3, 5], [0, 2, 5, 6, 7, 11]], [[0, 1, 2, 3, 4], [1, 4, 6], [0, 1, 3, 4], [0, 1, 3, 4], [0, 1, 3], [0, 1, 5, 8], [0, 2, 5, 6, 8, 9]], [[0, 1, 2, 3, 4], [1, 4, 6], [0, 1, 3, 4], [0, 1, 3, 4], [0, 1, 3], [0, 1, 2, 4, 7], [0, 2, 5, 6, 8, 10]], [[0, 1, 2, 3, 4], [1, 4, 6], [0, 1, 3, 4], [0, 1, 3, 4], [0, 1, 3], [0, 1, 2, 3, 5], [0, 2, 5, 6, 8, 11]], [[0, 1, 2, 3, 4], [1, 4, 6], [0, 1, 3, 4], [0, 1, 3, 4], [0, 1, 5, 8], [0, 1, 2, 4, 7], [0, 2, 5, 6, 9, 10]], [[0, 1, 2, 3, 4], [1, 4, 6], [0, 1, 3, 4], [0, 1, 3, 4], [0, 1, 5, 8], [0, 1, 2, 3, 5], [0, 2, 5, 6, 9, 11]], [[0, 1, 2, 3, 4], [1, 4, 6], [0, 1, 3, 4], [0, 1, 3, 4], [0, 1, 2, 4, 7], [0, 1, 2, 3, 5], [0, 2, 5, 6, 10, 11]], [[0, 1, 2, 3, 4], [1, 4, 6], [0, 1, 3, 4], [0, 1, 5], [0, 1, 3], [0, 1, 5, 8], [0, 2, 5, 7, 8, 9]], [[0, 1, 2, 3, 4], [1, 4, 6], [0, 1, 3, 4], [0, 1, 5], [0, 1, 3], [0, 1, 2, 4, 7], [0, 2, 5, 7, 8, 10]], [[0, 1, 2, 3, 4], [1, 4, 6], [0, 1, 3, 4], [0, 1, 5], [0, 1, 3], [0, 1, 2, 3, 5], [0, 2, 5, 7, 8, 11]], [[0, 1, 2, 3, 4], [1, 4, 6], [0, 1, 3, 4], [0, 1, 5], [0, 1, 5, 8], [0, 1, 2, 4, 7], [0, 2, 5, 7, 9, 10]], [[0, 1, 2, 3, 4], [1, 4, 6], [0, 1, 3, 4], [0, 1, 5], [0, 1, 5, 8], [0, 1, 2, 3, 5], [0, 2, 5, 7, 9, 11]], [[0, 1, 2, 3, 4], [1, 4, 6], [0, 1, 3, 4], [0, 1, 5], [0, 1, 2, 4, 7], [0, 1, 2, 3, 5], [0, 2, 5, 7, 10, 11]], [[0, 1, 2, 3, 4], [1, 4, 6], [0, 1, 3, 4], [0, 1, 3], [0, 1, 5, 8], [0, 1, 2, 4, 7], [0, 2, 5, 8, 9, 10]], [[0, 1, 2, 3, 4], [1, 4, 6], [0, 1, 3, 4], [0, 1, 3], [0, 1, 5, 8], [0, 1, 2, 3, 5], [0, 2, 5, 8, 9, 11]], [[0, 1, 2, 3, 4], [1, 4, 6], [0, 1, 3, 4], [0, 1, 3], [0, 1, 2, 4, 7], [0, 1, 2, 3, 5], [0, 2, 5, 8, 10, 11]], [[0, 1, 2, 3, 4], [1, 4, 6], [0, 1, 3, 4], [0, 1, 5, 8], [0, 1, 2, 4, 7], [0, 1, 2, 3, 5], [0, 2, 5, 9, 10, 11]], [[0, 1, 2, 3, 4], [1, 4, 6], [0, 1, 3, 4], [0, 1, 5], [0, 1, 3], [0, 1, 5, 8], [0, 2, 6, 7, 8, 9]], [[0, 1, 2, 3, 4], [1, 4, 6], [0, 1, 3, 4], [0, 1, 5], [0, 1, 3], [0, 1, 2, 4, 7], [0, 2, 6, 7, 8, 10]], [[0, 1, 2, 3, 4], [1, 4, 6], [0, 1, 3, 4], [0, 1, 5], [0, 1, 3], [0, 1, 2, 3, 5], [0, 2, 6, 7, 8, 11]], [[0, 1, 2, 3, 4], [1, 4, 6], [0, 1, 3, 4], [0, 1, 5], [0, 1, 5, 8], [0, 1, 2, 4, 7], [0, 2, 6, 7, 9, 10]], [[0, 1, 2, 3, 4], [1, 4, 6], [0, 1, 3, 4], [0, 1, 5], [0, 1, 5, 8], [0, 1, 2, 3, 5], [0, 2, 6, 7, 9, 11]], [[0, 1, 2, 3, 4], [1, 4, 6], [0, 1, 3, 4], [0, 1, 5], [0, 1, 2, 4, 7], [0, 1, 2, 3, 5], [0, 2, 6, 7, 10, 11]], [[0, 1, 2, 3, 4], [1, 4, 6], [0, 1, 3, 4], [0, 1, 3], [0, 1, 5, 8], [0, 1, 2, 4, 7], [0, 2, 6, 8, 9, 10]], [[0, 1, 2, 3, 4], [1, 4, 6], [0, 1, 3, 4], [0, 1, 3], [0, 1, 5, 8], [0, 1, 2, 3, 5], [0, 2, 6, 8, 9, 11]], [[0, 1, 2, 3, 4], [1, 4, 6], [0, 1, 3, 4], [0, 1, 3], [0, 1, 2, 4, 7], [0, 1, 2, 3, 5], [0, 2, 6, 8, 10, 11]], [[0, 1, 2, 3, 4], [1, 4, 6], [0, 1, 3, 4], [0, 1, 5, 8], [0, 1, 2, 4, 7], [0, 1, 2, 3, 5], [0, 2, 6, 9, 10, 11]], [[0, 1, 2, 3, 4], [1, 4, 6], [0, 1, 5], [0, 1, 3], [0, 1, 5, 8], [0, 1, 2, 4, 7], [0, 2, 7, 8, 9, 10]], [[0, 1, 2, 3, 4], [1, 4, 6], [0, 1, 5], [0, 1, 3], [0, 1, 5, 8], [0, 1, 2, 3, 5], [0, 2, 7, 8, 9, 11]], [[0, 1, 2, 3, 4], [1, 4, 6], [0, 1, 5], [0, 1, 3], [0, 1, 2, 4, 7], [0, 1, 2, 3, 5], [0, 2, 7, 8, 10, 11]], [[0, 1, 2, 3, 4], [1, 4, 6], [0, 1, 5], [0, 1, 5, 8], [0, 1, 2, 4, 7], [0, 1, 2, 3, 5], [0, 2, 7, 9, 10, 11]], [[0, 1, 2, 3, 4], [1, 4, 6], [0, 1, 3], [0, 1, 5, 8], [0, 1, 2, 4, 7], [0, 1, 2, 3, 5], [0, 2, 8, 9, 10, 11]], [[0, 1, 2, 3, 4], [0, 1, 6, 7], [1, 3, 7], [0, 1, 3, 4], [0, 1, 3, 4], [0, 1, 5], [0, 3, 4, 5, 6, 7]], [[0, 1, 2, 3, 4], [0, 1, 6, 7], [1, 3, 7], [0, 1, 3, 4], [0, 1, 3, 4], [0, 1, 3], [0, 3, 4, 5, 6, 8]], [[0, 1, 2, 3, 4], [0, 1, 6, 7], [1, 3, 7], [0, 1, 3, 4], [0, 1, 3, 4], [0, 1, 5, 8], [0, 3, 4, 5, 6, 9]], [[0, 1, 2, 3, 4], [0, 1, 6, 7], [1, 3, 7], [0, 1, 3, 4], [0, 1, 3, 4], [0, 1, 2, 4, 7], [0, 3, 4, 5, 6, 10]], [[0, 1, 2, 3, 4], [0, 1, 6, 7], [1, 3, 7], [0, 1, 3, 4], [0, 1, 3, 4], [0, 1, 2, 3, 5], [0, 3, 4, 5, 6, 11]], [[0, 1, 2, 3, 4], [0, 1, 6, 7], [1, 3, 7], [0, 1, 3, 4], [0, 1, 5], [0, 1, 3], [0, 3, 4, 5, 7, 8]], [[0, 1, 2, 3, 4], [0, 1, 6, 7], [1, 3, 7], [0, 1, 3, 4], [0, 1, 5], [0, 1, 5, 8], [0, 3, 4, 5, 7, 9]], [[0, 1, 2, 3, 4], [0, 1, 6, 7], [1, 3, 7], [0, 1, 3, 4], [0, 1, 5], [0, 1, 2, 4, 7], [0, 3, 4, 5, 7, 10]], [[0, 1, 2, 3, 4], [0, 1, 6, 7], [1, 3, 7], [0, 1, 3, 4], [0, 1, 5], [0, 1, 2, 3, 5], [0, 3, 4, 5, 7, 11]], [[0, 1, 2, 3, 4], [0, 1, 6, 7], [1, 3, 7], [0, 1, 3, 4], [0, 1, 3], [0, 1, 5, 8], [0, 3, 4, 5, 8, 9]], [[0, 1, 2, 3, 4], [0, 1, 6, 7], [1, 3, 7], [0, 1, 3, 4], [0, 1, 3], [0, 1, 2, 4, 7], [0, 3, 4, 5, 8, 10]], [[0, 1, 2, 3, 4], [0, 1, 6, 7], [1, 3, 7], [0, 1, 3, 4], [0, 1, 3], [0, 1, 2, 3, 5], [0, 3, 4, 5, 8, 11]], [[0, 1, 2, 3, 4], [0, 1, 6, 7], [1, 3, 7], [0, 1, 3, 4], [0, 1, 5, 8], [0, 1, 2, 4, 7], [0, 3, 4, 5, 9, 10]], [[0, 1, 2, 3, 4], [0, 1, 6, 7], [1, 3, 7], [0, 1, 3, 4], [0, 1, 5, 8], [0, 1, 2, 3, 5], [0, 3, 4, 5, 9, 11]], [[0, 1, 2, 3, 4], [0, 1, 6, 7], [1, 3, 7], [0, 1, 3, 4], [0, 1, 2, 4, 7], [0, 1, 2, 3, 5], [0, 3, 4, 5, 10, 11]], [[0, 1, 2, 3, 4], [0, 1, 6, 7], [1, 3, 7], [0, 1, 3, 4], [0, 1, 5], [0, 1, 3], [0, 3, 4, 6, 7, 8]], [[0, 1, 2, 3, 4], [0, 1, 6, 7], [1, 3, 7], [0, 1, 3, 4], [0, 1, 5], [0, 1, 5, 8], [0, 3, 4, 6, 7, 9]], [[0, 1, 2, 3, 4], [0, 1, 6, 7], [1, 3, 7], [0, 1, 3, 4], [0, 1, 5], [0, 1, 2, 4, 7], [0, 3, 4, 6, 7, 10]], [[0, 1, 2, 3, 4], [0, 1, 6, 7], [1, 3, 7], [0, 1, 3, 4], [0, 1, 5], [0, 1, 2, 3, 5], [0, 3, 4, 6, 7, 11]], [[0, 1, 2, 3, 4], [0, 1, 6, 7], [1, 3, 7], [0, 1, 3, 4], [0, 1, 3], [0, 1, 5, 8], [0, 3, 4, 6, 8, 9]], [[0, 1, 2, 3, 4], [0, 1, 6, 7], [1, 3, 7], [0, 1, 3, 4], [0, 1, 3], [0, 1, 2, 4, 7], [0, 3, 4, 6, 8, 10]], [[0, 1, 2, 3, 4], [0, 1, 6, 7], [1, 3, 7], [0, 1, 3, 4], [0, 1, 3], [0, 1, 2, 3, 5], [0, 3, 4, 6, 8, 11]], [[0, 1, 2, 3, 4], [0, 1, 6, 7], [1, 3, 7], [0, 1, 3, 4], [0, 1, 5, 8], [0, 1, 2, 4, 7], [0, 3, 4, 6, 9, 10]], [[0, 1, 2, 3, 4], [0, 1, 6, 7], [1, 3, 7], [0, 1, 3, 4], [0, 1, 5, 8], [0, 1, 2, 3, 5], [0, 3, 4, 6, 9, 11]], [[0, 1, 2, 3, 4], [0, 1, 6, 7], [1, 3, 7], [0, 1, 3, 4], [0, 1, 2, 4, 7], [0, 1, 2, 3, 5], [0, 3, 4, 6, 10, 11]], [[0, 1, 2, 3, 4], [0, 1, 6, 7], [1, 3, 7], [0, 1, 5], [0, 1, 3], [0, 1, 5, 8], [0, 3, 4, 7, 8, 9]], [[0, 1, 2, 3, 4], [0, 1, 6, 7], [1, 3, 7], [0, 1, 5], [0, 1, 3], [0, 1, 2, 4, 7], [0, 3, 4, 7, 8, 10]], [[0, 1, 2, 3, 4], [0, 1, 6, 7], [1, 3, 7], [0, 1, 5], [0, 1, 3], [0, 1, 2, 3, 5], [0, 3, 4, 7, 8, 11]], [[0, 1, 2, 3, 4], [0, 1, 6, 7], [1, 3, 7], [0, 1, 5], [0, 1, 5, 8], [0, 1, 2, 4, 7], [0, 3, 4, 7, 9, 10]], [[0, 1, 2, 3, 4], [0, 1, 6, 7], [1, 3, 7], [0, 1, 5], [0, 1, 5, 8], [0, 1, 2, 3, 5], [0, 3, 4, 7, 9, 11]], [[0, 1, 2, 3, 4], [0, 1, 6, 7], [1, 3, 7], [0, 1, 5], [0, 1, 2, 4, 7], [0, 1, 2, 3, 5], [0, 3, 4, 7, 10, 11]], [[0, 1, 2, 3, 4], [0, 1, 6, 7], [1, 3, 7], [0, 1, 3], [0, 1, 5, 8], [0, 1, 2, 4, 7], [0, 3, 4, 8, 9, 10]], [[0, 1, 2, 3, 4], [0, 1, 6, 7], [1, 3, 7], [0, 1, 3], [0, 1, 5, 8], [0, 1, 2, 3, 5], [0, 3, 4, 8, 9, 11]], [[0, 1, 2, 3, 4], [0, 1, 6, 7], [1, 3, 7], [0, 1, 3], [0, 1, 2, 4, 7], [0, 1, 2, 3, 5], [0, 3, 4, 8, 10, 11]], [[0, 1, 2, 3, 4], [0, 1, 6, 7], [1, 3, 7], [0, 1, 5, 8], [0, 1, 2, 4, 7], [0, 1, 2, 3, 5], [0, 3, 4, 9, 10, 11]], [[0, 1, 2, 3, 4], [0, 1, 6, 7], [0, 1, 3, 4], [0, 1, 3, 4], [0, 1, 5], [0, 1, 3], [0, 3, 5, 6, 7, 8]], [[0, 1, 2, 3, 4], [0, 1, 6, 7], [0, 1, 3, 4], [0, 1, 3, 4], [0, 1, 5], [0, 1, 5, 8], [0, 3, 5, 6, 7, 9]], [[0, 1, 2, 3, 4], [0, 1, 6, 7], [0, 1, 3, 4], [0, 1, 3, 4], [0, 1, 5], [0, 1, 2, 4, 7], [0, 3, 5, 6, 7, 10]], [[0, 1, 2, 3, 4], [0, 1, 6, 7], [0, 1, 3, 4], [0, 1, 3, 4], [0, 1, 5], [0, 1, 2, 3, 5], [0, 3, 5, 6, 7, 11]], [[0, 1, 2, 3, 4], [0, 1, 6, 7], [0, 1, 3, 4], [0, 1, 3, 4], [0, 1, 3], [0, 1, 5, 8], [0, 3, 5, 6, 8, 9]], [[0, 1, 2, 3, 4], [0, 1, 6, 7], [0, 1, 3, 4], [0, 1, 3, 4], [0, 1, 3], [0, 1, 2, 4, 7], [0, 3, 5, 6, 8, 10]], [[0, 1, 2, 3, 4], [0, 1, 6, 7], [0, 1, 3, 4], [0, 1, 3, 4], [0, 1, 3], [0, 1, 2, 3, 5], [0, 3, 5, 6, 8, 11]], [[0, 1, 2, 3, 4], [0, 1, 6, 7], [0, 1, 3, 4], [0, 1, 3, 4], [0, 1, 5, 8], [0, 1, 2, 4, 7], [0, 3, 5, 6, 9, 10]], [[0, 1, 2, 3, 4], [0, 1, 6, 7], [0, 1, 3, 4], [0, 1, 3, 4], [0, 1, 5, 8], [0, 1, 2, 3, 5], [0, 3, 5, 6, 9, 11]], [[0, 1, 2, 3, 4], [0, 1, 6, 7], [0, 1, 3, 4], [0, 1, 3, 4], [0, 1, 2, 4, 7], [0, 1, 2, 3, 5], [0, 3, 5, 6, 10, 11]], [[0, 1, 2, 3, 4], [0, 1, 6, 7], [0, 1, 3, 4], [0, 1, 5], [0, 1, 3], [0, 1, 5, 8], [0, 3, 5, 7, 8, 9]], [[0, 1, 2, 3, 4], [0, 1, 6, 7], [0, 1, 3, 4], [0, 1, 5], [0, 1, 3], [0, 1, 2, 4, 7], [0, 3, 5, 7, 8, 10]], [[0, 1, 2, 3, 4], [0, 1, 6, 7], [0, 1, 3, 4], [0, 1, 5], [0, 1, 3], [0, 1, 2, 3, 5], [0, 3, 5, 7, 8, 11]], [[0, 1, 2, 3, 4], [0, 1, 6, 7], [0, 1, 3, 4], [0, 1, 5], [0, 1, 5, 8], [0, 1, 2, 4, 7], [0, 3, 5, 7, 9, 10]], [[0, 1, 2, 3, 4], [0, 1, 6, 7], [0, 1, 3, 4], [0, 1, 5], [0, 1, 5, 8], [0, 1, 2, 3, 5], [0, 3, 5, 7, 9, 11]], [[0, 1, 2, 3, 4], [0, 1, 6, 7], [0, 1, 3, 4], [0, 1, 5], [0, 1, 2, 4, 7], [0, 1, 2, 3, 5], [0, 3, 5, 7, 10, 11]], [[0, 1, 2, 3, 4], [0, 1, 6, 7], [0, 1, 3, 4], [0, 1, 3], [0, 1, 5, 8], [0, 1, 2, 4, 7], [0, 3, 5, 8, 9, 10]], [[0, 1, 2, 3, 4], [0, 1, 6, 7], [0, 1, 3, 4], [0, 1, 3], [0, 1, 5, 8], [0, 1, 2, 3, 5], [0, 3, 5, 8, 9, 11]], [[0, 1, 2, 3, 4], [0, 1, 6, 7], [0, 1, 3, 4], [0, 1, 3], [0, 1, 2, 4, 7], [0, 1, 2, 3, 5], [0, 3, 5, 8, 10, 11]], [[0, 1, 2, 3, 4], [0, 1, 6, 7], [0, 1, 3, 4], [0, 1, 5, 8], [0, 1, 2, 4, 7], [0, 1, 2, 3, 5], [0, 3, 5, 9, 10, 11]], [[0, 1, 2, 3, 4], [0, 1, 6, 7], [0, 1, 3, 4], [0, 1, 5], [0, 1, 3], [0, 1, 5, 8], [0, 3, 6, 7, 8, 9]], [[0, 1, 2, 3, 4], [0, 1, 6, 7], [0, 1, 3, 4], [0, 1, 5], [0, 1, 3], [0, 1, 2, 4, 7], [0, 3, 6, 7, 8, 10]], [[0, 1, 2, 3, 4], [0, 1, 6, 7], [0, 1, 3, 4], [0, 1, 5], [0, 1, 3], [0, 1, 2, 3, 5], [0, 3, 6, 7, 8, 11]], [[0, 1, 2, 3, 4], [0, 1, 6, 7], [0, 1, 3, 4], [0, 1, 5], [0, 1, 5, 8], [0, 1, 2, 4, 7], [0, 3, 6, 7, 9, 10]], [[0, 1, 2, 3, 4], [0, 1, 6, 7], [0, 1, 3, 4], [0, 1, 5], [0, 1, 5, 8], [0, 1, 2, 3, 5], [0, 3, 6, 7, 9, 11]], [[0, 1, 2, 3, 4], [0, 1, 6, 7], [0, 1, 3, 4], [0, 1, 5], [0, 1, 2, 4, 7], [0, 1, 2, 3, 5], [0, 3, 6, 7, 10, 11]], [[0, 1, 2, 3, 4], [0, 1, 6, 7], [0, 1, 3, 4], [0, 1, 3], [0, 1, 5, 8], [0, 1, 2, 4, 7], [0, 3, 6, 8, 9, 10]], [[0, 1, 2, 3, 4], [0, 1, 6, 7], [0, 1, 3, 4], [0, 1, 3], [0, 1, 5, 8], [0, 1, 2, 3, 5], [0, 3, 6, 8, 9, 11]], [[0, 1, 2, 3, 4], [0, 1, 6, 7], [0, 1, 3, 4], [0, 1, 3], [0, 1, 2, 4, 7], [0, 1, 2, 3, 5], [0, 3, 6, 8, 10, 11]], [[0, 1, 2, 3, 4], [0, 1, 6, 7], [0, 1, 3, 4], [0, 1, 5, 8], [0, 1, 2, 4, 7], [0, 1, 2, 3, 5], [0, 3, 6, 9, 10, 11]], [[0, 1, 2, 3, 4], [0, 1, 6, 7], [0, 1, 5], [0, 1, 3], [0, 1, 5, 8], [0, 1, 2, 4, 7], [0, 3, 7, 8, 9, 10]], [[0, 1, 2, 3, 4], [0, 1, 6, 7], [0, 1, 5], [0, 1, 3], [0, 1, 5, 8], [0, 1, 2, 3, 5], [0, 3, 7, 8, 9, 11]], [[0, 1, 2, 3, 4], [0, 1, 6, 7], [0, 1, 5], [0, 1, 3], [0, 1, 2, 4, 7], [0, 1, 2, 3, 5], [0, 3, 7, 8, 10, 11]], [[0, 1, 2, 3, 4], [0, 1, 6, 7], [0, 1, 5], [0, 1, 5, 8], [0, 1, 2, 4, 7], [0, 1, 2, 3, 5], [0, 3, 7, 9, 10, 11]], [[0, 1, 2, 3, 4], [0, 1, 6, 7], [0, 1, 3], [0, 1, 5, 8], [0, 1, 2, 4, 7], [0, 1, 2, 3, 5], [0, 3, 8, 9, 10, 11]], [[0, 1, 2, 3, 4], [1, 3, 7], [0, 1, 3, 4], [0, 1, 3, 4], [0, 1, 5], [0, 1, 3], [0, 4, 5, 6, 7, 8]], [[0, 1, 2, 3, 4], [1, 3, 7], [0, 1, 3, 4], [0, 1, 3, 4], [0, 1, 5], [0, 1, 5, 8], [0, 4, 5, 6, 7, 9]], [[0, 1, 2, 3, 4], [1, 3, 7], [0, 1, 3, 4], [0, 1, 3, 4], [0, 1, 5], [0, 1, 2, 4, 7], [0, 4, 5, 6, 7, 10]], [[0, 1, 2, 3, 4], [1, 3, 7], [0, 1, 3, 4], [0, 1, 3, 4], [0, 1, 5], [0, 1, 2, 3, 5], [0, 4, 5, 6, 7, 11]], [[0, 1, 2, 3, 4], [1, 3, 7], [0, 1, 3, 4], [0, 1, 3, 4], [0, 1, 3], [0, 1, 5, 8], [0, 4, 5, 6, 8, 9]], [[0, 1, 2, 3, 4], [1, 3, 7], [0, 1, 3, 4], [0, 1, 3, 4], [0, 1, 3], [0, 1, 2, 4, 7], [0, 4, 5, 6, 8, 10]], [[0, 1, 2, 3, 4], [1, 3, 7], [0, 1, 3, 4], [0, 1, 3, 4], [0, 1, 3], [0, 1, 2, 3, 5], [0, 4, 5, 6, 8, 11]], [[0, 1, 2, 3, 4], [1, 3, 7], [0, 1, 3, 4], [0, 1, 3, 4], [0, 1, 5, 8], [0, 1, 2, 4, 7], [0, 4, 5, 6, 9, 10]], [[0, 1, 2, 3, 4], [1, 3, 7], [0, 1, 3, 4], [0, 1, 3, 4], [0, 1, 5, 8], [0, 1, 2, 3, 5], [0, 4, 5, 6, 9, 11]], [[0, 1, 2, 3, 4], [1, 3, 7], [0, 1, 3, 4], [0, 1, 3, 4], [0, 1, 2, 4, 7], [0, 1, 2, 3, 5], [0, 4, 5, 6, 10, 11]], [[0, 1, 2, 3, 4], [1, 3, 7], [0, 1, 3, 4], [0, 1, 5], [0, 1, 3], [0, 1, 5, 8], [0, 4, 5, 7, 8, 9]], [[0, 1, 2, 3, 4], [1, 3, 7], [0, 1, 3, 4], [0, 1, 5], [0, 1, 3], [0, 1, 2, 4, 7], [0, 4, 5, 7, 8, 10]], [[0, 1, 2, 3, 4], [1, 3, 7], [0, 1, 3, 4], [0, 1, 5], [0, 1, 3], [0, 1, 2, 3, 5], [0, 4, 5, 7, 8, 11]], [[0, 1, 2, 3, 4], [1, 3, 7], [0, 1, 3, 4], [0, 1, 5], [0, 1, 5, 8], [0, 1, 2, 4, 7], [0, 4, 5, 7, 9, 10]], [[0, 1, 2, 3, 4], [1, 3, 7], [0, 1, 3, 4], [0, 1, 5], [0, 1, 5, 8], [0, 1, 2, 3, 5], [0, 4, 5, 7, 9, 11]], [[0, 1, 2, 3, 4], [1, 3, 7], [0, 1, 3, 4], [0, 1, 5], [0, 1, 2, 4, 7], [0, 1, 2, 3, 5], [0, 4, 5, 7, 10, 11]], [[0, 1, 2, 3, 4], [1, 3, 7], [0, 1, 3, 4], [0, 1, 3], [0, 1, 5, 8], [0, 1, 2, 4, 7], [0, 4, 5, 8, 9, 10]], [[0, 1, 2, 3, 4], [1, 3, 7], [0, 1, 3, 4], [0, 1, 3], [0, 1, 5, 8], [0, 1, 2, 3, 5], [0, 4, 5, 8, 9, 11]], [[0, 1, 2, 3, 4], [1, 3, 7], [0, 1, 3, 4], [0, 1, 3], [0, 1, 2, 4, 7], [0, 1, 2, 3, 5], [0, 4, 5, 8, 10, 11]], [[0, 1, 2, 3, 4], [1, 3, 7], [0, 1, 3, 4], [0, 1, 5, 8], [0, 1, 2, 4, 7], [0, 1, 2, 3, 5], [0, 4, 5, 9, 10, 11]], [[0, 1, 2, 3, 4], [1, 3, 7], [0, 1, 3, 4], [0, 1, 5], [0, 1, 3], [0, 1, 5, 8], [0, 4, 6, 7, 8, 9]], [[0, 1, 2, 3, 4], [1, 3, 7], [0, 1, 3, 4], [0, 1, 5], [0, 1, 3], [0, 1, 2, 4, 7], [0, 4, 6, 7, 8, 10]], [[0, 1, 2, 3, 4], [1, 3, 7], [0, 1, 3, 4], [0, 1, 5], [0, 1, 3], [0, 1, 2, 3, 5], [0, 4, 6, 7, 8, 11]], [[0, 1, 2, 3, 4], [1, 3, 7], [0, 1, 3, 4], [0, 1, 5], [0, 1, 5, 8], [0, 1, 2, 4, 7], [0, 4, 6, 7, 9, 10]], [[0, 1, 2, 3, 4], [1, 3, 7], [0, 1, 3, 4], [0, 1, 5], [0, 1, 5, 8], [0, 1, 2, 3, 5], [0, 4, 6, 7, 9, 11]], [[0, 1, 2, 3, 4], [1, 3, 7], [0, 1, 3, 4], [0, 1, 5], [0, 1, 2, 4, 7], [0, 1, 2, 3, 5], [0, 4, 6, 7, 10, 11]], [[0, 1, 2, 3, 4], [1, 3, 7], [0, 1, 3, 4], [0, 1, 3], [0, 1, 5, 8], [0, 1, 2, 4, 7], [0, 4, 6, 8, 9, 10]], [[0, 1, 2, 3, 4], [1, 3, 7], [0, 1, 3, 4], [0, 1, 3], [0, 1, 5, 8], [0, 1, 2, 3, 5], [0, 4, 6, 8, 9, 11]], [[0, 1, 2, 3, 4], [1, 3, 7], [0, 1, 3, 4], [0, 1, 3], [0, 1, 2, 4, 7], [0, 1, 2, 3, 5], [0, 4, 6, 8, 10, 11]], [[0, 1, 2, 3, 4], [1, 3, 7], [0, 1, 3, 4], [0, 1, 5, 8], [0, 1, 2, 4, 7], [0, 1, 2, 3, 5], [0, 4, 6, 9, 10, 11]], [[0, 1, 2, 3, 4], [1, 3, 7], [0, 1, 5], [0, 1, 3], [0, 1, 5, 8], [0, 1, 2, 4, 7], [0, 4, 7, 8, 9, 10]], [[0, 1, 2, 3, 4], [1, 3, 7], [0, 1, 5], [0, 1, 3], [0, 1, 5, 8], [0, 1, 2, 3, 5], [0, 4, 7, 8, 9, 11]], [[0, 1, 2, 3, 4], [1, 3, 7], [0, 1, 5], [0, 1, 3], [0, 1, 2, 4, 7], [0, 1, 2, 3, 5], [0, 4, 7, 8, 10, 11]], [[0, 1, 2, 3, 4], [1, 3, 7], [0, 1, 5], [0, 1, 5, 8], [0, 1, 2, 4, 7], [0, 1, 2, 3, 5], [0, 4, 7, 9, 10, 11]], [[0, 1, 2, 3, 4], [1, 3, 7], [0, 1, 3], [0, 1, 5, 8], [0, 1, 2, 4, 7], [0, 1, 2, 3, 5], [0, 4, 8, 9, 10, 11]], [[0, 1, 2, 3, 4], [0, 1, 3, 4], [0, 1, 3, 4], [0, 1, 5], [0, 1, 3], [0, 1, 5, 8], [0, 5, 6, 7, 8, 9]], [[0, 1, 2, 3, 4], [0, 1, 3, 4], [0, 1, 3, 4], [0, 1, 5], [0, 1, 3], [0, 1, 2, 4, 7], [0, 5, 6, 7, 8, 10]], [[0, 1, 2, 3, 4], [0, 1, 3, 4], [0, 1, 3, 4], [0, 1, 5], [0, 1, 3], [0, 1, 2, 3, 5], [0, 5, 6, 7, 8, 11]], [[0, 1, 2, 3, 4], [0, 1, 3, 4], [0, 1, 3, 4], [0, 1, 5], [0, 1, 5, 8], [0, 1, 2, 4, 7], [0, 5, 6, 7, 9, 10]], [[0, 1, 2, 3, 4], [0, 1, 3, 4], [0, 1, 3, 4], [0, 1, 5], [0, 1, 5, 8], [0, 1, 2, 3, 5], [0, 5, 6, 7, 9, 11]], [[0, 1, 2, 3, 4], [0, 1, 3, 4], [0, 1, 3, 4], [0, 1, 5], [0, 1, 2, 4, 7], [0, 1, 2, 3, 5], [0, 5, 6, 7, 10, 11]], [[0, 1, 2, 3, 4], [0, 1, 3, 4], [0, 1, 3, 4], [0, 1, 3], [0, 1, 5, 8], [0, 1, 2, 4, 7], [0, 5, 6, 8, 9, 10]], [[0, 1, 2, 3, 4], [0, 1, 3, 4], [0, 1, 3, 4], [0, 1, 3], [0, 1, 5, 8], [0, 1, 2, 3, 5], [0, 5, 6, 8, 9, 11]], [[0, 1, 2, 3, 4], [0, 1, 3, 4], [0, 1, 3, 4], [0, 1, 3], [0, 1, 2, 4, 7], [0, 1, 2, 3, 5], [0, 5, 6, 8, 10, 11]], [[0, 1, 2, 3, 4], [0, 1, 3, 4], [0, 1, 3, 4], [0, 1, 5, 8], [0, 1, 2, 4, 7], [0, 1, 2, 3, 5], [0, 5, 6, 9, 10, 11]], [[0, 1, 2, 3, 4], [0, 1, 3, 4], [0, 1, 5], [0, 1, 3], [0, 1, 5, 8], [0, 1, 2, 4, 7], [0, 5, 7, 8, 9, 10]], [[0, 1, 2, 3, 4], [0, 1, 3, 4], [0, 1, 5], [0, 1, 3], [0, 1, 5, 8], [0, 1, 2, 3, 5], [0, 5, 7, 8, 9, 11]], [[0, 1, 2, 3, 4], [0, 1, 3, 4], [0, 1, 5], [0, 1, 3], [0, 1, 2, 4, 7], [0, 1, 2, 3, 5], [0, 5, 7, 8, 10, 11]], [[0, 1, 2, 3, 4], [0, 1, 3, 4], [0, 1, 5], [0, 1, 5, 8], [0, 1, 2, 4, 7], [0, 1, 2, 3, 5], [0, 5, 7, 9, 10, 11]], [[0, 1, 2, 3, 4], [0, 1, 3, 4], [0, 1, 3], [0, 1, 5, 8], [0, 1, 2, 4, 7], [0, 1, 2, 3, 5], [0, 5, 8, 9, 10, 11]], [[0, 1, 2, 3, 4], [0, 1, 3, 4], [0, 1, 5], [0, 1, 3], [0, 1, 5, 8], [0, 1, 2, 4, 7], [0, 6, 7, 8, 9, 10]], [[0, 1, 2, 3, 4], [0, 1, 3, 4], [0, 1, 5], [0, 1, 3], [0, 1, 5, 8], [0, 1, 2, 3, 5], [0, 6, 7, 8, 9, 11]], [[0, 1, 2, 3, 4], [0, 1, 3, 4], [0, 1, 5], [0, 1, 3], [0, 1, 2, 4, 7], [0, 1, 2, 3, 5], [0, 6, 7, 8, 10, 11]], [[0, 1, 2, 3, 4], [0, 1, 3, 4], [0, 1, 5], [0, 1, 5, 8], [0, 1, 2, 4, 7], [0, 1, 2, 3, 5], [0, 6, 7, 9, 10, 11]], [[0, 1, 2, 3, 4], [0, 1, 3, 4], [0, 1, 3], [0, 1, 5, 8], [0, 1, 2, 4, 7], [0, 1, 2, 3, 5], [0, 6, 8, 9, 10, 11]], [[0, 1, 2, 3, 4], [0, 1, 5], [0, 1, 3], [0, 1, 5, 8], [0, 1, 2, 4, 7], [0, 1, 2, 3, 5], [0, 7, 8, 9, 10, 11]], [[2, 3, 4], [1, 4, 6], [0, 1, 6, 7], [1, 3, 7], [0, 1, 3, 4], [0, 1, 3, 4], [1, 2, 3, 4, 5, 6]], [[2, 3, 4], [1, 4, 6], [0, 1, 6, 7], [1, 3, 7], [0, 1, 3, 4], [0, 1, 5], [1, 2, 3, 4, 5, 7]], [[2, 3, 4], [1, 4, 6], [0, 1, 6, 7], [1, 3, 7], [0, 1, 3, 4], [0, 1, 3], [1, 2, 3, 4, 5, 8]], [[2, 3, 4], [1, 4, 6], [0, 1, 6, 7], [1, 3, 7], [0, 1, 3, 4], [0, 1, 5, 8], [1, 2, 3, 4, 5, 9]], [[2, 3, 4], [1, 4, 6], [0, 1, 6, 7], [1, 3, 7], [0, 1, 3, 4], [0, 1, 2, 4, 7], [1, 2, 3, 4, 5, 10]], [[2, 3, 4], [1, 4, 6], [0, 1, 6, 7], [1, 3, 7], [0, 1, 3, 4], [0, 1, 2, 3, 5], [1, 2, 3, 4, 5, 11]], [[2, 3, 4], [1, 4, 6], [0, 1, 6, 7], [1, 3, 7], [0, 1, 3, 4], [0, 1, 5], [1, 2, 3, 4, 6, 7]], [[2, 3, 4], [1, 4, 6], [0, 1, 6, 7], [1, 3, 7], [0, 1, 3, 4], [0, 1, 3], [1, 2, 3, 4, 6, 8]], [[2, 3, 4], [1, 4, 6], [0, 1, 6, 7], [1, 3, 7], [0, 1, 3, 4], [0, 1, 5, 8], [1, 2, 3, 4, 6, 9]], [[2, 3, 4], [1, 4, 6], [0, 1, 6, 7], [1, 3, 7], [0, 1, 3, 4], [0, 1, 2, 4, 7], [1, 2, 3, 4, 6, 10]], [[2, 3, 4], [1, 4, 6], [0, 1, 6, 7], [1, 3, 7], [0, 1, 3, 4], [0, 1, 2, 3, 5], [1, 2, 3, 4, 6, 11]], [[2, 3, 4], [1, 4, 6], [0, 1, 6, 7], [1, 3, 7], [0, 1, 5], [0, 1, 3], [1, 2, 3, 4, 7, 8]], [[2, 3, 4], [1, 4, 6], [0, 1, 6, 7], [1, 3, 7], [0, 1, 5], [0, 1, 5, 8], [1, 2, 3, 4, 7, 9]], [[2, 3, 4], [1, 4, 6], [0, 1, 6, 7], [1, 3, 7], [0, 1, 5], [0, 1, 2, 4, 7], [1, 2, 3, 4, 7, 10]], [[2, 3, 4], [1, 4, 6], [0, 1, 6, 7], [1, 3, 7], [0, 1, 5], [0, 1, 2, 3, 5], [1, 2, 3, 4, 7, 11]], [[2, 3, 4], [1, 4, 6], [0, 1, 6, 7], [1, 3, 7], [0, 1, 3], [0, 1, 5, 8], [1, 2, 3, 4, 8, 9]], [[2, 3, 4], [1, 4, 6], [0, 1, 6, 7], [1, 3, 7], [0, 1, 3], [0, 1, 2, 4, 7], [1, 2, 3, 4, 8, 10]], [[2, 3, 4], [1, 4, 6], [0, 1, 6, 7], [1, 3, 7], [0, 1, 3], [0, 1, 2, 3, 5], [1, 2, 3, 4, 8, 11]], [[2, 3, 4], [1, 4, 6], [0, 1, 6, 7], [1, 3, 7], [0, 1, 5, 8], [0, 1, 2, 4, 7], [1, 2, 3, 4, 9, 10]], [[2, 3, 4], [1, 4, 6], [0, 1, 6, 7], [1, 3, 7], [0, 1, 5, 8], [0, 1, 2, 3, 5], [1, 2, 3, 4, 9, 11]], [[2, 3, 4], [1, 4, 6], [0, 1, 6, 7], [1, 3, 7], [0, 1, 2, 4, 7], [0, 1, 2, 3, 5], [1, 2, 3, 4, 10, 11]], [[2, 3, 4], [1, 4, 6], [0, 1, 6, 7], [0, 1, 3, 4], [0, 1, 3, 4], [0, 1, 5], [1, 2, 3, 5, 6, 7]], [[2, 3, 4], [1, 4, 6], [0, 1, 6, 7], [0, 1, 3, 4], [0, 1, 3, 4], [0, 1, 3], [1, 2, 3, 5, 6, 8]], [[2, 3, 4], [1, 4, 6], [0, 1, 6, 7], [0, 1, 3, 4], [0, 1, 3, 4], [0, 1, 5, 8], [1, 2, 3, 5, 6, 9]], [[2, 3, 4], [1, 4, 6], [0, 1, 6, 7], [0, 1, 3, 4], [0, 1, 3, 4], [0, 1, 2, 4, 7], [1, 2, 3, 5, 6, 10]], [[2, 3, 4], [1, 4, 6], [0, 1, 6, 7], [0, 1, 3, 4], [0, 1, 3, 4], [0, 1, 2, 3, 5], [1, 2, 3, 5, 6, 11]], [[2, 3, 4], [1, 4, 6], [0, 1, 6, 7], [0, 1, 3, 4], [0, 1, 5], [0, 1, 3], [1, 2, 3, 5, 7, 8]], [[2, 3, 4], [1, 4, 6], [0, 1, 6, 7], [0, 1, 3, 4], [0, 1, 5], [0, 1, 5, 8], [1, 2, 3, 5, 7, 9]], [[2, 3, 4], [1, 4, 6], [0, 1, 6, 7], [0, 1, 3, 4], [0, 1, 5], [0, 1, 2, 4, 7], [1, 2, 3, 5, 7, 10]], [[2, 3, 4], [1, 4, 6], [0, 1, 6, 7], [0, 1, 3, 4], [0, 1, 5], [0, 1, 2, 3, 5], [1, 2, 3, 5, 7, 11]], [[2, 3, 4], [1, 4, 6], [0, 1, 6, 7], [0, 1, 3, 4], [0, 1, 3], [0, 1, 5, 8], [1, 2, 3, 5, 8, 9]], [[2, 3, 4], [1, 4, 6], [0, 1, 6, 7], [0, 1, 3, 4], [0, 1, 3], [0, 1, 2, 4, 7], [1, 2, 3, 5, 8, 10]], [[2, 3, 4], [1, 4, 6], [0, 1, 6, 7], [0, 1, 3, 4], [0, 1, 3], [0, 1, 2, 3, 5], [1, 2, 3, 5, 8, 11]], [[2, 3, 4], [1, 4, 6], [0, 1, 6, 7], [0, 1, 3, 4], [0, 1, 5, 8], [0, 1, 2, 4, 7], [1, 2, 3, 5, 9, 10]], [[2, 3, 4], [1, 4, 6], [0, 1, 6, 7], [0, 1, 3, 4], [0, 1, 5, 8], [0, 1, 2, 3, 5], [1, 2, 3, 5, 9, 11]], [[2, 3, 4], [1, 4, 6], [0, 1, 6, 7], [0, 1, 3, 4], [0, 1, 2, 4, 7], [0, 1, 2, 3, 5], [1, 2, 3, 5, 10, 11]], [[2, 3, 4], [1, 4, 6], [0, 1, 6, 7], [0, 1, 3, 4], [0, 1, 5], [0, 1, 3], [1, 2, 3, 6, 7, 8]], [[2, 3, 4], [1, 4, 6], [0, 1, 6, 7], [0, 1, 3, 4], [0, 1, 5], [0, 1, 5, 8], [1, 2, 3, 6, 7, 9]], [[2, 3, 4], [1, 4, 6], [0, 1, 6, 7], [0, 1, 3, 4], [0, 1, 5], [0, 1, 2, 4, 7], [1, 2, 3, 6, 7, 10]], [[2, 3, 4], [1, 4, 6], [0, 1, 6, 7], [0, 1, 3, 4], [0, 1, 5], [0, 1, 2, 3, 5], [1, 2, 3, 6, 7, 11]], [[2, 3, 4], [1, 4, 6], [0, 1, 6, 7], [0, 1, 3, 4], [0, 1, 3], [0, 1, 5, 8], [1, 2, 3, 6, 8, 9]], [[2, 3, 4], [1, 4, 6], [0, 1, 6, 7], [0, 1, 3, 4], [0, 1, 3], [0, 1, 2, 4, 7], [1, 2, 3, 6, 8, 10]], [[2, 3, 4], [1, 4, 6], [0, 1, 6, 7], [0, 1, 3, 4], [0, 1, 3], [0, 1, 2, 3, 5], [1, 2, 3, 6, 8, 11]], [[2, 3, 4], [1, 4, 6], [0, 1, 6, 7], [0, 1, 3, 4], [0, 1, 5, 8], [0, 1, 2, 4, 7], [1, 2, 3, 6, 9, 10]], [[2, 3, 4], [1, 4, 6], [0, 1, 6, 7], [0, 1, 3, 4], [0, 1, 5, 8], [0, 1, 2, 3, 5], [1, 2, 3, 6, 9, 11]], [[2, 3, 4], [1, 4, 6], [0, 1, 6, 7], [0, 1, 3, 4], [0, 1, 2, 4, 7], [0, 1, 2, 3, 5], [1, 2, 3, 6, 10, 11]], [[2, 3, 4], [1, 4, 6], [0, 1, 6, 7], [0, 1, 5], [0, 1, 3], [0, 1, 5, 8], [1, 2, 3, 7, 8, 9]], [[2, 3, 4], [1, 4, 6], [0, 1, 6, 7], [0, 1, 5], [0, 1, 3], [0, 1, 2, 4, 7], [1, 2, 3, 7, 8, 10]], [[2, 3, 4], [1, 4, 6], [0, 1, 6, 7], [0, 1, 5], [0, 1, 3], [0, 1, 2, 3, 5], [1, 2, 3, 7, 8, 11]], [[2, 3, 4], [1, 4, 6], [0, 1, 6, 7], [0, 1, 5], [0, 1, 5, 8], [0, 1, 2, 4, 7], [1, 2, 3, 7, 9, 10]], [[2, 3, 4], [1, 4, 6], [0, 1, 6, 7], [0, 1, 5], [0, 1, 5, 8], [0, 1, 2, 3, 5], [1, 2, 3, 7, 9, 11]], [[2, 3, 4], [1, 4, 6], [0, 1, 6, 7], [0, 1, 5], [0, 1, 2, 4, 7], [0, 1, 2, 3, 5], [1, 2, 3, 7, 10, 11]], [[2, 3, 4], [1, 4, 6], [0, 1, 6, 7], [0, 1, 3], [0, 1, 5, 8], [0, 1, 2, 4, 7], [1, 2, 3, 8, 9, 10]], [[2, 3, 4], [1, 4, 6], [0, 1, 6, 7], [0, 1, 3], [0, 1, 5, 8], [0, 1, 2, 3, 5], [1, 2, 3, 8, 9, 11]], [[2, 3, 4], [1, 4, 6], [0, 1, 6, 7], [0, 1, 3], [0, 1, 2, 4, 7], [0, 1, 2, 3, 5], [1, 2, 3, 8, 10, 11]], [[2, 3, 4], [1, 4, 6], [0, 1, 6, 7], [0, 1, 5, 8], [0, 1, 2, 4, 7], [0, 1, 2, 3, 5], [1, 2, 3, 9, 10, 11]], [[2, 3, 4], [1, 4, 6], [1, 3, 7], [0, 1, 3, 4], [0, 1, 3, 4], [0, 1, 5], [1, 2, 4, 5, 6, 7]], [[2, 3, 4], [1, 4, 6], [1, 3, 7], [0, 1, 3, 4], [0, 1, 3, 4], [0, 1, 3], [1, 2, 4, 5, 6, 8]], [[2, 3, 4], [1, 4, 6], [1, 3, 7], [0, 1, 3, 4], [0, 1, 3, 4], [0, 1, 5, 8], [1, 2, 4, 5, 6, 9]], [[2, 3, 4], [1, 4, 6], [1, 3, 7], [0, 1, 3, 4], [0, 1, 3, 4], [0, 1, 2, 4, 7], [1, 2, 4, 5, 6, 10]], [[2, 3, 4], [1, 4, 6], [1, 3, 7], [0, 1, 3, 4], [0, 1, 3, 4], [0, 1, 2, 3, 5], [1, 2, 4, 5, 6, 11]], [[2, 3, 4], [1, 4, 6], [1, 3, 7], [0, 1, 3, 4], [0, 1, 5], [0, 1, 3], [1, 2, 4, 5, 7, 8]], [[2, 3, 4], [1, 4, 6], [1, 3, 7], [0, 1, 3, 4], [0, 1, 5], [0, 1, 5, 8], [1, 2, 4, 5, 7, 9]], [[2, 3, 4], [1, 4, 6], [1, 3, 7], [0, 1, 3, 4], [0, 1, 5], [0, 1, 2, 4, 7], [1, 2, 4, 5, 7, 10]], [[2, 3, 4], [1, 4, 6], [1, 3, 7], [0, 1, 3, 4], [0, 1, 5], [0, 1, 2, 3, 5], [1, 2, 4, 5, 7, 11]], [[2, 3, 4], [1, 4, 6], [1, 3, 7], [0, 1, 3, 4], [0, 1, 3], [0, 1, 5, 8], [1, 2, 4, 5, 8, 9]], [[2, 3, 4], [1, 4, 6], [1, 3, 7], [0, 1, 3, 4], [0, 1, 3], [0, 1, 2, 4, 7], [1, 2, 4, 5, 8, 10]], [[2, 3, 4], [1, 4, 6], [1, 3, 7], [0, 1, 3, 4], [0, 1, 3], [0, 1, 2, 3, 5], [1, 2, 4, 5, 8, 11]], [[2, 3, 4], [1, 4, 6], [1, 3, 7], [0, 1, 3, 4], [0, 1, 5, 8], [0, 1, 2, 4, 7], [1, 2, 4, 5, 9, 10]], [[2, 3, 4], [1, 4, 6], [1, 3, 7], [0, 1, 3, 4], [0, 1, 5, 8], [0, 1, 2, 3, 5], [1, 2, 4, 5, 9, 11]], [[2, 3, 4], [1, 4, 6], [1, 3, 7], [0, 1, 3, 4], [0, 1, 2, 4, 7], [0, 1, 2, 3, 5], [1, 2, 4, 5, 10, 11]], [[2, 3, 4], [1, 4, 6], [1, 3, 7], [0, 1, 3, 4], [0, 1, 5], [0, 1, 3], [1, 2, 4, 6, 7, 8]], [[2, 3, 4], [1, 4, 6], [1, 3, 7], [0, 1, 3, 4], [0, 1, 5], [0, 1, 5, 8], [1, 2, 4, 6, 7, 9]], [[2, 3, 4], [1, 4, 6], [1, 3, 7], [0, 1, 3, 4], [0, 1, 5], [0, 1, 2, 4, 7], [1, 2, 4, 6, 7, 10]], [[2, 3, 4], [1, 4, 6], [1, 3, 7], [0, 1, 3, 4], [0, 1, 5], [0, 1, 2, 3, 5], [1, 2, 4, 6, 7, 11]], [[2, 3, 4], [1, 4, 6], [1, 3, 7], [0, 1, 3, 4], [0, 1, 3], [0, 1, 5, 8], [1, 2, 4, 6, 8, 9]], [[2, 3, 4], [1, 4, 6], [1, 3, 7], [0, 1, 3, 4], [0, 1, 3], [0, 1, 2, 4, 7], [1, 2, 4, 6, 8, 10]], [[2, 3, 4], [1, 4, 6], [1, 3, 7], [0, 1, 3, 4], [0, 1, 3], [0, 1, 2, 3, 5], [1, 2, 4, 6, 8, 11]], [[2, 3, 4], [1, 4, 6], [1, 3, 7], [0, 1, 3, 4], [0, 1, 5, 8], [0, 1, 2, 4, 7], [1, 2, 4, 6, 9, 10]], [[2, 3, 4], [1, 4, 6], [1, 3, 7], [0, 1, 3, 4], [0, 1, 5, 8], [0, 1, 2, 3, 5], [1, 2, 4, 6, 9, 11]], [[2, 3, 4], [1, 4, 6], [1, 3, 7], [0, 1, 3, 4], [0, 1, 2, 4, 7], [0, 1, 2, 3, 5], [1, 2, 4, 6, 10, 11]], [[2, 3, 4], [1, 4, 6], [1, 3, 7], [0, 1, 5], [0, 1, 3], [0, 1, 5, 8], [1, 2, 4, 7, 8, 9]], [[2, 3, 4], [1, 4, 6], [1, 3, 7], [0, 1, 5], [0, 1, 3], [0, 1, 2, 4, 7], [1, 2, 4, 7, 8, 10]], [[2, 3, 4], [1, 4, 6], [1, 3, 7], [0, 1, 5], [0, 1, 3], [0, 1, 2, 3, 5], [1, 2, 4, 7, 8, 11]], [[2, 3, 4], [1, 4, 6], [1, 3, 7], [0, 1, 5], [0, 1, 5, 8], [0, 1, 2, 4, 7], [1, 2, 4, 7, 9, 10]], [[2, 3, 4], [1, 4, 6], [1, 3, 7], [0, 1, 5], [0, 1, 5, 8], [0, 1, 2, 3, 5], [1, 2, 4, 7, 9, 11]], [[2, 3, 4], [1, 4, 6], [1, 3, 7], [0, 1, 5], [0, 1, 2, 4, 7], [0, 1, 2, 3, 5], [1, 2, 4, 7, 10, 11]], [[2, 3, 4], [1, 4, 6], [1, 3, 7], [0, 1, 3], [0, 1, 5, 8], [0, 1, 2, 4, 7], [1, 2, 4, 8, 9, 10]], [[2, 3, 4], [1, 4, 6], [1, 3, 7], [0, 1, 3], [0, 1, 5, 8], [0, 1, 2, 3, 5], [1, 2, 4, 8, 9, 11]], [[2, 3, 4], [1, 4, 6], [1, 3, 7], [0, 1, 3], [0, 1, 2, 4, 7], [0, 1, 2, 3, 5], [1, 2, 4, 8, 10, 11]], [[2, 3, 4], [1, 4, 6], [1, 3, 7], [0, 1, 5, 8], [0, 1, 2, 4, 7], [0, 1, 2, 3, 5], [1, 2, 4, 9, 10, 11]], [[2, 3, 4], [1, 4, 6], [0, 1, 3, 4], [0, 1, 3, 4], [0, 1, 5], [0, 1, 3], [1, 2, 5, 6, 7, 8]], [[2, 3, 4], [1, 4, 6], [0, 1, 3, 4], [0, 1, 3, 4], [0, 1, 5], [0, 1, 5, 8], [1, 2, 5, 6, 7, 9]], [[2, 3, 4], [1, 4, 6], [0, 1, 3, 4], [0, 1, 3, 4], [0, 1, 5], [0, 1, 2, 4, 7], [1, 2, 5, 6, 7, 10]], [[2, 3, 4], [1, 4, 6], [0, 1, 3, 4], [0, 1, 3, 4], [0, 1, 5], [0, 1, 2, 3, 5], [1, 2, 5, 6, 7, 11]], [[2, 3, 4], [1, 4, 6], [0, 1, 3, 4], [0, 1, 3, 4], [0, 1, 3], [0, 1, 5, 8], [1, 2, 5, 6, 8, 9]], [[2, 3, 4], [1, 4, 6], [0, 1, 3, 4], [0, 1, 3, 4], [0, 1, 3], [0, 1, 2, 4, 7], [1, 2, 5, 6, 8, 10]], [[2, 3, 4], [1, 4, 6], [0, 1, 3, 4], [0, 1, 3, 4], [0, 1, 3], [0, 1, 2, 3, 5], [1, 2, 5, 6, 8, 11]], [[2, 3, 4], [1, 4, 6], [0, 1, 3, 4], [0, 1, 3, 4], [0, 1, 5, 8], [0, 1, 2, 4, 7], [1, 2, 5, 6, 9, 10]], [[2, 3, 4], [1, 4, 6], [0, 1, 3, 4], [0, 1, 3, 4], [0, 1, 5, 8], [0, 1, 2, 3, 5], [1, 2, 5, 6, 9, 11]], [[2, 3, 4], [1, 4, 6], [0, 1, 3, 4], [0, 1, 3, 4], [0, 1, 2, 4, 7], [0, 1, 2, 3, 5], [1, 2, 5, 6, 10, 11]], [[2, 3, 4], [1, 4, 6], [0, 1, 3, 4], [0, 1, 5], [0, 1, 3], [0, 1, 5, 8], [1, 2, 5, 7, 8, 9]], [[2, 3, 4], [1, 4, 6], [0, 1, 3, 4], [0, 1, 5], [0, 1, 3], [0, 1, 2, 4, 7], [1, 2, 5, 7, 8, 10]], [[2, 3, 4], [1, 4, 6], [0, 1, 3, 4], [0, 1, 5], [0, 1, 3], [0, 1, 2, 3, 5], [1, 2, 5, 7, 8, 11]], [[2, 3, 4], [1, 4, 6], [0, 1, 3, 4], [0, 1, 5], [0, 1, 5, 8], [0, 1, 2, 4, 7], [1, 2, 5, 7, 9, 10]], [[2, 3, 4], [1, 4, 6], [0, 1, 3, 4], [0, 1, 5], [0, 1, 5, 8], [0, 1, 2, 3, 5], [1, 2, 5, 7, 9, 11]], [[2, 3, 4], [1, 4, 6], [0, 1, 3, 4], [0, 1, 5], [0, 1, 2, 4, 7], [0, 1, 2, 3, 5], [1, 2, 5, 7, 10, 11]], [[2, 3, 4], [1, 4, 6], [0, 1, 3, 4], [0, 1, 3], [0, 1, 5, 8], [0, 1, 2, 4, 7], [1, 2, 5, 8, 9, 10]], [[2, 3, 4], [1, 4, 6], [0, 1, 3, 4], [0, 1, 3], [0, 1, 5, 8], [0, 1, 2, 3, 5], [1, 2, 5, 8, 9, 11]], [[2, 3, 4], [1, 4, 6], [0, 1, 3, 4], [0, 1, 3], [0, 1, 2, 4, 7], [0, 1, 2, 3, 5], [1, 2, 5, 8, 10, 11]], [[2, 3, 4], [1, 4, 6], [0, 1, 3, 4], [0, 1, 5, 8], [0, 1, 2, 4, 7], [0, 1, 2, 3, 5], [1, 2, 5, 9, 10, 11]], [[2, 3, 4], [1, 4, 6], [0, 1, 3, 4], [0, 1, 5], [0, 1, 3], [0, 1, 5, 8], [1, 2, 6, 7, 8, 9]], [[2, 3, 4], [1, 4, 6], [0, 1, 3, 4], [0, 1, 5], [0, 1, 3], [0, 1, 2, 4, 7], [1, 2, 6, 7, 8, 10]], [[2, 3, 4], [1, 4, 6], [0, 1, 3, 4], [0, 1, 5], [0, 1, 3], [0, 1, 2, 3, 5], [1, 2, 6, 7, 8, 11]], [[2, 3, 4], [1, 4, 6], [0, 1, 3, 4], [0, 1, 5], [0, 1, 5, 8], [0, 1, 2, 4, 7], [1, 2, 6, 7, 9, 10]], [[2, 3, 4], [1, 4, 6], [0, 1, 3, 4], [0, 1, 5], [0, 1, 5, 8], [0, 1, 2, 3, 5], [1, 2, 6, 7, 9, 11]], [[2, 3, 4], [1, 4, 6], [0, 1, 3, 4], [0, 1, 5], [0, 1, 2, 4, 7], [0, 1, 2, 3, 5], [1, 2, 6, 7, 10, 11]], [[2, 3, 4], [1, 4, 6], [0, 1, 3, 4], [0, 1, 3], [0, 1, 5, 8], [0, 1, 2, 4, 7], [1, 2, 6, 8, 9, 10]], [[2, 3, 4], [1, 4, 6], [0, 1, 3, 4], [0, 1, 3], [0, 1, 5, 8], [0, 1, 2, 3, 5], [1, 2, 6, 8, 9, 11]], [[2, 3, 4], [1, 4, 6], [0, 1, 3, 4], [0, 1, 3], [0, 1, 2, 4, 7], [0, 1, 2, 3, 5], [1, 2, 6, 8, 10, 11]], [[2, 3, 4], [1, 4, 6], [0, 1, 3, 4], [0, 1, 5, 8], [0, 1, 2, 4, 7], [0, 1, 2, 3, 5], [1, 2, 6, 9, 10, 11]], [[2, 3, 4], [1, 4, 6], [0, 1, 5], [0, 1, 3], [0, 1, 5, 8], [0, 1, 2, 4, 7], [1, 2, 7, 8, 9, 10]], [[2, 3, 4], [1, 4, 6], [0, 1, 5], [0, 1, 3], [0, 1, 5, 8], [0, 1, 2, 3, 5], [1, 2, 7, 8, 9, 11]], [[2, 3, 4], [1, 4, 6], [0, 1, 5], [0, 1, 3], [0, 1, 2, 4, 7], [0, 1, 2, 3, 5], [1, 2, 7, 8, 10, 11]], [[2, 3, 4], [1, 4, 6], [0, 1, 5], [0, 1, 5, 8], [0, 1, 2, 4, 7], [0, 1, 2, 3, 5], [1, 2, 7, 9, 10, 11]], [[2, 3, 4], [1, 4, 6], [0, 1, 3], [0, 1, 5, 8], [0, 1, 2, 4, 7], [0, 1, 2, 3, 5], [1, 2, 8, 9, 10, 11]], [[2, 3, 4], [0, 1, 6, 7], [1, 3, 7], [0, 1, 3, 4], [0, 1, 3, 4], [0, 1, 5], [1, 3, 4, 5, 6, 7]], [[2, 3, 4], [0, 1, 6, 7], [1, 3, 7], [0, 1, 3, 4], [0, 1, 3, 4], [0, 1, 3], [1, 3, 4, 5, 6, 8]], [[2, 3, 4], [0, 1, 6, 7], [1, 3, 7], [0, 1, 3, 4], [0, 1, 3, 4], [0, 1, 5, 8], [1, 3, 4, 5, 6, 9]], [[2, 3, 4], [0, 1, 6, 7], [1, 3, 7], [0, 1, 3, 4], [0, 1, 3, 4], [0, 1, 2, 4, 7], [1, 3, 4, 5, 6, 10]], [[2, 3, 4], [0, 1, 6, 7], [1, 3, 7], [0, 1, 3, 4], [0, 1, 3, 4], [0, 1, 2, 3, 5], [1, 3, 4, 5, 6, 11]], [[2, 3, 4], [0, 1, 6, 7], [1, 3, 7], [0, 1, 3, 4], [0, 1, 5], [0, 1, 3], [1, 3, 4, 5, 7, 8]], [[2, 3, 4], [0, 1, 6, 7], [1, 3, 7], [0, 1, 3, 4], [0, 1, 5], [0, 1, 5, 8], [1, 3, 4, 5, 7, 9]], [[2, 3, 4], [0, 1, 6, 7], [1, 3, 7], [0, 1, 3, 4], [0, 1, 5], [0, 1, 2, 4, 7], [1, 3, 4, 5, 7, 10]], [[2, 3, 4], [0, 1, 6, 7], [1, 3, 7], [0, 1, 3, 4], [0, 1, 5], [0, 1, 2, 3, 5], [1, 3, 4, 5, 7, 11]], [[2, 3, 4], [0, 1, 6, 7], [1, 3, 7], [0, 1, 3, 4], [0, 1, 3], [0, 1, 5, 8], [1, 3, 4, 5, 8, 9]], [[2, 3, 4], [0, 1, 6, 7], [1, 3, 7], [0, 1, 3, 4], [0, 1, 3], [0, 1, 2, 4, 7], [1, 3, 4, 5, 8, 10]], [[2, 3, 4], [0, 1, 6, 7], [1, 3, 7], [0, 1, 3, 4], [0, 1, 3], [0, 1, 2, 3, 5], [1, 3, 4, 5, 8, 11]], [[2, 3, 4], [0, 1, 6, 7], [1, 3, 7], [0, 1, 3, 4], [0, 1, 5, 8], [0, 1, 2, 4, 7], [1, 3, 4, 5, 9, 10]], [[2, 3, 4], [0, 1, 6, 7], [1, 3, 7], [0, 1, 3, 4], [0, 1, 5, 8], [0, 1, 2, 3, 5], [1, 3, 4, 5, 9, 11]], [[2, 3, 4], [0, 1, 6, 7], [1, 3, 7], [0, 1, 3, 4], [0, 1, 2, 4, 7], [0, 1, 2, 3, 5], [1, 3, 4, 5, 10, 11]], [[2, 3, 4], [0, 1, 6, 7], [1, 3, 7], [0, 1, 3, 4], [0, 1, 5], [0, 1, 3], [1, 3, 4, 6, 7, 8]], [[2, 3, 4], [0, 1, 6, 7], [1, 3, 7], [0, 1, 3, 4], [0, 1, 5], [0, 1, 5, 8], [1, 3, 4, 6, 7, 9]], [[2, 3, 4], [0, 1, 6, 7], [1, 3, 7], [0, 1, 3, 4], [0, 1, 5], [0, 1, 2, 4, 7], [1, 3, 4, 6, 7, 10]], [[2, 3, 4], [0, 1, 6, 7], [1, 3, 7], [0, 1, 3, 4], [0, 1, 5], [0, 1, 2, 3, 5], [1, 3, 4, 6, 7, 11]], [[2, 3, 4], [0, 1, 6, 7], [1, 3, 7], [0, 1, 3, 4], [0, 1, 3], [0, 1, 5, 8], [1, 3, 4, 6, 8, 9]], [[2, 3, 4], [0, 1, 6, 7], [1, 3, 7], [0, 1, 3, 4], [0, 1, 3], [0, 1, 2, 4, 7], [1, 3, 4, 6, 8, 10]], [[2, 3, 4], [0, 1, 6, 7], [1, 3, 7], [0, 1, 3, 4], [0, 1, 3], [0, 1, 2, 3, 5], [1, 3, 4, 6, 8, 11]], [[2, 3, 4], [0, 1, 6, 7], [1, 3, 7], [0, 1, 3, 4], [0, 1, 5, 8], [0, 1, 2, 4, 7], [1, 3, 4, 6, 9, 10]], [[2, 3, 4], [0, 1, 6, 7], [1, 3, 7], [0, 1, 3, 4], [0, 1, 5, 8], [0, 1, 2, 3, 5], [1, 3, 4, 6, 9, 11]], [[2, 3, 4], [0, 1, 6, 7], [1, 3, 7], [0, 1, 3, 4], [0, 1, 2, 4, 7], [0, 1, 2, 3, 5], [1, 3, 4, 6, 10, 11]], [[2, 3, 4], [0, 1, 6, 7], [1, 3, 7], [0, 1, 5], [0, 1, 3], [0, 1, 5, 8], [1, 3, 4, 7, 8, 9]], [[2, 3, 4], [0, 1, 6, 7], [1, 3, 7], [0, 1, 5], [0, 1, 3], [0, 1, 2, 4, 7], [1, 3, 4, 7, 8, 10]], [[2, 3, 4], [0, 1, 6, 7], [1, 3, 7], [0, 1, 5], [0, 1, 3], [0, 1, 2, 3, 5], [1, 3, 4, 7, 8, 11]], [[2, 3, 4], [0, 1, 6, 7], [1, 3, 7], [0, 1, 5], [0, 1, 5, 8], [0, 1, 2, 4, 7], [1, 3, 4, 7, 9, 10]], [[2, 3, 4], [0, 1, 6, 7], [1, 3, 7], [0, 1, 5], [0, 1, 5, 8], [0, 1, 2, 3, 5], [1, 3, 4, 7, 9, 11]], [[2, 3, 4], [0, 1, 6, 7], [1, 3, 7], [0, 1, 5], [0, 1, 2, 4, 7], [0, 1, 2, 3, 5], [1, 3, 4, 7, 10, 11]], [[2, 3, 4], [0, 1, 6, 7], [1, 3, 7], [0, 1, 3], [0, 1, 5, 8], [0, 1, 2, 4, 7], [1, 3, 4, 8, 9, 10]], [[2, 3, 4], [0, 1, 6, 7], [1, 3, 7], [0, 1, 3], [0, 1, 5, 8], [0, 1, 2, 3, 5], [1, 3, 4, 8, 9, 11]], [[2, 3, 4], [0, 1, 6, 7], [1, 3, 7], [0, 1, 3], [0, 1, 2, 4, 7], [0, 1, 2, 3, 5], [1, 3, 4, 8, 10, 11]], [[2, 3, 4], [0, 1, 6, 7], [1, 3, 7], [0, 1, 5, 8], [0, 1, 2, 4, 7], [0, 1, 2, 3, 5], [1, 3, 4, 9, 10, 11]], [[2, 3, 4], [0, 1, 6, 7], [0, 1, 3, 4], [0, 1, 3, 4], [0, 1, 5], [0, 1, 3], [1, 3, 5, 6, 7, 8]], [[2, 3, 4], [0, 1, 6, 7], [0, 1, 3, 4], [0, 1, 3, 4], [0, 1, 5], [0, 1, 5, 8], [1, 3, 5, 6, 7, 9]], [[2, 3, 4], [0, 1, 6, 7], [0, 1, 3, 4], [0, 1, 3, 4], [0, 1, 5], [0, 1, 2, 4, 7], [1, 3, 5, 6, 7, 10]], [[2, 3, 4], [0, 1, 6, 7], [0, 1, 3, 4], [0, 1, 3, 4], [0, 1, 5], [0, 1, 2, 3, 5], [1, 3, 5, 6, 7, 11]], [[2, 3, 4], [0, 1, 6, 7], [0, 1, 3, 4], [0, 1, 3, 4], [0, 1, 3], [0, 1, 5, 8], [1, 3, 5, 6, 8, 9]], [[2, 3, 4], [0, 1, 6, 7], [0, 1, 3, 4], [0, 1, 3, 4], [0, 1, 3], [0, 1, 2, 4, 7], [1, 3, 5, 6, 8, 10]], [[2, 3, 4], [0, 1, 6, 7], [0, 1, 3, 4], [0, 1, 3, 4], [0, 1, 3], [0, 1, 2, 3, 5], [1, 3, 5, 6, 8, 11]], [[2, 3, 4], [0, 1, 6, 7], [0, 1, 3, 4], [0, 1, 3, 4], [0, 1, 5, 8], [0, 1, 2, 4, 7], [1, 3, 5, 6, 9, 10]], [[2, 3, 4], [0, 1, 6, 7], [0, 1, 3, 4], [0, 1, 3, 4], [0, 1, 5, 8], [0, 1, 2, 3, 5], [1, 3, 5, 6, 9, 11]], [[2, 3, 4], [0, 1, 6, 7], [0, 1, 3, 4], [0, 1, 3, 4], [0, 1, 2, 4, 7], [0, 1, 2, 3, 5], [1, 3, 5, 6, 10, 11]], [[2, 3, 4], [0, 1, 6, 7], [0, 1, 3, 4], [0, 1, 5], [0, 1, 3], [0, 1, 5, 8], [1, 3, 5, 7, 8, 9]], [[2, 3, 4], [0, 1, 6, 7], [0, 1, 3, 4], [0, 1, 5], [0, 1, 3], [0, 1, 2, 4, 7], [1, 3, 5, 7, 8, 10]], [[2, 3, 4], [0, 1, 6, 7], [0, 1, 3, 4], [0, 1, 5], [0, 1, 3], [0, 1, 2, 3, 5], [1, 3, 5, 7, 8, 11]], [[2, 3, 4], [0, 1, 6, 7], [0, 1, 3, 4], [0, 1, 5], [0, 1, 5, 8], [0, 1, 2, 4, 7], [1, 3, 5, 7, 9, 10]], [[2, 3, 4], [0, 1, 6, 7], [0, 1, 3, 4], [0, 1, 5], [0, 1, 5, 8], [0, 1, 2, 3, 5], [1, 3, 5, 7, 9, 11]], [[2, 3, 4], [0, 1, 6, 7], [0, 1, 3, 4], [0, 1, 5], [0, 1, 2, 4, 7], [0, 1, 2, 3, 5], [1, 3, 5, 7, 10, 11]], [[2, 3, 4], [0, 1, 6, 7], [0, 1, 3, 4], [0, 1, 3], [0, 1, 5, 8], [0, 1, 2, 4, 7], [1, 3, 5, 8, 9, 10]], [[2, 3, 4], [0, 1, 6, 7], [0, 1, 3, 4], [0, 1, 3], [0, 1, 5, 8], [0, 1, 2, 3, 5], [1, 3, 5, 8, 9, 11]], [[2, 3, 4], [0, 1, 6, 7], [0, 1, 3, 4], [0, 1, 3], [0, 1, 2, 4, 7], [0, 1, 2, 3, 5], [1, 3, 5, 8, 10, 11]], [[2, 3, 4], [0, 1, 6, 7], [0, 1, 3, 4], [0, 1, 5, 8], [0, 1, 2, 4, 7], [0, 1, 2, 3, 5], [1, 3, 5, 9, 10, 11]], [[2, 3, 4], [0, 1, 6, 7], [0, 1, 3, 4], [0, 1, 5], [0, 1, 3], [0, 1, 5, 8], [1, 3, 6, 7, 8, 9]], [[2, 3, 4], [0, 1, 6, 7], [0, 1, 3, 4], [0, 1, 5], [0, 1, 3], [0, 1, 2, 4, 7], [1, 3, 6, 7, 8, 10]], [[2, 3, 4], [0, 1, 6, 7], [0, 1, 3, 4], [0, 1, 5], [0, 1, 3], [0, 1, 2, 3, 5], [1, 3, 6, 7, 8, 11]], [[2, 3, 4], [0, 1, 6, 7], [0, 1, 3, 4], [0, 1, 5], [0, 1, 5, 8], [0, 1, 2, 4, 7], [1, 3, 6, 7, 9, 10]], [[2, 3, 4], [0, 1, 6, 7], [0, 1, 3, 4], [0, 1, 5], [0, 1, 5, 8], [0, 1, 2, 3, 5], [1, 3, 6, 7, 9, 11]], [[2, 3, 4], [0, 1, 6, 7], [0, 1, 3, 4], [0, 1, 5], [0, 1, 2, 4, 7], [0, 1, 2, 3, 5], [1, 3, 6, 7, 10, 11]], [[2, 3, 4], [0, 1, 6, 7], [0, 1, 3, 4], [0, 1, 3], [0, 1, 5, 8], [0, 1, 2, 4, 7], [1, 3, 6, 8, 9, 10]], [[2, 3, 4], [0, 1, 6, 7], [0, 1, 3, 4], [0, 1, 3], [0, 1, 5, 8], [0, 1, 2, 3, 5], [1, 3, 6, 8, 9, 11]], [[2, 3, 4], [0, 1, 6, 7], [0, 1, 3, 4], [0, 1, 3], [0, 1, 2, 4, 7], [0, 1, 2, 3, 5], [1, 3, 6, 8, 10, 11]], [[2, 3, 4], [0, 1, 6, 7], [0, 1, 3, 4], [0, 1, 5, 8], [0, 1, 2, 4, 7], [0, 1, 2, 3, 5], [1, 3, 6, 9, 10, 11]], [[2, 3, 4], [0, 1, 6, 7], [0, 1, 5], [0, 1, 3], [0, 1, 5, 8], [0, 1, 2, 4, 7], [1, 3, 7, 8, 9, 10]], [[2, 3, 4], [0, 1, 6, 7], [0, 1, 5], [0, 1, 3], [0, 1, 5, 8], [0, 1, 2, 3, 5], [1, 3, 7, 8, 9, 11]], [[2, 3, 4], [0, 1, 6, 7], [0, 1, 5], [0, 1, 3], [0, 1, 2, 4, 7], [0, 1, 2, 3, 5], [1, 3, 7, 8, 10, 11]], [[2, 3, 4], [0, 1, 6, 7], [0, 1, 5], [0, 1, 5, 8], [0, 1, 2, 4, 7], [0, 1, 2, 3, 5], [1, 3, 7, 9, 10, 11]], [[2, 3, 4], [0, 1, 6, 7], [0, 1, 3], [0, 1, 5, 8], [0, 1, 2, 4, 7], [0, 1, 2, 3, 5], [1, 3, 8, 9, 10, 11]], [[2, 3, 4], [1, 3, 7], [0, 1, 3, 4], [0, 1, 3, 4], [0, 1, 5], [0, 1, 3], [1, 4, 5, 6, 7, 8]], [[2, 3, 4], [1, 3, 7], [0, 1, 3, 4], [0, 1, 3, 4], [0, 1, 5], [0, 1, 5, 8], [1, 4, 5, 6, 7, 9]], [[2, 3, 4], [1, 3, 7], [0, 1, 3, 4], [0, 1, 3, 4], [0, 1, 5], [0, 1, 2, 4, 7], [1, 4, 5, 6, 7, 10]], [[2, 3, 4], [1, 3, 7], [0, 1, 3, 4], [0, 1, 3, 4], [0, 1, 5], [0, 1, 2, 3, 5], [1, 4, 5, 6, 7, 11]], [[2, 3, 4], [1, 3, 7], [0, 1, 3, 4], [0, 1, 3, 4], [0, 1, 3], [0, 1, 5, 8], [1, 4, 5, 6, 8, 9]], [[2, 3, 4], [1, 3, 7], [0, 1, 3, 4], [0, 1, 3, 4], [0, 1, 3], [0, 1, 2, 4, 7], [1, 4, 5, 6, 8, 10]], [[2, 3, 4], [1, 3, 7], [0, 1, 3, 4], [0, 1, 3, 4], [0, 1, 3], [0, 1, 2, 3, 5], [1, 4, 5, 6, 8, 11]], [[2, 3, 4], [1, 3, 7], [0, 1, 3, 4], [0, 1, 3, 4], [0, 1, 5, 8], [0, 1, 2, 4, 7], [1, 4, 5, 6, 9, 10]], [[2, 3, 4], [1, 3, 7], [0, 1, 3, 4], [0, 1, 3, 4], [0, 1, 5, 8], [0, 1, 2, 3, 5], [1, 4, 5, 6, 9, 11]], [[2, 3, 4], [1, 3, 7], [0, 1, 3, 4], [0, 1, 3, 4], [0, 1, 2, 4, 7], [0, 1, 2, 3, 5], [1, 4, 5, 6, 10, 11]], [[2, 3, 4], [1, 3, 7], [0, 1, 3, 4], [0, 1, 5], [0, 1, 3], [0, 1, 5, 8], [1, 4, 5, 7, 8, 9]], [[2, 3, 4], [1, 3, 7], [0, 1, 3, 4], [0, 1, 5], [0, 1, 3], [0, 1, 2, 4, 7], [1, 4, 5, 7, 8, 10]], [[2, 3, 4], [1, 3, 7], [0, 1, 3, 4], [0, 1, 5], [0, 1, 3], [0, 1, 2, 3, 5], [1, 4, 5, 7, 8, 11]], [[2, 3, 4], [1, 3, 7], [0, 1, 3, 4], [0, 1, 5], [0, 1, 5, 8], [0, 1, 2, 4, 7], [1, 4, 5, 7, 9, 10]], [[2, 3, 4], [1, 3, 7], [0, 1, 3, 4], [0, 1, 5], [0, 1, 5, 8], [0, 1, 2, 3, 5], [1, 4, 5, 7, 9, 11]], [[2, 3, 4], [1, 3, 7], [0, 1, 3, 4], [0, 1, 5], [0, 1, 2, 4, 7], [0, 1, 2, 3, 5], [1, 4, 5, 7, 10, 11]], [[2, 3, 4], [1, 3, 7], [0, 1, 3, 4], [0, 1, 3], [0, 1, 5, 8], [0, 1, 2, 4, 7], [1, 4, 5, 8, 9, 10]], [[2, 3, 4], [1, 3, 7], [0, 1, 3, 4], [0, 1, 3], [0, 1, 5, 8], [0, 1, 2, 3, 5], [1, 4, 5, 8, 9, 11]], [[2, 3, 4], [1, 3, 7], [0, 1, 3, 4], [0, 1, 3], [0, 1, 2, 4, 7], [0, 1, 2, 3, 5], [1, 4, 5, 8, 10, 11]], [[2, 3, 4], [1, 3, 7], [0, 1, 3, 4], [0, 1, 5, 8], [0, 1, 2, 4, 7], [0, 1, 2, 3, 5], [1, 4, 5, 9, 10, 11]], [[2, 3, 4], [1, 3, 7], [0, 1, 3, 4], [0, 1, 5], [0, 1, 3], [0, 1, 5, 8], [1, 4, 6, 7, 8, 9]], [[2, 3, 4], [1, 3, 7], [0, 1, 3, 4], [0, 1, 5], [0, 1, 3], [0, 1, 2, 4, 7], [1, 4, 6, 7, 8, 10]], [[2, 3, 4], [1, 3, 7], [0, 1, 3, 4], [0, 1, 5], [0, 1, 3], [0, 1, 2, 3, 5], [1, 4, 6, 7, 8, 11]], [[2, 3, 4], [1, 3, 7], [0, 1, 3, 4], [0, 1, 5], [0, 1, 5, 8], [0, 1, 2, 4, 7], [1, 4, 6, 7, 9, 10]], [[2, 3, 4], [1, 3, 7], [0, 1, 3, 4], [0, 1, 5], [0, 1, 5, 8], [0, 1, 2, 3, 5], [1, 4, 6, 7, 9, 11]], [[2, 3, 4], [1, 3, 7], [0, 1, 3, 4], [0, 1, 5], [0, 1, 2, 4, 7], [0, 1, 2, 3, 5], [1, 4, 6, 7, 10, 11]], [[2, 3, 4], [1, 3, 7], [0, 1, 3, 4], [0, 1, 3], [0, 1, 5, 8], [0, 1, 2, 4, 7], [1, 4, 6, 8, 9, 10]], [[2, 3, 4], [1, 3, 7], [0, 1, 3, 4], [0, 1, 3], [0, 1, 5, 8], [0, 1, 2, 3, 5], [1, 4, 6, 8, 9, 11]], [[2, 3, 4], [1, 3, 7], [0, 1, 3, 4], [0, 1, 3], [0, 1, 2, 4, 7], [0, 1, 2, 3, 5], [1, 4, 6, 8, 10, 11]], [[2, 3, 4], [1, 3, 7], [0, 1, 3, 4], [0, 1, 5, 8], [0, 1, 2, 4, 7], [0, 1, 2, 3, 5], [1, 4, 6, 9, 10, 11]], [[2, 3, 4], [1, 3, 7], [0, 1, 5], [0, 1, 3], [0, 1, 5, 8], [0, 1, 2, 4, 7], [1, 4, 7, 8, 9, 10]], [[2, 3, 4], [1, 3, 7], [0, 1, 5], [0, 1, 3], [0, 1, 5, 8], [0, 1, 2, 3, 5], [1, 4, 7, 8, 9, 11]], [[2, 3, 4], [1, 3, 7], [0, 1, 5], [0, 1, 3], [0, 1, 2, 4, 7], [0, 1, 2, 3, 5], [1, 4, 7, 8, 10, 11]], [[2, 3, 4], [1, 3, 7], [0, 1, 5], [0, 1, 5, 8], [0, 1, 2, 4, 7], [0, 1, 2, 3, 5], [1, 4, 7, 9, 10, 11]], [[2, 3, 4], [1, 3, 7], [0, 1, 3], [0, 1, 5, 8], [0, 1, 2, 4, 7], [0, 1, 2, 3, 5], [1, 4, 8, 9, 10, 11]], [[2, 3, 4], [0, 1, 3, 4], [0, 1, 3, 4], [0, 1, 5], [0, 1, 3], [0, 1, 5, 8], [1, 5, 6, 7, 8, 9]], [[2, 3, 4], [0, 1, 3, 4], [0, 1, 3, 4], [0, 1, 5], [0, 1, 3], [0, 1, 2, 4, 7], [1, 5, 6, 7, 8, 10]], [[2, 3, 4], [0, 1, 3, 4], [0, 1, 3, 4], [0, 1, 5], [0, 1, 3], [0, 1, 2, 3, 5], [1, 5, 6, 7, 8, 11]], [[2, 3, 4], [0, 1, 3, 4], [0, 1, 3, 4], [0, 1, 5], [0, 1, 5, 8], [0, 1, 2, 4, 7], [1, 5, 6, 7, 9, 10]], [[2, 3, 4], [0, 1, 3, 4], [0, 1, 3, 4], [0, 1, 5], [0, 1, 5, 8], [0, 1, 2, 3, 5], [1, 5, 6, 7, 9, 11]], [[2, 3, 4], [0, 1, 3, 4], [0, 1, 3, 4], [0, 1, 5], [0, 1, 2, 4, 7], [0, 1, 2, 3, 5], [1, 5, 6, 7, 10, 11]], [[2, 3, 4], [0, 1, 3, 4], [0, 1, 3, 4], [0, 1, 3], [0, 1, 5, 8], [0, 1, 2, 4, 7], [1, 5, 6, 8, 9, 10]], [[2, 3, 4], [0, 1, 3, 4], [0, 1, 3, 4], [0, 1, 3], [0, 1, 5, 8], [0, 1, 2, 3, 5], [1, 5, 6, 8, 9, 11]], [[2, 3, 4], [0, 1, 3, 4], [0, 1, 3, 4], [0, 1, 3], [0, 1, 2, 4, 7], [0, 1, 2, 3, 5], [1, 5, 6, 8, 10, 11]], [[2, 3, 4], [0, 1, 3, 4], [0, 1, 3, 4], [0, 1, 5, 8], [0, 1, 2, 4, 7], [0, 1, 2, 3, 5], [1, 5, 6, 9, 10, 11]], [[2, 3, 4], [0, 1, 3, 4], [0, 1, 5], [0, 1, 3], [0, 1, 5, 8], [0, 1, 2, 4, 7], [1, 5, 7, 8, 9, 10]], [[2, 3, 4], [0, 1, 3, 4], [0, 1, 5], [0, 1, 3], [0, 1, 5, 8], [0, 1, 2, 3, 5], [1, 5, 7, 8, 9, 11]], [[2, 3, 4], [0, 1, 3, 4], [0, 1, 5], [0, 1, 3], [0, 1, 2, 4, 7], [0, 1, 2, 3, 5], [1, 5, 7, 8, 10, 11]], [[2, 3, 4], [0, 1, 3, 4], [0, 1, 5], [0, 1, 5, 8], [0, 1, 2, 4, 7], [0, 1, 2, 3, 5], [1, 5, 7, 9, 10, 11]], [[2, 3, 4], [0, 1, 3, 4], [0, 1, 3], [0, 1, 5, 8], [0, 1, 2, 4, 7], [0, 1, 2, 3, 5], [1, 5, 8, 9, 10, 11]], [[2, 3, 4], [0, 1, 3, 4], [0, 1, 5], [0, 1, 3], [0, 1, 5, 8], [0, 1, 2, 4, 7], [1, 6, 7, 8, 9, 10]], [[2, 3, 4], [0, 1, 3, 4], [0, 1, 5], [0, 1, 3], [0, 1, 5, 8], [0, 1, 2, 3, 5], [1, 6, 7, 8, 9, 11]], [[2, 3, 4], [0, 1, 3, 4], [0, 1, 5], [0, 1, 3], [0, 1, 2, 4, 7], [0, 1, 2, 3, 5], [1, 6, 7, 8, 10, 11]], [[2, 3, 4], [0, 1, 3, 4], [0, 1, 5], [0, 1, 5, 8], [0, 1, 2, 4, 7], [0, 1, 2, 3, 5], [1, 6, 7, 9, 10, 11]], [[2, 3, 4], [0, 1, 3, 4], [0, 1, 3], [0, 1, 5, 8], [0, 1, 2, 4, 7], [0, 1, 2, 3, 5], [1, 6, 8, 9, 10, 11]], [[2, 3, 4], [0, 1, 5], [0, 1, 3], [0, 1, 5, 8], [0, 1, 2, 4, 7], [0, 1, 2, 3, 5], [1, 7, 8, 9, 10, 11]], [[1, 4, 6], [0, 1, 6, 7], [1, 3, 7], [0, 1, 3, 4], [0, 1, 3, 4], [0, 1, 5], [2, 3, 4, 5, 6, 7]], [[1, 4, 6], [0, 1, 6, 7], [1, 3, 7], [0, 1, 3, 4], [0, 1, 3, 4], [0, 1, 3], [2, 3, 4, 5, 6, 8]], [[1, 4, 6], [0, 1, 6, 7], [1, 3, 7], [0, 1, 3, 4], [0, 1, 3, 4], [0, 1, 5, 8], [2, 3, 4, 5, 6, 9]], [[1, 4, 6], [0, 1, 6, 7], [1, 3, 7], [0, 1, 3, 4], [0, 1, 3, 4], [0, 1, 2, 4, 7], [2, 3, 4, 5, 6, 10]], [[1, 4, 6], [0, 1, 6, 7], [1, 3, 7], [0, 1, 3, 4], [0, 1, 3, 4], [0, 1, 2, 3, 5], [2, 3, 4, 5, 6, 11]], [[1, 4, 6], [0, 1, 6, 7], [1, 3, 7], [0, 1, 3, 4], [0, 1, 5], [0, 1, 3], [2, 3, 4, 5, 7, 8]], [[1, 4, 6], [0, 1, 6, 7], [1, 3, 7], [0, 1, 3, 4], [0, 1, 5], [0, 1, 5, 8], [2, 3, 4, 5, 7, 9]], [[1, 4, 6], [0, 1, 6, 7], [1, 3, 7], [0, 1, 3, 4], [0, 1, 5], [0, 1, 2, 4, 7], [2, 3, 4, 5, 7, 10]], [[1, 4, 6], [0, 1, 6, 7], [1, 3, 7], [0, 1, 3, 4], [0, 1, 5], [0, 1, 2, 3, 5], [2, 3, 4, 5, 7, 11]], [[1, 4, 6], [0, 1, 6, 7], [1, 3, 7], [0, 1, 3, 4], [0, 1, 3], [0, 1, 5, 8], [2, 3, 4, 5, 8, 9]], [[1, 4, 6], [0, 1, 6, 7], [1, 3, 7], [0, 1, 3, 4], [0, 1, 3], [0, 1, 2, 4, 7], [2, 3, 4, 5, 8, 10]], [[1, 4, 6], [0, 1, 6, 7], [1, 3, 7], [0, 1, 3, 4], [0, 1, 3], [0, 1, 2, 3, 5], [2, 3, 4, 5, 8, 11]], [[1, 4, 6], [0, 1, 6, 7], [1, 3, 7], [0, 1, 3, 4], [0, 1, 5, 8], [0, 1, 2, 4, 7], [2, 3, 4, 5, 9, 10]], [[1, 4, 6], [0, 1, 6, 7], [1, 3, 7], [0, 1, 3, 4], [0, 1, 5, 8], [0, 1, 2, 3, 5], [2, 3, 4, 5, 9, 11]], [[1, 4, 6], [0, 1, 6, 7], [1, 3, 7], [0, 1, 3, 4], [0, 1, 2, 4, 7], [0, 1, 2, 3, 5], [2, 3, 4, 5, 10, 11]], [[1, 4, 6], [0, 1, 6, 7], [1, 3, 7], [0, 1, 3, 4], [0, 1, 5], [0, 1, 3], [2, 3, 4, 6, 7, 8]], [[1, 4, 6], [0, 1, 6, 7], [1, 3, 7], [0, 1, 3, 4], [0, 1, 5], [0, 1, 5, 8], [2, 3, 4, 6, 7, 9]], [[1, 4, 6], [0, 1, 6, 7], [1, 3, 7], [0, 1, 3, 4], [0, 1, 5], [0, 1, 2, 4, 7], [2, 3, 4, 6, 7, 10]], [[1, 4, 6], [0, 1, 6, 7], [1, 3, 7], [0, 1, 3, 4], [0, 1, 5], [0, 1, 2, 3, 5], [2, 3, 4, 6, 7, 11]], [[1, 4, 6], [0, 1, 6, 7], [1, 3, 7], [0, 1, 3, 4], [0, 1, 3], [0, 1, 5, 8], [2, 3, 4, 6, 8, 9]], [[1, 4, 6], [0, 1, 6, 7], [1, 3, 7], [0, 1, 3, 4], [0, 1, 3], [0, 1, 2, 4, 7], [2, 3, 4, 6, 8, 10]], [[1, 4, 6], [0, 1, 6, 7], [1, 3, 7], [0, 1, 3, 4], [0, 1, 3], [0, 1, 2, 3, 5], [2, 3, 4, 6, 8, 11]], [[1, 4, 6], [0, 1, 6, 7], [1, 3, 7], [0, 1, 3, 4], [0, 1, 5, 8], [0, 1, 2, 4, 7], [2, 3, 4, 6, 9, 10]], [[1, 4, 6], [0, 1, 6, 7], [1, 3, 7], [0, 1, 3, 4], [0, 1, 5, 8], [0, 1, 2, 3, 5], [2, 3, 4, 6, 9, 11]], [[1, 4, 6], [0, 1, 6, 7], [1, 3, 7], [0, 1, 3, 4], [0, 1, 2, 4, 7], [0, 1, 2, 3, 5], [2, 3, 4, 6, 10, 11]], [[1, 4, 6], [0, 1, 6, 7], [1, 3, 7], [0, 1, 5], [0, 1, 3], [0, 1, 5, 8], [2, 3, 4, 7, 8, 9]], [[1, 4, 6], [0, 1, 6, 7], [1, 3, 7], [0, 1, 5], [0, 1, 3], [0, 1, 2, 4, 7], [2, 3, 4, 7, 8, 10]], [[1, 4, 6], [0, 1, 6, 7], [1, 3, 7], [0, 1, 5], [0, 1, 3], [0, 1, 2, 3, 5], [2, 3, 4, 7, 8, 11]], [[1, 4, 6], [0, 1, 6, 7], [1, 3, 7], [0, 1, 5], [0, 1, 5, 8], [0, 1, 2, 4, 7], [2, 3, 4, 7, 9, 10]], [[1, 4, 6], [0, 1, 6, 7], [1, 3, 7], [0, 1, 5], [0, 1, 5, 8], [0, 1, 2, 3, 5], [2, 3, 4, 7, 9, 11]], [[1, 4, 6], [0, 1, 6, 7], [1, 3, 7], [0, 1, 5], [0, 1, 2, 4, 7], [0, 1, 2, 3, 5], [2, 3, 4, 7, 10, 11]], [[1, 4, 6], [0, 1, 6, 7], [1, 3, 7], [0, 1, 3], [0, 1, 5, 8], [0, 1, 2, 4, 7], [2, 3, 4, 8, 9, 10]], [[1, 4, 6], [0, 1, 6, 7], [1, 3, 7], [0, 1, 3], [0, 1, 5, 8], [0, 1, 2, 3, 5], [2, 3, 4, 8, 9, 11]], [[1, 4, 6], [0, 1, 6, 7], [1, 3, 7], [0, 1, 3], [0, 1, 2, 4, 7], [0, 1, 2, 3, 5], [2, 3, 4, 8, 10, 11]], [[1, 4, 6], [0, 1, 6, 7], [1, 3, 7], [0, 1, 5, 8], [0, 1, 2, 4, 7], [0, 1, 2, 3, 5], [2, 3, 4, 9, 10, 11]], [[1, 4, 6], [0, 1, 6, 7], [0, 1, 3, 4], [0, 1, 3, 4], [0, 1, 5], [0, 1, 3], [2, 3, 5, 6, 7, 8]], [[1, 4, 6], [0, 1, 6, 7], [0, 1, 3, 4], [0, 1, 3, 4], [0, 1, 5], [0, 1, 5, 8], [2, 3, 5, 6, 7, 9]], [[1, 4, 6], [0, 1, 6, 7], [0, 1, 3, 4], [0, 1, 3, 4], [0, 1, 5], [0, 1, 2, 4, 7], [2, 3, 5, 6, 7, 10]], [[1, 4, 6], [0, 1, 6, 7], [0, 1, 3, 4], [0, 1, 3, 4], [0, 1, 5], [0, 1, 2, 3, 5], [2, 3, 5, 6, 7, 11]], [[1, 4, 6], [0, 1, 6, 7], [0, 1, 3, 4], [0, 1, 3, 4], [0, 1, 3], [0, 1, 5, 8], [2, 3, 5, 6, 8, 9]], [[1, 4, 6], [0, 1, 6, 7], [0, 1, 3, 4], [0, 1, 3, 4], [0, 1, 3], [0, 1, 2, 4, 7], [2, 3, 5, 6, 8, 10]], [[1, 4, 6], [0, 1, 6, 7], [0, 1, 3, 4], [0, 1, 3, 4], [0, 1, 3], [0, 1, 2, 3, 5], [2, 3, 5, 6, 8, 11]], [[1, 4, 6], [0, 1, 6, 7], [0, 1, 3, 4], [0, 1, 3, 4], [0, 1, 5, 8], [0, 1, 2, 4, 7], [2, 3, 5, 6, 9, 10]], [[1, 4, 6], [0, 1, 6, 7], [0, 1, 3, 4], [0, 1, 3, 4], [0, 1, 5, 8], [0, 1, 2, 3, 5], [2, 3, 5, 6, 9, 11]], [[1, 4, 6], [0, 1, 6, 7], [0, 1, 3, 4], [0, 1, 3, 4], [0, 1, 2, 4, 7], [0, 1, 2, 3, 5], [2, 3, 5, 6, 10, 11]], [[1, 4, 6], [0, 1, 6, 7], [0, 1, 3, 4], [0, 1, 5], [0, 1, 3], [0, 1, 5, 8], [2, 3, 5, 7, 8, 9]], [[1, 4, 6], [0, 1, 6, 7], [0, 1, 3, 4], [0, 1, 5], [0, 1, 3], [0, 1, 2, 4, 7], [2, 3, 5, 7, 8, 10]], [[1, 4, 6], [0, 1, 6, 7], [0, 1, 3, 4], [0, 1, 5], [0, 1, 3], [0, 1, 2, 3, 5], [2, 3, 5, 7, 8, 11]], [[1, 4, 6], [0, 1, 6, 7], [0, 1, 3, 4], [0, 1, 5], [0, 1, 5, 8], [0, 1, 2, 4, 7], [2, 3, 5, 7, 9, 10]], [[1, 4, 6], [0, 1, 6, 7], [0, 1, 3, 4], [0, 1, 5], [0, 1, 5, 8], [0, 1, 2, 3, 5], [2, 3, 5, 7, 9, 11]], [[1, 4, 6], [0, 1, 6, 7], [0, 1, 3, 4], [0, 1, 5], [0, 1, 2, 4, 7], [0, 1, 2, 3, 5], [2, 3, 5, 7, 10, 11]], [[1, 4, 6], [0, 1, 6, 7], [0, 1, 3, 4], [0, 1, 3], [0, 1, 5, 8], [0, 1, 2, 4, 7], [2, 3, 5, 8, 9, 10]], [[1, 4, 6], [0, 1, 6, 7], [0, 1, 3, 4], [0, 1, 3], [0, 1, 5, 8], [0, 1, 2, 3, 5], [2, 3, 5, 8, 9, 11]], [[1, 4, 6], [0, 1, 6, 7], [0, 1, 3, 4], [0, 1, 3], [0, 1, 2, 4, 7], [0, 1, 2, 3, 5], [2, 3, 5, 8, 10, 11]], [[1, 4, 6], [0, 1, 6, 7], [0, 1, 3, 4], [0, 1, 5, 8], [0, 1, 2, 4, 7], [0, 1, 2, 3, 5], [2, 3, 5, 9, 10, 11]], [[1, 4, 6], [0, 1, 6, 7], [0, 1, 3, 4], [0, 1, 5], [0, 1, 3], [0, 1, 5, 8], [2, 3, 6, 7, 8, 9]], [[1, 4, 6], [0, 1, 6, 7], [0, 1, 3, 4], [0, 1, 5], [0, 1, 3], [0, 1, 2, 4, 7], [2, 3, 6, 7, 8, 10]], [[1, 4, 6], [0, 1, 6, 7], [0, 1, 3, 4], [0, 1, 5], [0, 1, 3], [0, 1, 2, 3, 5], [2, 3, 6, 7, 8, 11]], [[1, 4, 6], [0, 1, 6, 7], [0, 1, 3, 4], [0, 1, 5], [0, 1, 5, 8], [0, 1, 2, 4, 7], [2, 3, 6, 7, 9, 10]], [[1, 4, 6], [0, 1, 6, 7], [0, 1, 3, 4], [0, 1, 5], [0, 1, 5, 8], [0, 1, 2, 3, 5], [2, 3, 6, 7, 9, 11]], [[1, 4, 6], [0, 1, 6, 7], [0, 1, 3, 4], [0, 1, 5], [0, 1, 2, 4, 7], [0, 1, 2, 3, 5], [2, 3, 6, 7, 10, 11]], [[1, 4, 6], [0, 1, 6, 7], [0, 1, 3, 4], [0, 1, 3], [0, 1, 5, 8], [0, 1, 2, 4, 7], [2, 3, 6, 8, 9, 10]], [[1, 4, 6], [0, 1, 6, 7], [0, 1, 3, 4], [0, 1, 3], [0, 1, 5, 8], [0, 1, 2, 3, 5], [2, 3, 6, 8, 9, 11]], [[1, 4, 6], [0, 1, 6, 7], [0, 1, 3, 4], [0, 1, 3], [0, 1, 2, 4, 7], [0, 1, 2, 3, 5], [2, 3, 6, 8, 10, 11]], [[1, 4, 6], [0, 1, 6, 7], [0, 1, 3, 4], [0, 1, 5, 8], [0, 1, 2, 4, 7], [0, 1, 2, 3, 5], [2, 3, 6, 9, 10, 11]], [[1, 4, 6], [0, 1, 6, 7], [0, 1, 5], [0, 1, 3], [0, 1, 5, 8], [0, 1, 2, 4, 7], [2, 3, 7, 8, 9, 10]], [[1, 4, 6], [0, 1, 6, 7], [0, 1, 5], [0, 1, 3], [0, 1, 5, 8], [0, 1, 2, 3, 5], [2, 3, 7, 8, 9, 11]], [[1, 4, 6], [0, 1, 6, 7], [0, 1, 5], [0, 1, 3], [0, 1, 2, 4, 7], [0, 1, 2, 3, 5], [2, 3, 7, 8, 10, 11]], [[1, 4, 6], [0, 1, 6, 7], [0, 1, 5], [0, 1, 5, 8], [0, 1, 2, 4, 7], [0, 1, 2, 3, 5], [2, 3, 7, 9, 10, 11]], [[1, 4, 6], [0, 1, 6, 7], [0, 1, 3], [0, 1, 5, 8], [0, 1, 2, 4, 7], [0, 1, 2, 3, 5], [2, 3, 8, 9, 10, 11]], [[1, 4, 6], [1, 3, 7], [0, 1, 3, 4], [0, 1, 3, 4], [0, 1, 5], [0, 1, 3], [2, 4, 5, 6, 7, 8]], [[1, 4, 6], [1, 3, 7], [0, 1, 3, 4], [0, 1, 3, 4], [0, 1, 5], [0, 1, 5, 8], [2, 4, 5, 6, 7, 9]], [[1, 4, 6], [1, 3, 7], [0, 1, 3, 4], [0, 1, 3, 4], [0, 1, 5], [0, 1, 2, 4, 7], [2, 4, 5, 6, 7, 10]], [[1, 4, 6], [1, 3, 7], [0, 1, 3, 4], [0, 1, 3, 4], [0, 1, 5], [0, 1, 2, 3, 5], [2, 4, 5, 6, 7, 11]], [[1, 4, 6], [1, 3, 7], [0, 1, 3, 4], [0, 1, 3, 4], [0, 1, 3], [0, 1, 5, 8], [2, 4, 5, 6, 8, 9]], [[1, 4, 6], [1, 3, 7], [0, 1, 3, 4], [0, 1, 3, 4], [0, 1, 3], [0, 1, 2, 4, 7], [2, 4, 5, 6, 8, 10]], [[1, 4, 6], [1, 3, 7], [0, 1, 3, 4], [0, 1, 3, 4], [0, 1, 3], [0, 1, 2, 3, 5], [2, 4, 5, 6, 8, 11]], [[1, 4, 6], [1, 3, 7], [0, 1, 3, 4], [0, 1, 3, 4], [0, 1, 5, 8], [0, 1, 2, 4, 7], [2, 4, 5, 6, 9, 10]], [[1, 4, 6], [1, 3, 7], [0, 1, 3, 4], [0, 1, 3, 4], [0, 1, 5, 8], [0, 1, 2, 3, 5], [2, 4, 5, 6, 9, 11]], [[1, 4, 6], [1, 3, 7], [0, 1, 3, 4], [0, 1, 3, 4], [0, 1, 2, 4, 7], [0, 1, 2, 3, 5], [2, 4, 5, 6, 10, 11]], [[1, 4, 6], [1, 3, 7], [0, 1, 3, 4], [0, 1, 5], [0, 1, 3], [0, 1, 5, 8], [2, 4, 5, 7, 8, 9]], [[1, 4, 6], [1, 3, 7], [0, 1, 3, 4], [0, 1, 5], [0, 1, 3], [0, 1, 2, 4, 7], [2, 4, 5, 7, 8, 10]], [[1, 4, 6], [1, 3, 7], [0, 1, 3, 4], [0, 1, 5], [0, 1, 3], [0, 1, 2, 3, 5], [2, 4, 5, 7, 8, 11]], [[1, 4, 6], [1, 3, 7], [0, 1, 3, 4], [0, 1, 5], [0, 1, 5, 8], [0, 1, 2, 4, 7], [2, 4, 5, 7, 9, 10]], [[1, 4, 6], [1, 3, 7], [0, 1, 3, 4], [0, 1, 5], [0, 1, 5, 8], [0, 1, 2, 3, 5], [2, 4, 5, 7, 9, 11]], [[1, 4, 6], [1, 3, 7], [0, 1, 3, 4], [0, 1, 5], [0, 1, 2, 4, 7], [0, 1, 2, 3, 5], [2, 4, 5, 7, 10, 11]], [[1, 4, 6], [1, 3, 7], [0, 1, 3, 4], [0, 1, 3], [0, 1, 5, 8], [0, 1, 2, 4, 7], [2, 4, 5, 8, 9, 10]], [[1, 4, 6], [1, 3, 7], [0, 1, 3, 4], [0, 1, 3], [0, 1, 5, 8], [0, 1, 2, 3, 5], [2, 4, 5, 8, 9, 11]], [[1, 4, 6], [1, 3, 7], [0, 1, 3, 4], [0, 1, 3], [0, 1, 2, 4, 7], [0, 1, 2, 3, 5], [2, 4, 5, 8, 10, 11]], [[1, 4, 6], [1, 3, 7], [0, 1, 3, 4], [0, 1, 5, 8], [0, 1, 2, 4, 7], [0, 1, 2, 3, 5], [2, 4, 5, 9, 10, 11]], [[1, 4, 6], [1, 3, 7], [0, 1, 3, 4], [0, 1, 5], [0, 1, 3], [0, 1, 5, 8], [2, 4, 6, 7, 8, 9]], [[1, 4, 6], [1, 3, 7], [0, 1, 3, 4], [0, 1, 5], [0, 1, 3], [0, 1, 2, 4, 7], [2, 4, 6, 7, 8, 10]], [[1, 4, 6], [1, 3, 7], [0, 1, 3, 4], [0, 1, 5], [0, 1, 3], [0, 1, 2, 3, 5], [2, 4, 6, 7, 8, 11]], [[1, 4, 6], [1, 3, 7], [0, 1, 3, 4], [0, 1, 5], [0, 1, 5, 8], [0, 1, 2, 4, 7], [2, 4, 6, 7, 9, 10]], [[1, 4, 6], [1, 3, 7], [0, 1, 3, 4], [0, 1, 5], [0, 1, 5, 8], [0, 1, 2, 3, 5], [2, 4, 6, 7, 9, 11]], [[1, 4, 6], [1, 3, 7], [0, 1, 3, 4], [0, 1, 5], [0, 1, 2, 4, 7], [0, 1, 2, 3, 5], [2, 4, 6, 7, 10, 11]], [[1, 4, 6], [1, 3, 7], [0, 1, 3, 4], [0, 1, 3], [0, 1, 5, 8], [0, 1, 2, 4, 7], [2, 4, 6, 8, 9, 10]], [[1, 4, 6], [1, 3, 7], [0, 1, 3, 4], [0, 1, 3], [0, 1, 5, 8], [0, 1, 2, 3, 5], [2, 4, 6, 8, 9, 11]], [[1, 4, 6], [1, 3, 7], [0, 1, 3, 4], [0, 1, 3], [0, 1, 2, 4, 7], [0, 1, 2, 3, 5], [2, 4, 6, 8, 10, 11]], [[1, 4, 6], [1, 3, 7], [0, 1, 3, 4], [0, 1, 5, 8], [0, 1, 2, 4, 7], [0, 1, 2, 3, 5], [2, 4, 6, 9, 10, 11]], [[1, 4, 6], [1, 3, 7], [0, 1, 5], [0, 1, 3], [0, 1, 5, 8], [0, 1, 2, 4, 7], [2, 4, 7, 8, 9, 10]], [[1, 4, 6], [1, 3, 7], [0, 1, 5], [0, 1, 3], [0, 1, 5, 8], [0, 1, 2, 3, 5], [2, 4, 7, 8, 9, 11]], [[1, 4, 6], [1, 3, 7], [0, 1, 5], [0, 1, 3], [0, 1, 2, 4, 7], [0, 1, 2, 3, 5], [2, 4, 7, 8, 10, 11]], [[1, 4, 6], [1, 3, 7], [0, 1, 5], [0, 1, 5, 8], [0, 1, 2, 4, 7], [0, 1, 2, 3, 5], [2, 4, 7, 9, 10, 11]], [[1, 4, 6], [1, 3, 7], [0, 1, 3], [0, 1, 5, 8], [0, 1, 2, 4, 7], [0, 1, 2, 3, 5], [2, 4, 8, 9, 10, 11]], [[1, 4, 6], [0, 1, 3, 4], [0, 1, 3, 4], [0, 1, 5], [0, 1, 3], [0, 1, 5, 8], [2, 5, 6, 7, 8, 9]], [[1, 4, 6], [0, 1, 3, 4], [0, 1, 3, 4], [0, 1, 5], [0, 1, 3], [0, 1, 2, 4, 7], [2, 5, 6, 7, 8, 10]], [[1, 4, 6], [0, 1, 3, 4], [0, 1, 3, 4], [0, 1, 5], [0, 1, 3], [0, 1, 2, 3, 5], [2, 5, 6, 7, 8, 11]], [[1, 4, 6], [0, 1, 3, 4], [0, 1, 3, 4], [0, 1, 5], [0, 1, 5, 8], [0, 1, 2, 4, 7], [2, 5, 6, 7, 9, 10]], [[1, 4, 6], [0, 1, 3, 4], [0, 1, 3, 4], [0, 1, 5], [0, 1, 5, 8], [0, 1, 2, 3, 5], [2, 5, 6, 7, 9, 11]], [[1, 4, 6], [0, 1, 3, 4], [0, 1, 3, 4], [0, 1, 5], [0, 1, 2, 4, 7], [0, 1, 2, 3, 5], [2, 5, 6, 7, 10, 11]], [[1, 4, 6], [0, 1, 3, 4], [0, 1, 3, 4], [0, 1, 3], [0, 1, 5, 8], [0, 1, 2, 4, 7], [2, 5, 6, 8, 9, 10]], [[1, 4, 6], [0, 1, 3, 4], [0, 1, 3, 4], [0, 1, 3], [0, 1, 5, 8], [0, 1, 2, 3, 5], [2, 5, 6, 8, 9, 11]], [[1, 4, 6], [0, 1, 3, 4], [0, 1, 3, 4], [0, 1, 3], [0, 1, 2, 4, 7], [0, 1, 2, 3, 5], [2, 5, 6, 8, 10, 11]], [[1, 4, 6], [0, 1, 3, 4], [0, 1, 3, 4], [0, 1, 5, 8], [0, 1, 2, 4, 7], [0, 1, 2, 3, 5], [2, 5, 6, 9, 10, 11]], [[1, 4, 6], [0, 1, 3, 4], [0, 1, 5], [0, 1, 3], [0, 1, 5, 8], [0, 1, 2, 4, 7], [2, 5, 7, 8, 9, 10]], [[1, 4, 6], [0, 1, 3, 4], [0, 1, 5], [0, 1, 3], [0, 1, 5, 8], [0, 1, 2, 3, 5], [2, 5, 7, 8, 9, 11]], [[1, 4, 6], [0, 1, 3, 4], [0, 1, 5], [0, 1, 3], [0, 1, 2, 4, 7], [0, 1, 2, 3, 5], [2, 5, 7, 8, 10, 11]], [[1, 4, 6], [0, 1, 3, 4], [0, 1, 5], [0, 1, 5, 8], [0, 1, 2, 4, 7], [0, 1, 2, 3, 5], [2, 5, 7, 9, 10, 11]], [[1, 4, 6], [0, 1, 3, 4], [0, 1, 3], [0, 1, 5, 8], [0, 1, 2, 4, 7], [0, 1, 2, 3, 5], [2, 5, 8, 9, 10, 11]], [[1, 4, 6], [0, 1, 3, 4], [0, 1, 5], [0, 1, 3], [0, 1, 5, 8], [0, 1, 2, 4, 7], [2, 6, 7, 8, 9, 10]], [[1, 4, 6], [0, 1, 3, 4], [0, 1, 5], [0, 1, 3], [0, 1, 5, 8], [0, 1, 2, 3, 5], [2, 6, 7, 8, 9, 11]], [[1, 4, 6], [0, 1, 3, 4], [0, 1, 5], [0, 1, 3], [0, 1, 2, 4, 7], [0, 1, 2, 3, 5], [2, 6, 7, 8, 10, 11]], [[1, 4, 6], [0, 1, 3, 4], [0, 1, 5], [0, 1, 5, 8], [0, 1, 2, 4, 7], [0, 1, 2, 3, 5], [2, 6, 7, 9, 10, 11]], [[1, 4, 6], [0, 1, 3, 4], [0, 1, 3], [0, 1, 5, 8], [0, 1, 2, 4, 7], [0, 1, 2, 3, 5], [2, 6, 8, 9, 10, 11]], [[1, 4, 6], [0, 1, 5], [0, 1, 3], [0, 1, 5, 8], [0, 1, 2, 4, 7], [0, 1, 2, 3, 5], [2, 7, 8, 9, 10, 11]], [[0, 1, 6, 7], [1, 3, 7], [0, 1, 3, 4], [0, 1, 3, 4], [0, 1, 5], [0, 1, 3], [3, 4, 5, 6, 7, 8]], [[0, 1, 6, 7], [1, 3, 7], [0, 1, 3, 4], [0, 1, 3, 4], [0, 1, 5], [0, 1, 5, 8], [3, 4, 5, 6, 7, 9]], [[0, 1, 6, 7], [1, 3, 7], [0, 1, 3, 4], [0, 1, 3, 4], [0, 1, 5], [0, 1, 2, 4, 7], [3, 4, 5, 6, 7, 10]], [[0, 1, 6, 7], [1, 3, 7], [0, 1, 3, 4], [0, 1, 3, 4], [0, 1, 5], [0, 1, 2, 3, 5], [3, 4, 5, 6, 7, 11]], [[0, 1, 6, 7], [1, 3, 7], [0, 1, 3, 4], [0, 1, 3, 4], [0, 1, 3], [0, 1, 5, 8], [3, 4, 5, 6, 8, 9]], [[0, 1, 6, 7], [1, 3, 7], [0, 1, 3, 4], [0, 1, 3, 4], [0, 1, 3], [0, 1, 2, 4, 7], [3, 4, 5, 6, 8, 10]], [[0, 1, 6, 7], [1, 3, 7], [0, 1, 3, 4], [0, 1, 3, 4], [0, 1, 3], [0, 1, 2, 3, 5], [3, 4, 5, 6, 8, 11]], [[0, 1, 6, 7], [1, 3, 7], [0, 1, 3, 4], [0, 1, 3, 4], [0, 1, 5, 8], [0, 1, 2, 4, 7], [3, 4, 5, 6, 9, 10]], [[0, 1, 6, 7], [1, 3, 7], [0, 1, 3, 4], [0, 1, 3, 4], [0, 1, 5, 8], [0, 1, 2, 3, 5], [3, 4, 5, 6, 9, 11]], [[0, 1, 6, 7], [1, 3, 7], [0, 1, 3, 4], [0, 1, 3, 4], [0, 1, 2, 4, 7], [0, 1, 2, 3, 5], [3, 4, 5, 6, 10, 11]], [[0, 1, 6, 7], [1, 3, 7], [0, 1, 3, 4], [0, 1, 5], [0, 1, 3], [0, 1, 5, 8], [3, 4, 5, 7, 8, 9]], [[0, 1, 6, 7], [1, 3, 7], [0, 1, 3, 4], [0, 1, 5], [0, 1, 3], [0, 1, 2, 4, 7], [3, 4, 5, 7, 8, 10]], [[0, 1, 6, 7], [1, 3, 7], [0, 1, 3, 4], [0, 1, 5], [0, 1, 3], [0, 1, 2, 3, 5], [3, 4, 5, 7, 8, 11]], [[0, 1, 6, 7], [1, 3, 7], [0, 1, 3, 4], [0, 1, 5], [0, 1, 5, 8], [0, 1, 2, 4, 7], [3, 4, 5, 7, 9, 10]], [[0, 1, 6, 7], [1, 3, 7], [0, 1, 3, 4], [0, 1, 5], [0, 1, 5, 8], [0, 1, 2, 3, 5], [3, 4, 5, 7, 9, 11]], [[0, 1, 6, 7], [1, 3, 7], [0, 1, 3, 4], [0, 1, 5], [0, 1, 2, 4, 7], [0, 1, 2, 3, 5], [3, 4, 5, 7, 10, 11]], [[0, 1, 6, 7], [1, 3, 7], [0, 1, 3, 4], [0, 1, 3], [0, 1, 5, 8], [0, 1, 2, 4, 7], [3, 4, 5, 8, 9, 10]], [[0, 1, 6, 7], [1, 3, 7], [0, 1, 3, 4], [0, 1, 3], [0, 1, 5, 8], [0, 1, 2, 3, 5], [3, 4, 5, 8, 9, 11]], [[0, 1, 6, 7], [1, 3, 7], [0, 1, 3, 4], [0, 1, 3], [0, 1, 2, 4, 7], [0, 1, 2, 3, 5], [3, 4, 5, 8, 10, 11]], [[0, 1, 6, 7], [1, 3, 7], [0, 1, 3, 4], [0, 1, 5, 8], [0, 1, 2, 4, 7], [0, 1, 2, 3, 5], [3, 4, 5, 9, 10, 11]], [[0, 1, 6, 7], [1, 3, 7], [0, 1, 3, 4], [0, 1, 5], [0, 1, 3], [0, 1, 5, 8], [3, 4, 6, 7, 8, 9]], [[0, 1, 6, 7], [1, 3, 7], [0, 1, 3, 4], [0, 1, 5], [0, 1, 3], [0, 1, 2, 4, 7], [3, 4, 6, 7, 8, 10]], [[0, 1, 6, 7], [1, 3, 7], [0, 1, 3, 4], [0, 1, 5], [0, 1, 3], [0, 1, 2, 3, 5], [3, 4, 6, 7, 8, 11]], [[0, 1, 6, 7], [1, 3, 7], [0, 1, 3, 4], [0, 1, 5], [0, 1, 5, 8], [0, 1, 2, 4, 7], [3, 4, 6, 7, 9, 10]], [[0, 1, 6, 7], [1, 3, 7], [0, 1, 3, 4], [0, 1, 5], [0, 1, 5, 8], [0, 1, 2, 3, 5], [3, 4, 6, 7, 9, 11]], [[0, 1, 6, 7], [1, 3, 7], [0, 1, 3, 4], [0, 1, 5], [0, 1, 2, 4, 7], [0, 1, 2, 3, 5], [3, 4, 6, 7, 10, 11]], [[0, 1, 6, 7], [1, 3, 7], [0, 1, 3, 4], [0, 1, 3], [0, 1, 5, 8], [0, 1, 2, 4, 7], [3, 4, 6, 8, 9, 10]], [[0, 1, 6, 7], [1, 3, 7], [0, 1, 3, 4], [0, 1, 3], [0, 1, 5, 8], [0, 1, 2, 3, 5], [3, 4, 6, 8, 9, 11]], [[0, 1, 6, 7], [1, 3, 7], [0, 1, 3, 4], [0, 1, 3], [0, 1, 2, 4, 7], [0, 1, 2, 3, 5], [3, 4, 6, 8, 10, 11]], [[0, 1, 6, 7], [1, 3, 7], [0, 1, 3, 4], [0, 1, 5, 8], [0, 1, 2, 4, 7], [0, 1, 2, 3, 5], [3, 4, 6, 9, 10, 11]], [[0, 1, 6, 7], [1, 3, 7], [0, 1, 5], [0, 1, 3], [0, 1, 5, 8], [0, 1, 2, 4, 7], [3, 4, 7, 8, 9, 10]], [[0, 1, 6, 7], [1, 3, 7], [0, 1, 5], [0, 1, 3], [0, 1, 5, 8], [0, 1, 2, 3, 5], [3, 4, 7, 8, 9, 11]], [[0, 1, 6, 7], [1, 3, 7], [0, 1, 5], [0, 1, 3], [0, 1, 2, 4, 7], [0, 1, 2, 3, 5], [3, 4, 7, 8, 10, 11]], [[0, 1, 6, 7], [1, 3, 7], [0, 1, 5], [0, 1, 5, 8], [0, 1, 2, 4, 7], [0, 1, 2, 3, 5], [3, 4, 7, 9, 10, 11]], [[0, 1, 6, 7], [1, 3, 7], [0, 1, 3], [0, 1, 5, 8], [0, 1, 2, 4, 7], [0, 1, 2, 3, 5], [3, 4, 8, 9, 10, 11]], [[0, 1, 6, 7], [0, 1, 3, 4], [0, 1, 3, 4], [0, 1, 5], [0, 1, 3], [0, 1, 5, 8], [3, 5, 6, 7, 8, 9]], [[0, 1, 6, 7], [0, 1, 3, 4], [0, 1, 3, 4], [0, 1, 5], [0, 1, 3], [0, 1, 2, 4, 7], [3, 5, 6, 7, 8, 10]], [[0, 1, 6, 7], [0, 1, 3, 4], [0, 1, 3, 4], [0, 1, 5], [0, 1, 3], [0, 1, 2, 3, 5], [3, 5, 6, 7, 8, 11]], [[0, 1, 6, 7], [0, 1, 3, 4], [0, 1, 3, 4], [0, 1, 5], [0, 1, 5, 8], [0, 1, 2, 4, 7], [3, 5, 6, 7, 9, 10]], [[0, 1, 6, 7], [0, 1, 3, 4], [0, 1, 3, 4], [0, 1, 5], [0, 1, 5, 8], [0, 1, 2, 3, 5], [3, 5, 6, 7, 9, 11]], [[0, 1, 6, 7], [0, 1, 3, 4], [0, 1, 3, 4], [0, 1, 5], [0, 1, 2, 4, 7], [0, 1, 2, 3, 5], [3, 5, 6, 7, 10, 11]], [[0, 1, 6, 7], [0, 1, 3, 4], [0, 1, 3, 4], [0, 1, 3], [0, 1, 5, 8], [0, 1, 2, 4, 7], [3, 5, 6, 8, 9, 10]], [[0, 1, 6, 7], [0, 1, 3, 4], [0, 1, 3, 4], [0, 1, 3], [0, 1, 5, 8], [0, 1, 2, 3, 5], [3, 5, 6, 8, 9, 11]], [[0, 1, 6, 7], [0, 1, 3, 4], [0, 1, 3, 4], [0, 1, 3], [0, 1, 2, 4, 7], [0, 1, 2, 3, 5], [3, 5, 6, 8, 10, 11]], [[0, 1, 6, 7], [0, 1, 3, 4], [0, 1, 3, 4], [0, 1, 5, 8], [0, 1, 2, 4, 7], [0, 1, 2, 3, 5], [3, 5, 6, 9, 10, 11]], [[0, 1, 6, 7], [0, 1, 3, 4], [0, 1, 5], [0, 1, 3], [0, 1, 5, 8], [0, 1, 2, 4, 7], [3, 5, 7, 8, 9, 10]], [[0, 1, 6, 7], [0, 1, 3, 4], [0, 1, 5], [0, 1, 3], [0, 1, 5, 8], [0, 1, 2, 3, 5], [3, 5, 7, 8, 9, 11]], [[0, 1, 6, 7], [0, 1, 3, 4], [0, 1, 5], [0, 1, 3], [0, 1, 2, 4, 7], [0, 1, 2, 3, 5], [3, 5, 7, 8, 10, 11]], [[0, 1, 6, 7], [0, 1, 3, 4], [0, 1, 5], [0, 1, 5, 8], [0, 1, 2, 4, 7], [0, 1, 2, 3, 5], [3, 5, 7, 9, 10, 11]], [[0, 1, 6, 7], [0, 1, 3, 4], [0, 1, 3], [0, 1, 5, 8], [0, 1, 2, 4, 7], [0, 1, 2, 3, 5], [3, 5, 8, 9, 10, 11]], [[0, 1, 6, 7], [0, 1, 3, 4], [0, 1, 5], [0, 1, 3], [0, 1, 5, 8], [0, 1, 2, 4, 7], [3, 6, 7, 8, 9, 10]], [[0, 1, 6, 7], [0, 1, 3, 4], [0, 1, 5], [0, 1, 3], [0, 1, 5, 8], [0, 1, 2, 3, 5], [3, 6, 7, 8, 9, 11]], [[0, 1, 6, 7], [0, 1, 3, 4], [0, 1, 5], [0, 1, 3], [0, 1, 2, 4, 7], [0, 1, 2, 3, 5], [3, 6, 7, 8, 10, 11]], [[0, 1, 6, 7], [0, 1, 3, 4], [0, 1, 5], [0, 1, 5, 8], [0, 1, 2, 4, 7], [0, 1, 2, 3, 5], [3, 6, 7, 9, 10, 11]], [[0, 1, 6, 7], [0, 1, 3, 4], [0, 1, 3], [0, 1, 5, 8], [0, 1, 2, 4, 7], [0, 1, 2, 3, 5], [3, 6, 8, 9, 10, 11]], [[0, 1, 6, 7], [0, 1, 5], [0, 1, 3], [0, 1, 5, 8], [0, 1, 2, 4, 7], [0, 1, 2, 3, 5], [3, 7, 8, 9, 10, 11]], [[1, 3, 7], [0, 1, 3, 4], [0, 1, 3, 4], [0, 1, 5], [0, 1, 3], [0, 1, 5, 8], [4, 5, 6, 7, 8, 9]], [[1, 3, 7], [0, 1, 3, 4], [0, 1, 3, 4], [0, 1, 5], [0, 1, 3], [0, 1, 2, 4, 7], [4, 5, 6, 7, 8, 10]], [[1, 3, 7], [0, 1, 3, 4], [0, 1, 3, 4], [0, 1, 5], [0, 1, 3], [0, 1, 2, 3, 5], [4, 5, 6, 7, 8, 11]], [[1, 3, 7], [0, 1, 3, 4], [0, 1, 3, 4], [0, 1, 5], [0, 1, 5, 8], [0, 1, 2, 4, 7], [4, 5, 6, 7, 9, 10]], [[1, 3, 7], [0, 1, 3, 4], [0, 1, 3, 4], [0, 1, 5], [0, 1, 5, 8], [0, 1, 2, 3, 5], [4, 5, 6, 7, 9, 11]], [[1, 3, 7], [0, 1, 3, 4], [0, 1, 3, 4], [0, 1, 5], [0, 1, 2, 4, 7], [0, 1, 2, 3, 5], [4, 5, 6, 7, 10, 11]], [[1, 3, 7], [0, 1, 3, 4], [0, 1, 3, 4], [0, 1, 3], [0, 1, 5, 8], [0, 1, 2, 4, 7], [4, 5, 6, 8, 9, 10]], [[1, 3, 7], [0, 1, 3, 4], [0, 1, 3, 4], [0, 1, 3], [0, 1, 5, 8], [0, 1, 2, 3, 5], [4, 5, 6, 8, 9, 11]], [[1, 3, 7], [0, 1, 3, 4], [0, 1, 3, 4], [0, 1, 3], [0, 1, 2, 4, 7], [0, 1, 2, 3, 5], [4, 5, 6, 8, 10, 11]], [[1, 3, 7], [0, 1, 3, 4], [0, 1, 3, 4], [0, 1, 5, 8], [0, 1, 2, 4, 7], [0, 1, 2, 3, 5], [4, 5, 6, 9, 10, 11]], [[1, 3, 7], [0, 1, 3, 4], [0, 1, 5], [0, 1, 3], [0, 1, 5, 8], [0, 1, 2, 4, 7], [4, 5, 7, 8, 9, 10]], [[1, 3, 7], [0, 1, 3, 4], [0, 1, 5], [0, 1, 3], [0, 1, 5, 8], [0, 1, 2, 3, 5], [4, 5, 7, 8, 9, 11]], [[1, 3, 7], [0, 1, 3, 4], [0, 1, 5], [0, 1, 3], [0, 1, 2, 4, 7], [0, 1, 2, 3, 5], [4, 5, 7, 8, 10, 11]], [[1, 3, 7], [0, 1, 3, 4], [0, 1, 5], [0, 1, 5, 8], [0, 1, 2, 4, 7], [0, 1, 2, 3, 5], [4, 5, 7, 9, 10, 11]], [[1, 3, 7], [0, 1, 3, 4], [0, 1, 3], [0, 1, 5, 8], [0, 1, 2, 4, 7], [0, 1, 2, 3, 5], [4, 5, 8, 9, 10, 11]], [[1, 3, 7], [0, 1, 3, 4], [0, 1, 5], [0, 1, 3], [0, 1, 5, 8], [0, 1, 2, 4, 7], [4, 6, 7, 8, 9, 10]], [[1, 3, 7], [0, 1, 3, 4], [0, 1, 5], [0, 1, 3], [0, 1, 5, 8], [0, 1, 2, 3, 5], [4, 6, 7, 8, 9, 11]], [[1, 3, 7], [0, 1, 3, 4], [0, 1, 5], [0, 1, 3], [0, 1, 2, 4, 7], [0, 1, 2, 3, 5], [4, 6, 7, 8, 10, 11]], [[1, 3, 7], [0, 1, 3, 4], [0, 1, 5], [0, 1, 5, 8], [0, 1, 2, 4, 7], [0, 1, 2, 3, 5], [4, 6, 7, 9, 10, 11]], [[1, 3, 7], [0, 1, 3, 4], [0, 1, 3], [0, 1, 5, 8], [0, 1, 2, 4, 7], [0, 1, 2, 3, 5], [4, 6, 8, 9, 10, 11]], [[1, 3, 7], [0, 1, 5], [0, 1, 3], [0, 1, 5, 8], [0, 1, 2, 4, 7], [0, 1, 2, 3, 5], [4, 7, 8, 9, 10, 11]], [[0, 1, 3, 4], [0, 1, 3, 4], [0, 1, 5], [0, 1, 3], [0, 1, 5, 8], [0, 1, 2, 4, 7], [5, 6, 7, 8, 9, 10]], [[0, 1, 3, 4], [0, 1, 3, 4], [0, 1, 5], [0, 1, 3], [0, 1, 5, 8], [0, 1, 2, 3, 5], [5, 6, 7, 8, 9, 11]], [[0, 1, 3, 4], [0, 1, 3, 4], [0, 1, 5], [0, 1, 3], [0, 1, 2, 4, 7], [0, 1, 2, 3, 5], [5, 6, 7, 8, 10, 11]], [[0, 1, 3, 4], [0, 1, 3, 4], [0, 1, 5], [0, 1, 5, 8], [0, 1, 2, 4, 7], [0, 1, 2, 3, 5], [5, 6, 7, 9, 10, 11]], [[0, 1, 3, 4], [0, 1, 3, 4], [0, 1, 3], [0, 1, 5, 8], [0, 1, 2, 4, 7], [0, 1, 2, 3, 5], [5, 6, 8, 9, 10, 11]], [[0, 1, 3, 4], [0, 1, 5], [0, 1, 3], [0, 1, 5, 8], [0, 1, 2, 4, 7], [0, 1, 2, 3, 5], [5, 7, 8, 9, 10, 11]], [[0, 1, 3, 4], [0, 1, 5], [0, 1, 3], [0, 1, 5, 8], [0, 1, 2, 4, 7], [0, 1, 2, 3, 5], [6, 7, 8, 9, 10, 11]]]\n",
            "cantidad de posibles dias 462\n",
            "[[[0, 1, 2, 3, 4], [2, 3, 4], [1, 4, 6], [0, 1, 6, 7], [1, 3, 7], [0, 1, 2, 4, 7], [0, 1, 2, 3, 4, 10], {0, 1, 2, 3, 4, 6, 7}], [[0, 1, 3, 4], [0, 1, 3, 4], [0, 1, 5], [0, 1, 3], [0, 1, 5, 8], [0, 1, 2, 3, 5], [5, 6, 7, 8, 9, 11], {0, 1, 2, 3, 4, 5, 8}], 14]\n",
            "14\n"
          ]
        }
      ]
    },
    {
      "cell_type": "markdown",
      "metadata": {
        "id": "tgrnsC2nkFa8"
      },
      "source": [
        "Calcula la complejidad del algoritmo por fuerza bruta"
      ]
    },
    {
      "cell_type": "markdown",
      "metadata": {
        "id": "9eUd3xwckP68"
      },
      "source": [
        "Respuesta"
      ]
    },
    {
      "cell_type": "code",
      "metadata": {
        "id": "rvZWwL-ckRST",
        "colab": {
          "base_uri": "https://localhost:8080/",
          "height": 72
        },
        "outputId": "dcf99330-9a47-436f-8201-5bbf37026b69"
      },
      "source": [
        "# Calculando segun estructura de codigo:\n",
        "\"\"\"\n",
        "#parte 1 (asignacion de variables)\n",
        "  O(1) + O(1) + O(1) = O(1)\n",
        "#parte 2 y parte 3 misma estructura (2 for e if)\n",
        "  O(n) * O(n) + O(n) = O(n^2) + O(n)\n",
        "#parte 4  (6 bucles for anidados)\n",
        "  O(n) * O(n) * O(n) * O(n) * O(n) * O(n) = O(n^6)\n",
        "#parte 5  (2 bucles for anidados y 1 if)\n",
        "  O(n) * O(n) + O(n) = O(n^2) + O(n)\n",
        "#parte 6 (4 bucles for anidados)\n",
        "  O(n) * O(n) * O(n) * O(n) = O(n^4)\n",
        "#parte 7 (for e if)\n",
        "  O(n) + O(n) = O(n^2)\n",
        "\"\"\"\n",
        "#por la cantidad de For anidados y estructuras se calcula que la Big(O) de este algoritmo por fuerza bruta es Polinomial O(n^6)\n",
        "# sin embargo esto puede cambiar debido a que si se añaden mas restricciones los bucles For tendrian que aumentar proporcionalemente segun las restricciones dadas.\n"
      ],
      "execution_count": 6,
      "outputs": [
        {
          "output_type": "execute_result",
          "data": {
            "text/plain": [
              "'\\n#parte 1 (asignacion de variables)\\n  O(1) + O(1) + O(1) = O(1)\\n#parte 2 y parte 3 misma estructura (2 for e if)\\n  O(n) * O(n) + O(n) = O(n^2) + O(n)\\n#parte 4  (6 bucles for anidados)\\n  O(n) * O(n) * O(n) * O(n) * O(n) * O(n) = O(n^6)\\n#parte 5  (2 bucles for anidados y 1 if)\\n  O(n) * O(n) + O(n) = O(n^2) + O(n)\\n#parte 6 (4 bucles for anidados)\\n  O(n) * O(n) * O(n) * O(n) = O(n^4)\\n#parte 7 (for e if)\\n  O(n) + O(n) = O(n^2)\\n'"
            ],
            "application/vnd.google.colaboratory.intrinsic+json": {
              "type": "string"
            }
          },
          "metadata": {},
          "execution_count": 6
        }
      ]
    },
    {
      "cell_type": "markdown",
      "metadata": {
        "id": "txbrmLmskReM"
      },
      "source": [
        "(*)Diseña un algoritmo que mejore la complejidad del algortimo por fuerza bruta. Argumenta porque crees que mejora el algoritmo por fuerza bruta"
      ]
    },
    {
      "cell_type": "markdown",
      "metadata": {
        "id": "hLrVwt5QkZPD"
      },
      "source": [
        "Respuesta"
      ]
    },
    {
      "cell_type": "code",
      "metadata": {
        "id": "m1eyM21Vkabg",
        "colab": {
          "base_uri": "https://localhost:8080/"
        },
        "outputId": "25020495-d051-49a0-c29a-82693297e4b9"
      },
      "source": [
        "#define un algoritmo que mejore la complejidad de fuerza bruta anterior\n",
        "# Para este caso creo que se deberia utilizar una tecnica heuristica mas que una determinista.\n",
        "# Escogi el algoritmo de recocido simulado o SA que realiza una busqueda permitiendo aletoriedad simulando un proceso de enfriamiento de metales.\n",
        "\n",
        "# Algunas caracteristicas de este algoritmo son que no necesita evaluar todas las posibilidades, es eficiente con grandes cantidades de combinatoria, no se estanca en minimos locales, acepta soluciones \"erradas\" pero es para buscar mejores opciones, es flexible a distintas funciones de costos y/o restriocciones.\n",
        "\n",
        "# esta vez se tomará como ejemplo el primer dataset con el que se calculo por fuerza bruta y luego el dataset completo\n",
        "\n",
        "import random\n",
        "import math\n",
        "\n",
        "n_tomas = len(dataset_completo)\n",
        "n_actores = len(dataset_completo[0])\n",
        "tomasxdias = 6\n",
        "n_dias = int(n_tomas/tomasxdias)\n",
        "\n",
        "def g_distribucion():\n",
        "    ind = list(range(n_tomas))\n",
        "    random.shuffle(ind)\n",
        "    combinaciones_aleatorias = [ind[i*tomasxdias:(i+1)*tomasxdias] for i in range(n_dias)]\n",
        "    print(combinaciones_aleatorias)\n",
        "    return combinaciones_aleatorias\n",
        "\n",
        "# g_distribucion() Se obtiene una lista aleatoria de todos los posibles numeros en los 5 dias segun la restriccion [[18, 14, 19, 20, 28, 9], [8, 2, 17, 6, 16, 24], [7, 12, 5, 3, 13, 11], [25, 1, 15, 23, 10, 29], [0, 21, 22, 27, 4, 26]]\n",
        "\n",
        "def costo_total_x_combinacion(distribucion):\n",
        "    costo_total = 0\n",
        "    for dia in distribucion:\n",
        "        actores_en_dia = set()\n",
        "        for toma in dia:\n",
        "            for actor, participa in enumerate(dataset_completo[toma]):\n",
        "                if participa:\n",
        "                    actores_en_dia.add(actor)\n",
        "        costo_total += len(actores_en_dia)\n",
        "    print(costo_total)\n",
        "    return costo_total\n",
        "# costo_total_x_combinacion calcula el costo total por opcion generada, esto nos servira para ir comparando los resultados segun las opciones que vayamos generando.\n",
        "# costo_total_x_combinacion(g_distribucion())\n",
        "\n",
        "\n",
        "\n",
        "\n",
        "\n"
      ],
      "execution_count": 44,
      "outputs": [
        {
          "output_type": "stream",
          "name": "stdout",
          "text": [
            "[[12, 17, 28, 7, 25, 1], [18, 0, 20, 27, 13, 8], [5, 9, 16, 15, 19, 21], [24, 22, 10, 11, 26, 14], [3, 29, 4, 6, 2, 23]]\n",
            "39\n",
            "[[6, 12, 22, 26, 25, 28], [1, 4, 11, 9, 18, 16], [13, 8, 17, 0, 20, 15], [19, 27, 7, 14, 24, 5], [23, 3, 2, 21, 29, 10]]\n",
            "[[6, 12, 22, 26, 25, 28], [1, 4, 11, 9, 18, 16], [13, 8, 17, 0, 20, 15], [19, 27, 7, 14, 24, 5], [23, 3, 2, 21, 29, 10]]\n"
          ]
        }
      ]
    },
    {
      "cell_type": "markdown",
      "source": [],
      "metadata": {
        "id": "aefSH5-LeMq0"
      }
    },
    {
      "cell_type": "markdown",
      "metadata": {
        "id": "eGDB4K6uk1iN"
      },
      "source": [
        "(*)Calcula la complejidad del algoritmo"
      ]
    },
    {
      "cell_type": "markdown",
      "metadata": {
        "id": "NhpTh_BPk1ms"
      },
      "source": [
        "Respuesta"
      ]
    },
    {
      "cell_type": "code",
      "metadata": {
        "id": "nREzhkStlCq8"
      },
      "source": [
        "#calcula su complejidad anterior"
      ],
      "execution_count": null,
      "outputs": []
    },
    {
      "cell_type": "markdown",
      "metadata": {
        "id": "3M6QjTsSkmYe"
      },
      "source": [
        "Según el problema (y tenga sentido), diseña un juego de datos de entrada aleatorios"
      ]
    },
    {
      "cell_type": "markdown",
      "metadata": {
        "id": "Jc3_OlyNkvjZ"
      },
      "source": [
        "Respuesta"
      ]
    },
    {
      "cell_type": "code",
      "metadata": {
        "id": "sJ-N2etjkyWc"
      },
      "source": [
        "#cambia el set y prueba el algortimo con este nuevo set."
      ],
      "execution_count": null,
      "outputs": []
    },
    {
      "cell_type": "markdown",
      "metadata": {
        "id": "zy5ZROmjlGo1"
      },
      "source": [
        "Aplica el algoritmo al juego de datos generado"
      ]
    },
    {
      "cell_type": "markdown",
      "metadata": {
        "id": "_Cmj-PVylMsa"
      },
      "source": [
        "Respuesta"
      ]
    },
    {
      "cell_type": "code",
      "metadata": {
        "id": "Jkx8GeiYlUz1"
      },
      "source": [
        "# el algortimo con este nuevo set."
      ],
      "execution_count": null,
      "outputs": []
    },
    {
      "cell_type": "markdown",
      "metadata": {
        "id": "eTFWUJQrtGcv"
      },
      "source": [
        "Enumera las referencias que has utilizado(si ha sido necesario) para llevar a cabo el trabajo"
      ]
    },
    {
      "cell_type": "markdown",
      "metadata": {
        "id": "YKQ_mRBttWsP"
      },
      "source": [
        "Respuesta"
      ]
    },
    {
      "cell_type": "markdown",
      "metadata": {
        "id": "kAkDPUyRtYyH"
      },
      "source": [
        "Describe brevemente las lineas de como crees que es posible avanzar en el estudio del problema. Ten en cuenta incluso posibles variaciones del problema y/o variaciones al alza del tamaño"
      ]
    },
    {
      "cell_type": "markdown",
      "metadata": {
        "id": "IE0uZmo-tZu-"
      },
      "source": [
        "Respuesta"
      ]
    },
    {
      "cell_type": "markdown",
      "source": [
        "la gente suele caer\n",
        "- la combinatoria es un orden de complejidad (la complejidad como crece el numer de ooperaciones con respecto al tamanio del problema) (la combinatoria es el tamani de combinacines para un un numero determinaro del problema.)\n",
        "- si tu codigo de fuerza bruta no corre. genera un tamani mas pequeni para que puedas ejecutarlo.\n",
        "- heuristica =! aleatorio.\n",
        "- tecnica voraz, tiene que tener un algoritmo.\n",
        "- si cargas el algoritmo en el solver , diseni de algoritmo bajo.\n"
      ],
      "metadata": {
        "id": "dirn7Y1G0NMU"
      }
    }
  ]
}