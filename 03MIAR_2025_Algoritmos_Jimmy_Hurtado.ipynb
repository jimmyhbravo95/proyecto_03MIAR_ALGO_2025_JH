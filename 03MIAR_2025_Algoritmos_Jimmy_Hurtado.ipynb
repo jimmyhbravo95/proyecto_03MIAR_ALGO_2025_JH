{
  "nbformat": 4,
  "nbformat_minor": 0,
  "metadata": {
    "colab": {
      "provenance": [],
      "include_colab_link": true
    },
    "kernelspec": {
      "name": "python3",
      "display_name": "Python 3"
    }
  },
  "cells": [
    {
      "cell_type": "markdown",
      "metadata": {
        "id": "view-in-github",
        "colab_type": "text"
      },
      "source": [
        "<a href=\"https://colab.research.google.com/github/jimmyhbravo95/proyecto_03MIAR_ALGO_2025_JH/blob/main/03MIAR_2025_Algoritmos_Jimmy_Hurtado.ipynb\" target=\"_parent\"><img src=\"https://colab.research.google.com/assets/colab-badge.svg\" alt=\"Open In Colab\"/></a>"
      ]
    },
    {
      "cell_type": "markdown",
      "metadata": {
        "id": "hVbXYX-RfPWh"
      },
      "source": [
        "# Algoritmos de optimización - 2025 - proyecto final<br>\n",
        "Nombre y Apellidos: Jimmy Manuel Hurtado Bravo  <br>\n",
        "Url: https://github.com/jimmyhbravo95/proyecto_03MIAR_ALGO_2025_JH.git<br>\n",
        "Problemas:\n",
        "> 1. Sesiones de doblaje <br>\n",
        "> 2. Organizar los horarios de partidos de La Liga<br>\n",
        "> 3. Combinar cifras y operaciones\n",
        "\n",
        "Descripción del problema escogido: **Organizar sesiones de doblaje(I)**\n",
        "\n",
        "Se precisa coordinar el doblaje de una película. Los actores del doblaje deben coincidir en las tomas en las que sus personajes aparecen juntos en las diferentes tomas. Los actores de doblaje cobran todos la misma cantidad por cada día que deben desplazarse hasta el estudio de grabación independientemente del número de tomas que se graben. No es posible grabar más de 6 tomas por día. El objetivo es planificar las sesiones por día de manera que el gasto por los\n",
        "servicios de los actores de doblaje sea el menor posible. Los datos son: <br>\n",
        "\n",
        " Número de actores: 10 <br>\n",
        "Número de tomas :   30 <br>\n",
        "Actores/Tomas : https://bit.ly/36D8IuK <br>\n",
        "\n",
        " 1 indica que el actor participa en la toma <br>\n",
        " 0 en caso contrario <br>\n",
        "\n",
        "(*) La respuesta es obligatoria <br>\n",
        "\n",
        "\n",
        "\n",
        "\n",
        "\n",
        "                                        "
      ]
    },
    {
      "cell_type": "markdown",
      "source": [
        "- hallar el minimo. <br>\n",
        "alinear tomas con agentes en comun. <br>\n",
        "--------------------------------------------------------\n"
      ],
      "metadata": {
        "id": "uUWZxORYxOOF"
      }
    },
    {
      "cell_type": "markdown",
      "metadata": {
        "id": "3_-exlrTgLd-"
      },
      "source": [
        "(*)¿Cuantas posibilidades hay sin tener en cuenta las restricciones?<br>\n",
        "\n",
        "\n",
        "\n",
        "¿Cuantas posibilidades hay teniendo en cuenta todas las restricciones.\n",
        "\n",
        "\n"
      ]
    },
    {
      "cell_type": "markdown",
      "metadata": {
        "id": "WfCUqJyKhPcw"
      },
      "source": [
        "respuesta ¿Cuantas posibilidades hay sin tener en cuenta las restricciones? <br>\n",
        "Sin tener en cuenta la restriccion, seria hacer todas las tomas en 1 solo dia, por lo que se tendrian que pagar 10 sueldos solamente.\n",
        "- combinatoria sin restriccines = 10 sueldos a pagar.\n",
        "\n",
        "respuesta ¿Cuantas posibilidades hay teniendo en cuenta todas las restricciones. <br>\n",
        "Tomando en cuenta que serian 6 tomas por dia como maximo, al ser 30 tomas en total. serian 6 tomas por dia y en el peor de los casos serian los 10 actores que vengan esos 5 dias.\n",
        "- combinatoria con restriccines (6 tomas por dia) = 5*10 = 50 sueldos a pagar"
      ]
    },
    {
      "cell_type": "markdown",
      "metadata": {
        "id": "dzynfVJahHoY"
      },
      "source": [
        "Modelo para el espacio de soluciones<br>\n",
        "(*) ¿Cual es la estructura de datos que mejor se adapta al problema? Argumentalo.(Es posible que hayas elegido una al principio y veas la necesidad de cambiar, arguentalo)\n"
      ]
    },
    {
      "cell_type": "markdown",
      "metadata": {
        "id": "xFIJrOwKi2Ti"
      },
      "source": [
        "Respuesta"
      ]
    },
    {
      "cell_type": "code",
      "metadata": {
        "id": "38c-7-ejhJmA",
        "colab": {
          "base_uri": "https://localhost:8080/"
        },
        "outputId": "b49be5d0-82e5-401e-d880-6c74079bb662"
      },
      "source": [
        "#que estructura de datos se adapta mejor.\n",
        "\n",
        "#Creo que se adapta mejor las listas, hacer una lista de listas como la siguiente\n",
        "#Por el momento es la primera estructura de datos escogida y se tomo esta debido a que permite por su forma matricial tener el cuadro de doble entrada de actores y tomas.\n",
        "# las filas representan las tomas y las columnas los actores.\n",
        "#  T O M A\n",
        "# A\n",
        "# C\n",
        "# T\n",
        "# O\n",
        "# R\n",
        "\n",
        "dataset = [\n",
        "[1,1,1,1,1,0,0,0,0,0],\n",
        "[0,0,1,1,1,0,0,0,0,0],\n",
        "[0,1,0,0,1,0,1,0,0,0],\n",
        "[1,1,0,0,0,0,1,1,0,0],\n",
        "[0,1,0,1,0,0,0,1,0,0],\n",
        "[1,1,0,1,1,0,0,0,0,0],\n",
        "[1,1,0,1,1,0,0,0,0,0],\n",
        "[1,1,0,0,0,1,0,0,0,0],\n",
        "[1,1,0,1,0,0,0,0,0,0],\n",
        "[1,1,0,0,0,1,0,0,1,0],\n",
        "[1,1,1,0,1,0,0,1,0,0],\n",
        "[1,1,1,1,0,1,0,0,0,0],\n",
        "[1,0,0,1,1,0,0,0,0,0],\n",
        "[1,0,1,0,0,1,0,0,0,0],\n",
        "[1,1,0,0,0,0,1,0,0,0],\n",
        "[0,0,0,1,0,0,0,0,0,1],\n",
        "[1,0,1,0,0,0,0,0,0,0],\n",
        "[0,0,1,0,0,1,0,0,0,0],\n",
        "[1,0,1,0,0,0,0,0,0,0],\n",
        "[1,0,1,1,1,0,0,0,0,0],\n",
        "[0,0,0,0,0,1,0,1,0,0],\n",
        "[1,1,1,1,0,0,0,0,0,0],\n",
        "[1,0,1,0,0,0,0,0,0,0],\n",
        "[0,0,1,0,0,1,0,0,0,0],\n",
        "[1,1,0,1,0,0,0,0,0,1],\n",
        "[1,0,1,0,1,0,0,0,1,0],\n",
        "[0,0,0,1,1,0,0,0,0,0],\n",
        "[1,0,0,1,0,0,0,0,0,0],\n",
        "[1,0,0,0,1,1,0,0,0,0],\n",
        "[1,0,0,1,0,0,0,0,0,0]]\n",
        "\n",
        "print(dataset)"
      ],
      "execution_count": 3,
      "outputs": [
        {
          "output_type": "stream",
          "name": "stdout",
          "text": [
            "[[1, 1, 1, 1, 1, 0, 0, 0, 0, 0], [0, 0, 1, 1, 1, 0, 0, 0, 0, 0], [0, 1, 0, 0, 1, 0, 1, 0, 0, 0], [1, 1, 0, 0, 0, 0, 1, 1, 0, 0], [0, 1, 0, 1, 0, 0, 0, 1, 0, 0], [1, 1, 0, 1, 1, 0, 0, 0, 0, 0], [1, 1, 0, 1, 1, 0, 0, 0, 0, 0], [1, 1, 0, 0, 0, 1, 0, 0, 0, 0], [1, 1, 0, 1, 0, 0, 0, 0, 0, 0], [1, 1, 0, 0, 0, 1, 0, 0, 1, 0], [1, 1, 1, 0, 1, 0, 0, 1, 0, 0], [1, 1, 1, 1, 0, 1, 0, 0, 0, 0], [1, 0, 0, 1, 1, 0, 0, 0, 0, 0], [1, 0, 1, 0, 0, 1, 0, 0, 0, 0], [1, 1, 0, 0, 0, 0, 1, 0, 0, 0], [0, 0, 0, 1, 0, 0, 0, 0, 0, 1], [1, 0, 1, 0, 0, 0, 0, 0, 0, 0], [0, 0, 1, 0, 0, 1, 0, 0, 0, 0], [1, 0, 1, 0, 0, 0, 0, 0, 0, 0], [1, 0, 1, 1, 1, 0, 0, 0, 0, 0], [0, 0, 0, 0, 0, 1, 0, 1, 0, 0], [1, 1, 1, 1, 0, 0, 0, 0, 0, 0], [1, 0, 1, 0, 0, 0, 0, 0, 0, 0], [0, 0, 1, 0, 0, 1, 0, 0, 0, 0], [1, 1, 0, 1, 0, 0, 0, 0, 0, 1], [1, 0, 1, 0, 1, 0, 0, 0, 1, 0], [0, 0, 0, 1, 1, 0, 0, 0, 0, 0], [1, 0, 0, 1, 0, 0, 0, 0, 0, 0], [1, 0, 0, 0, 1, 1, 0, 0, 0, 0], [1, 0, 0, 1, 0, 0, 0, 0, 0, 0]]\n"
          ]
        }
      ]
    },
    {
      "cell_type": "markdown",
      "metadata": {
        "id": "7Z9U2W7bi-XS"
      },
      "source": [
        "Según el modelo para el espacio de soluciones<br>\n",
        "(*)¿Cual es la función objetivo?\n",
        "\n",
        "(*)¿Es un problema de maximización o minimización?"
      ]
    },
    {
      "cell_type": "markdown",
      "metadata": {
        "id": "hBalWLM7j1_d"
      },
      "source": [
        "Respuesta"
      ]
    },
    {
      "cell_type": "code",
      "metadata": {
        "id": "pDA-rg3Gj5Lz"
      },
      "source": [
        "# define la funcion objetivo\n",
        "# problema de minimizacion."
      ],
      "execution_count": null,
      "outputs": []
    },
    {
      "cell_type": "markdown",
      "metadata": {
        "id": "rlnTYgY1j6I2"
      },
      "source": [
        "Diseña un algoritmo para resolver el problema por fuerza bruta"
      ]
    },
    {
      "cell_type": "markdown",
      "metadata": {
        "id": "70rDgxYXkC8r"
      },
      "source": [
        "Respuesta"
      ]
    },
    {
      "cell_type": "code",
      "metadata": {
        "id": "CJb5sQ0qkENy"
      },
      "source": [
        "#por fuerza bruta."
      ],
      "execution_count": null,
      "outputs": []
    },
    {
      "cell_type": "markdown",
      "metadata": {
        "id": "tgrnsC2nkFa8"
      },
      "source": [
        "Calcula la complejidad del algoritmo por fuerza bruta"
      ]
    },
    {
      "cell_type": "markdown",
      "metadata": {
        "id": "9eUd3xwckP68"
      },
      "source": [
        "Respuesta"
      ]
    },
    {
      "cell_type": "code",
      "metadata": {
        "id": "rvZWwL-ckRST"
      },
      "source": [
        "# calcula su complejidad On2"
      ],
      "execution_count": null,
      "outputs": []
    },
    {
      "cell_type": "markdown",
      "metadata": {
        "id": "txbrmLmskReM"
      },
      "source": [
        "(*)Diseña un algoritmo que mejore la complejidad del algortimo por fuerza bruta. Argumenta porque crees que mejora el algoritmo por fuerza bruta"
      ]
    },
    {
      "cell_type": "markdown",
      "metadata": {
        "id": "hLrVwt5QkZPD"
      },
      "source": [
        "Respuesta"
      ]
    },
    {
      "cell_type": "code",
      "metadata": {
        "id": "m1eyM21Vkabg"
      },
      "source": [
        "#define un algoritmo que mejore la complejidad de fuerza bruta anterior"
      ],
      "execution_count": null,
      "outputs": []
    },
    {
      "cell_type": "markdown",
      "metadata": {
        "id": "eGDB4K6uk1iN"
      },
      "source": [
        "(*)Calcula la complejidad del algoritmo"
      ]
    },
    {
      "cell_type": "markdown",
      "metadata": {
        "id": "NhpTh_BPk1ms"
      },
      "source": [
        "Respuesta"
      ]
    },
    {
      "cell_type": "code",
      "metadata": {
        "id": "nREzhkStlCq8"
      },
      "source": [
        "#calcula su complejidad anterior"
      ],
      "execution_count": null,
      "outputs": []
    },
    {
      "cell_type": "markdown",
      "metadata": {
        "id": "3M6QjTsSkmYe"
      },
      "source": [
        "Según el problema (y tenga sentido), diseña un juego de datos de entrada aleatorios"
      ]
    },
    {
      "cell_type": "markdown",
      "metadata": {
        "id": "Jc3_OlyNkvjZ"
      },
      "source": [
        "Respuesta"
      ]
    },
    {
      "cell_type": "code",
      "metadata": {
        "id": "sJ-N2etjkyWc"
      },
      "source": [
        "#cambia el set y prueba el algortimo con este nuevo set."
      ],
      "execution_count": null,
      "outputs": []
    },
    {
      "cell_type": "markdown",
      "metadata": {
        "id": "zy5ZROmjlGo1"
      },
      "source": [
        "Aplica el algoritmo al juego de datos generado"
      ]
    },
    {
      "cell_type": "markdown",
      "metadata": {
        "id": "_Cmj-PVylMsa"
      },
      "source": [
        "Respuesta"
      ]
    },
    {
      "cell_type": "code",
      "metadata": {
        "id": "Jkx8GeiYlUz1"
      },
      "source": [
        "# el algortimo con este nuevo set."
      ],
      "execution_count": null,
      "outputs": []
    },
    {
      "cell_type": "markdown",
      "metadata": {
        "id": "eTFWUJQrtGcv"
      },
      "source": [
        "Enumera las referencias que has utilizado(si ha sido necesario) para llevar a cabo el trabajo"
      ]
    },
    {
      "cell_type": "markdown",
      "metadata": {
        "id": "YKQ_mRBttWsP"
      },
      "source": [
        "Respuesta"
      ]
    },
    {
      "cell_type": "markdown",
      "metadata": {
        "id": "kAkDPUyRtYyH"
      },
      "source": [
        "Describe brevemente las lineas de como crees que es posible avanzar en el estudio del problema. Ten en cuenta incluso posibles variaciones del problema y/o variaciones al alza del tamaño"
      ]
    },
    {
      "cell_type": "markdown",
      "metadata": {
        "id": "IE0uZmo-tZu-"
      },
      "source": [
        "Respuesta"
      ]
    },
    {
      "cell_type": "markdown",
      "source": [
        "la gente suele caer\n",
        "- la combinatoria es un orden de complejidad (la complejidad como crece el numer de ooperaciones con respecto al tamanio del problema) (la combinatoria es el tamani de combinacines para un un numero determinaro del problema.)\n",
        "- si tu codigo de fuerza bruta no corre. genera un tamani mas pequeni para que puedas ejecutarlo.\n",
        "- heuristica =! aleatorio.\n",
        "- tecnica voraz, tiene que tener un algoritmo.\n",
        "- si cargas el algoritmo en el solver , diseni de algoritmo bajo.\n"
      ],
      "metadata": {
        "id": "dirn7Y1G0NMU"
      }
    }
  ]
}